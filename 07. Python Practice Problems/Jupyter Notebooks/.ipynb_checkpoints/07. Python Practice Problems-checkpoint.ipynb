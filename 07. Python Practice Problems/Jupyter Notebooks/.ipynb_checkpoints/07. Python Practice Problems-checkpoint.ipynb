{
 "cells": [
  {
   "cell_type": "markdown",
   "metadata": {},
   "source": [
    "# Part-I Coding Questions"
   ]
  },
  {
   "cell_type": "markdown",
   "metadata": {},
   "source": [
    "# DELHI'S ODD EVEN"
   ]
  },
  {
   "cell_type": "code",
   "execution_count": 2,
   "metadata": {},
   "outputs": [
    {
     "name": "stdout",
     "output_type": "stream",
     "text": [
      "2\n",
      "12345\n",
      "Yes\n",
      "12134\n",
      "No\n"
     ]
    }
   ],
   "source": [
    "N=int(input())\n",
    "for i in range(N):\n",
    "    CarNo=int(input())\n",
    "    odd=0\n",
    "    even=0\n",
    "    while CarNo > 0:\n",
    "        if (CarNo%10)%2==1:\n",
    "            odd+=CarNo%10\n",
    "        else:\n",
    "            even+=CarNo%10\n",
    "        CarNo=int(CarNo/10)\n",
    "    if odd%3==0 or even%4==0:\n",
    "        print(\"Yes\")\n",
    "    else:\n",
    "        print(\"No\")"
   ]
  },
  {
   "cell_type": "markdown",
   "metadata": {},
   "source": [
    "# BINARY TO DECIMAL"
   ]
  },
  {
   "cell_type": "code",
   "execution_count": 3,
   "metadata": {},
   "outputs": [
    {
     "name": "stdout",
     "output_type": "stream",
     "text": [
      "101010\n",
      "42\n"
     ]
    }
   ],
   "source": [
    "N=int(input())\n",
    "d=0\n",
    "for i in range(len(str(N))):\n",
    "    d+=pow(2,i)*(N%10)\n",
    "    N=int(N/10)\n",
    "print(d)"
   ]
  },
  {
   "cell_type": "markdown",
   "metadata": {},
   "source": [
    "# SIMPLE INPUT"
   ]
  },
  {
   "cell_type": "code",
   "execution_count": 4,
   "metadata": {},
   "outputs": [
    {
     "name": "stdout",
     "output_type": "stream",
     "text": [
      "1\n",
      "1\n",
      "2\n",
      "2\n",
      "88\n",
      "88\n",
      "-100\n"
     ]
    }
   ],
   "source": [
    "cs=0\n",
    "while True:\n",
    "    N=int(input())\n",
    "    cs+=N\n",
    "    if cs<0:\n",
    "        break\n",
    "    print(N)"
   ]
  },
  {
   "cell_type": "markdown",
   "metadata": {},
   "source": [
    "# CHECK PRIME"
   ]
  },
  {
   "cell_type": "code",
   "execution_count": 5,
   "metadata": {},
   "outputs": [
    {
     "name": "stdout",
     "output_type": "stream",
     "text": [
      "3\n",
      "Prime\n"
     ]
    }
   ],
   "source": [
    "N=int(input())\n",
    "count=0\n",
    "for i in range(3,N):\n",
    "    if N%i==0:\n",
    "        count+=1\n",
    "if count==0:\n",
    "    print(\"Prime\")\n",
    "else:\n",
    "    print(\"Not Prime\")"
   ]
  },
  {
   "cell_type": "markdown",
   "metadata": {},
   "source": [
    "# SQUARE ROOT TO PRECISION"
   ]
  },
  {
   "cell_type": "code",
   "execution_count": 7,
   "metadata": {},
   "outputs": [
    {
     "name": "stdout",
     "output_type": "stream",
     "text": [
      "27\n",
      "2\n",
      "5.19"
     ]
    }
   ],
   "source": [
    "from math import *\n",
    "N=int(input())\n",
    "P=int(input())\n",
    "s=str(sqrt(N))\n",
    "for i in range(len(s)):\n",
    "    if s[i]=='.':\n",
    "        while P>=0:\n",
    "            print(s[i],end='')\n",
    "            i+=1\n",
    "            P-=1\n",
    "        if P<0:\n",
    "            break\n",
    "    print(s[i],end='')             "
   ]
  },
  {
   "cell_type": "markdown",
   "metadata": {},
   "source": [
    "# PYTHAGOREAN'S CHALLENGE"
   ]
  },
  {
   "cell_type": "code",
   "execution_count": 1,
   "metadata": {},
   "outputs": [
    {
     "name": "stdout",
     "output_type": "stream",
     "text": [
      "3\n",
      "1\n",
      "(0,1) \n",
      "9\n",
      "(0,3) \n",
      "25\n",
      "(0,5) (3,4) \n"
     ]
    }
   ],
   "source": [
    "from math import *\n",
    "\n",
    "N=int(input())\n",
    "for i in range(N):\n",
    "    A=int(input())\n",
    "    for j in range(int(sqrt(A+1))):\n",
    "        for k in range(j,A+1):\n",
    "            if pow(j,2)+pow(k,2)==A:\n",
    "                print('('+str(j)+\",\"+str(k)+')',end=' ')\n",
    "    print()"
   ]
  },
  {
   "cell_type": "markdown",
   "metadata": {},
   "source": [
    "# QUICKSORT"
   ]
  },
  {
   "cell_type": "code",
   "execution_count": 2,
   "metadata": {},
   "outputs": [
    {
     "name": "stdout",
     "output_type": "stream",
     "text": [
      "5\n",
      "3 6 4 1 2\n",
      "1 2 3 4 6 "
     ]
    }
   ],
   "source": [
    "from random import *\n",
    "\n",
    "def randomise(arr,start,end):\n",
    "    r=randint(start+1,end)\n",
    "    arr[r],arr[end]=arr[end],arr[r]\n",
    "    return partition(arr,start,end)\n",
    "\n",
    "def partition(arr,start,end):\n",
    "    i=start-1\n",
    "    pivot=arr[end]\n",
    "    \n",
    "    for j in range(start,end):\n",
    "        if arr[j]<=pivot:\n",
    "            i+=1 \n",
    "            arr[i],arr[j]=arr[j],arr[i]\n",
    "    arr[i+1],arr[end]=arr[end],arr[i+1]\n",
    "    return i+1 \n",
    "    \n",
    "def quickSort(arr,start,end):\n",
    "    if start<end:\n",
    "        pi=randomise(arr,start,end)\n",
    "        quickSort(arr,start,pi-1)\n",
    "        quickSort(arr,pi+1,end)"
   ]
  },
  {
   "cell_type": "markdown",
   "metadata": {},
   "source": [
    "# MERGESORT"
   ]
  },
  {
   "cell_type": "code",
   "execution_count": 3,
   "metadata": {},
   "outputs": [
    {
     "name": "stdout",
     "output_type": "stream",
     "text": [
      "5\n",
      "3 6 4 1 2\n",
      "1 2 3 4 6 "
     ]
    }
   ],
   "source": [
    "def mergeSort(arr):\n",
    "    if len(arr)>1:\n",
    "        mid = len(arr)//2\n",
    "        L=arr[:mid]\n",
    "        R=arr[mid:]\n",
    "    \n",
    "        mergeSort(L)\n",
    "        mergeSort(R)\n",
    "    \n",
    "        i=j=k=0\n",
    "    \n",
    "        while i<len(L) and j<len(R):\n",
    "            if L[i]<R[j]:\n",
    "                arr[k]=L[i]\n",
    "                i+=1 \n",
    "            else:\n",
    "                arr[k]=R[j]\n",
    "                j+=1 \n",
    "            k+=1 \n",
    "        \n",
    "        while i<len(L):\n",
    "            arr[k]=L[i]\n",
    "            i+=1 \n",
    "            k+=1 \n",
    "        \n",
    "        while j<len(R):\n",
    "            arr[k]=R[j]\n",
    "            j+=1 \n",
    "            k+=1 \n",
    "        \n",
    "N=int(input())\n",
    "arr=list(map(int,input().split()))\n",
    "mergeSort(arr)\n",
    "for i in range(N):\n",
    "    print(arr[i],end=' ')"
   ]
  },
  {
   "cell_type": "markdown",
   "metadata": {},
   "source": [
    "# GENERATE PARENTHESES"
   ]
  },
  {
   "cell_type": "code",
   "execution_count": 4,
   "metadata": {},
   "outputs": [
    {
     "name": "stdout",
     "output_type": "stream",
     "text": [
      "3\n",
      "()()()\n",
      "()(())\n",
      "(())()\n",
      "(()())\n",
      "((()))\n"
     ]
    }
   ],
   "source": [
    "def genParanthesis(openB,closeB,n,s=[]):\n",
    "\t#Base Case\n",
    "\tif closeB==n:\n",
    "\t\t#print(s)\n",
    "\t\t#To print not as a '(' but directly (\n",
    "\t\tprint(''.join(s))\n",
    "\t\treturn\n",
    "\n",
    "\telse:\n",
    "\t\tif openB>closeB:\n",
    "\t\t\t#You can definitely put one closing bracket\n",
    "\t\t\ts.append(')')\n",
    "\t\t\tgenParanthesis(openB,closeB+1,n,s)\n",
    "\t\t\t#Backtracking\n",
    "\t\t\ts.pop()\n",
    "\n",
    "\t\tif(openB<n):\n",
    "\t\t\ts.append('(')\n",
    "\t\t\tgenParanthesis(openB+1,closeB,n,s)\n",
    "\t\t\ts.pop()\n",
    "\treturn\n",
    "\n",
    "N=int(input())\n",
    "genParanthesis(0,0,N)"
   ]
  },
  {
   "cell_type": "markdown",
   "metadata": {},
   "source": [
    "# PRINT FIBONACCI NUMBERS"
   ]
  },
  {
   "cell_type": "code",
   "execution_count": 5,
   "metadata": {},
   "outputs": [
    {
     "name": "stdout",
     "output_type": "stream",
     "text": [
      "11\n",
      "0\n",
      "1\n",
      "1\n",
      "2\n",
      "3\n",
      "5\n",
      "8\n"
     ]
    }
   ],
   "source": [
    "N=int(input())\n",
    "a=0\n",
    "b=1 \n",
    "while a<=N:\n",
    "    print(a)\n",
    "    c=a+b \n",
    "    a=b \n",
    "    b=c "
   ]
  },
  {
   "cell_type": "markdown",
   "metadata": {},
   "source": [
    "# PATTERN NUMBERS & STARS - 1"
   ]
  },
  {
   "cell_type": "code",
   "execution_count": 6,
   "metadata": {},
   "outputs": [
    {
     "name": "stdout",
     "output_type": "stream",
     "text": [
      "5\n",
      "1 2 3 4 5 \n",
      "1 2 3 4 * \n",
      "1 2 3 * * * \n",
      "1 2 * * * * * \n",
      "1 * * * * * * * \n"
     ]
    }
   ],
   "source": [
    "N=int(input())\n",
    "for i in range(0,N):\n",
    "    for j in range(1,N-i+1):\n",
    "        print(j,end=' ')\n",
    "    for j in range(i):\n",
    "        print('*',end=' ')\n",
    "    if i>0:\n",
    "      for j in range(i-1):\n",
    "            print('*',end=' ')\n",
    "    print()"
   ]
  },
  {
   "cell_type": "markdown",
   "metadata": {},
   "source": [
    "# PATTERN NUMBERS & STARS - 2"
   ]
  },
  {
   "cell_type": "code",
   "execution_count": 7,
   "metadata": {},
   "outputs": [
    {
     "name": "stdout",
     "output_type": "stream",
     "text": [
      "7\n",
      "1******\n",
      "12*****\n",
      "123****\n",
      "1234***\n",
      "12345**\n",
      "123456*\n",
      "1234567\n"
     ]
    }
   ],
   "source": [
    "N=int(input())\n",
    "for i in range(N):\n",
    "    for j in range(i+1):\n",
    "        print(j+1,end=\"\")\n",
    "    for j in range(N-i-1):\n",
    "        print(\"*\",end=\"\")\n",
    "    print()"
   ]
  },
  {
   "cell_type": "markdown",
   "metadata": {},
   "source": [
    "# PATTERN WITH ZEROS"
   ]
  },
  {
   "cell_type": "code",
   "execution_count": 8,
   "metadata": {},
   "outputs": [
    {
     "name": "stdout",
     "output_type": "stream",
     "text": [
      "5\n",
      "1\n",
      "2\t2\n",
      "3\t0\t3\n",
      "4\t0\t0\t4\n",
      "5\t0\t0\t0\t5\n"
     ]
    }
   ],
   "source": [
    "N=int(input())\n",
    "print(1)\n",
    "for i in range(2,N+1):\n",
    "    print(i,end='\\t')\n",
    "    for j in range(i-2):\n",
    "        print(0,end='\\t')\n",
    "    print(i)"
   ]
  },
  {
   "cell_type": "markdown",
   "metadata": {},
   "source": [
    "# PATTERN MOUNTAIN"
   ]
  },
  {
   "cell_type": "code",
   "execution_count": 9,
   "metadata": {},
   "outputs": [
    {
     "name": "stdout",
     "output_type": "stream",
     "text": [
      "5\n",
      "1\t\t\t\t\t\t\t\t1\t\n",
      "1\t2\t\t\t\t\t\t2\t1\t\n",
      "1\t2\t3\t\t\t\t3\t2\t1\t\n",
      "1\t2\t3\t4\t\t4\t3\t2\t1\t\n",
      "1\t2\t3\t4\t5\t4\t3\t2\t1\t\n"
     ]
    }
   ],
   "source": [
    "N=int(input())\n",
    "for i in range(1,N+1):\n",
    "    for j in range(1 ,i+1):\n",
    "        print(j,end='\\t')\n",
    "    for j in range(1,2*N-2*i):\n",
    "        print(end='\\t')\n",
    "    for j in range(i,0,-1):\n",
    "        if j!=N:\n",
    "          print(j,end='\\t')\n",
    "    print()"
   ]
  },
  {
   "cell_type": "markdown",
   "metadata": {},
   "source": [
    "# REVISING QUADRATIC EQUATIONS"
   ]
  },
  {
   "cell_type": "code",
   "execution_count": 43,
   "metadata": {},
   "outputs": [
    {
     "name": "stdout",
     "output_type": "stream",
     "text": [
      "1 -11 28\n",
      "real and distinct\n",
      "4 7\n"
     ]
    }
   ],
   "source": [
    "from math import *\n",
    "a,b,c=map(int,input().split())\n",
    "\n",
    "D=pow(b,2)-4*a*c\n",
    "if D<0:\n",
    "    print('imaginary')\n",
    "elif D==0:\n",
    "    print('real and equal')\n",
    "    root=int(-b/(2*a))\n",
    "    print(root,end=' ')\n",
    "    print(root)\n",
    "else:\n",
    "    print('real and distinct')\n",
    "    root1=int((-b-sqrt(D))/(2*a))\n",
    "    root2=int((-b+sqrt(D))/(2*a))\n",
    "    print(root1,end=' ')\n",
    "    print(root2)"
   ]
  },
  {
   "cell_type": "markdown",
   "metadata": {},
   "source": [
    "# STRINGS-MAX FREQUENCY CHARACTER"
   ]
  },
  {
   "cell_type": "code",
   "execution_count": 41,
   "metadata": {},
   "outputs": [
    {
     "name": "stdout",
     "output_type": "stream",
     "text": [
      "aaabacb\n",
      "a\n"
     ]
    }
   ],
   "source": [
    "from collections import *\n",
    "s = input()\n",
    "print(Counter(s).most_common(1)[0][0])"
   ]
  },
  {
   "cell_type": "markdown",
   "metadata": {},
   "source": [
    "# STRINGS-TOGGLE CASE"
   ]
  },
  {
   "cell_type": "code",
   "execution_count": 10,
   "metadata": {},
   "outputs": [
    {
     "name": "stdout",
     "output_type": "stream",
     "text": [
      "abC\n",
      "ABc"
     ]
    }
   ],
   "source": [
    "S=input()\n",
    "for c in S:\n",
    "    if c.isupper():\n",
    "        print(c.lower(),end='')\n",
    "    else:\n",
    "        print(c.upper(),end='')"
   ]
  },
  {
   "cell_type": "markdown",
   "metadata": {},
   "source": [
    "# PRINT ALL TRIPLET"
   ]
  },
  {
   "cell_type": "code",
   "execution_count": 11,
   "metadata": {},
   "outputs": [
    {
     "name": "stdout",
     "output_type": "stream",
     "text": [
      "9\n",
      "5\n",
      "7\n",
      "9\n",
      "1\n",
      "2\n",
      "4\n",
      "6\n",
      "8\n",
      "3\n",
      "10\n",
      "1, 2 and 7\n",
      "1, 3 and 6\n",
      "1, 4 and 5\n",
      "2, 3 and 5\n"
     ]
    }
   ],
   "source": [
    "N=int(input())\n",
    "arr=[]\n",
    "for i in range(N):\n",
    "    arr.append(int(input()))\n",
    "arr.sort()\n",
    "target=int(input())\n",
    "for i in range(len(arr)):\n",
    "    for j in range(i+1,len(arr)):\n",
    "        for k in range(j+1,len(arr)):\n",
    "            if arr[i]+arr[j]+arr[k]==target:\n",
    "                print(arr[i],end=', ')\n",
    "                print(arr[j],end=' and ')\n",
    "                print(arr[k])"
   ]
  },
  {
   "cell_type": "markdown",
   "metadata": {},
   "source": [
    "# Part-II Thinking Questions "
   ]
  },
  {
   "cell_type": "markdown",
   "metadata": {},
   "source": [
    "## 1. Write a Function to calculate length of a list and sort in in reverse order."
   ]
  },
  {
   "cell_type": "code",
   "execution_count": 2,
   "metadata": {},
   "outputs": [
    {
     "name": "stdout",
     "output_type": "stream",
     "text": [
      "8\n",
      "[1, 2, 2, 2, 4, 5, 5, 6]\n"
     ]
    }
   ],
   "source": [
    "def function(arr):\n",
    "    print(len(arr))\n",
    "    arr=arr.sort()\n",
    "    return arr\n",
    "\n",
    "arr=[1,4,2,5,2,5,6,2]\n",
    "function(arr)\n",
    "print(arr)"
   ]
  },
  {
   "cell_type": "markdown",
   "metadata": {},
   "source": [
    "## 2. Implement QuickSort on List (using fewer lines of code)."
   ]
  },
  {
   "cell_type": "code",
   "execution_count": 3,
   "metadata": {},
   "outputs": [
    {
     "name": "stdout",
     "output_type": "stream",
     "text": [
      "[1, 1, 2, 3, 6, 8, 10]\n"
     ]
    }
   ],
   "source": [
    "def quicksort(arr):\n",
    "    if len(arr) <= 1:\n",
    "        return arr\n",
    "    pivot = arr[len(arr) // 2]\n",
    "    left = [x for x in arr if x < pivot]\n",
    "    middle = [x for x in arr if x == pivot]\n",
    "    right = [x for x in arr if x > pivot]\n",
    "    return quicksort(left) + middle + quicksort(right)\n",
    "\n",
    "print(quicksort([3,6,8,10,1,2,1]))"
   ]
  },
  {
   "cell_type": "markdown",
   "metadata": {},
   "source": [
    "## 3. which will create a list:\n",
    "\n",
    "### some_list = list()\n",
    "### some_list = list([1, 2, 3])\n",
    "### some_list = [1, 2, 3]\n",
    "### some_list = list(1, 2, 3)"
   ]
  },
  {
   "cell_type": "code",
   "execution_count": 4,
   "metadata": {},
   "outputs": [
    {
     "name": "stdout",
     "output_type": "stream",
     "text": [
      "[]\n"
     ]
    }
   ],
   "source": [
    "some_list=list()\n",
    "print(some_list)"
   ]
  },
  {
   "cell_type": "code",
   "execution_count": 5,
   "metadata": {},
   "outputs": [
    {
     "name": "stdout",
     "output_type": "stream",
     "text": [
      "[1, 2, 3]\n"
     ]
    }
   ],
   "source": [
    "some_list=list([1,2,3])\n",
    "print(some_list)"
   ]
  },
  {
   "cell_type": "code",
   "execution_count": 7,
   "metadata": {},
   "outputs": [
    {
     "name": "stdout",
     "output_type": "stream",
     "text": [
      "[1, 2, 3]\n"
     ]
    }
   ],
   "source": [
    "some_list=[1,2,3]\n",
    "print(some_list)"
   ]
  },
  {
   "cell_type": "code",
   "execution_count": 8,
   "metadata": {},
   "outputs": [
    {
     "ename": "TypeError",
     "evalue": "list() takes at most 1 argument (3 given)",
     "output_type": "error",
     "traceback": [
      "\u001b[0;31m---------------------------------------------------------------------------\u001b[0m",
      "\u001b[0;31mTypeError\u001b[0m                                 Traceback (most recent call last)",
      "\u001b[0;32m<ipython-input-8-35a896584754>\u001b[0m in \u001b[0;36m<module>\u001b[0;34m\u001b[0m\n\u001b[0;32m----> 1\u001b[0;31m \u001b[0msome_list\u001b[0m\u001b[0;34m=\u001b[0m\u001b[0mlist\u001b[0m\u001b[0;34m(\u001b[0m\u001b[0;36m1\u001b[0m\u001b[0;34m,\u001b[0m\u001b[0;36m2\u001b[0m\u001b[0;34m,\u001b[0m\u001b[0;36m3\u001b[0m\u001b[0;34m)\u001b[0m\u001b[0;34m\u001b[0m\u001b[0;34m\u001b[0m\u001b[0m\n\u001b[0m\u001b[1;32m      2\u001b[0m \u001b[0mprint\u001b[0m\u001b[0;34m(\u001b[0m\u001b[0msome_list\u001b[0m\u001b[0;34m)\u001b[0m\u001b[0;34m\u001b[0m\u001b[0;34m\u001b[0m\u001b[0m\n",
      "\u001b[0;31mTypeError\u001b[0m: list() takes at most 1 argument (3 given)"
     ]
    }
   ],
   "source": [
    "some_list=list(1,2,3)\n",
    "print(some_list)"
   ]
  },
  {
   "cell_type": "markdown",
   "metadata": {},
   "source": [
    "## 4. Let a list be s = [1, 3, 2, 1, 5, 3, 9] . Use min(s) , max(s) ,sum(s) . Also calculate the average of the list. "
   ]
  },
  {
   "cell_type": "code",
   "execution_count": 9,
   "metadata": {},
   "outputs": [
    {
     "name": "stdout",
     "output_type": "stream",
     "text": [
      "1\n",
      "9\n",
      "24\n",
      "Average : 3.4285714285714284\n"
     ]
    }
   ],
   "source": [
    "s=[1,3,2,1,5,3,9]\n",
    "print(min(s))\n",
    "print(max(s))\n",
    "print(sum(s))\n",
    "print(\"Average :\",sum(s)/len(s))"
   ]
  },
  {
   "cell_type": "markdown",
   "metadata": {},
   "source": [
    "## 5. use import random and call random.shuffle(some_list) to shuffle the contents of the list some_list ."
   ]
  },
  {
   "cell_type": "code",
   "execution_count": 10,
   "metadata": {},
   "outputs": [
    {
     "name": "stdout",
     "output_type": "stream",
     "text": [
      "[1, 2, 3]\n",
      "[3, 2, 1]\n"
     ]
    }
   ],
   "source": [
    "from random import *\n",
    "\n",
    "print(some_list)\n",
    "shuffle(some_list)\n",
    "print(some_list)"
   ]
  },
  {
   "cell_type": "markdown",
   "metadata": {},
   "source": [
    "## 6. print the last 3 elements of a list without using for loops."
   ]
  },
  {
   "cell_type": "code",
   "execution_count": 15,
   "metadata": {},
   "outputs": [
    {
     "name": "stdout",
     "output_type": "stream",
     "text": [
      "5 3 9 "
     ]
    }
   ],
   "source": [
    "s=[1,3,2,1,5,3,9]\n",
    "\n",
    "for i in range(-3,0):\n",
    "    print(s[i],end=' ')"
   ]
  },
  {
   "cell_type": "markdown",
   "metadata": {},
   "source": [
    "## 7. let some_list = [1, 2, 3, 6, 5, 1, 7, 3] . what is the output of: \n",
    "### some_list[:-1]\n",
    "### some_list[-4:-2]\n",
    "### some_list[2:-3]"
   ]
  },
  {
   "cell_type": "code",
   "execution_count": 16,
   "metadata": {},
   "outputs": [
    {
     "name": "stdout",
     "output_type": "stream",
     "text": [
      "[1, 2, 3, 6, 5, 1, 7]\n",
      "[5, 1]\n",
      "[3, 6, 5]\n"
     ]
    }
   ],
   "source": [
    "some_list = [1, 2, 3, 6, 5, 1, 7, 3] \n",
    "print(some_list[:-1])\n",
    "print(some_list[-4:-2])\n",
    "print(some_list[2:-3])"
   ]
  },
  {
   "cell_type": "markdown",
   "metadata": {},
   "source": [
    "## 8. Let this section of code\n",
    "### What should be the output?\n",
    "### Why is it different?\n",
    "### How to fix this?"
   ]
  },
  {
   "cell_type": "code",
   "execution_count": 17,
   "metadata": {},
   "outputs": [
    {
     "ename": "SyntaxError",
     "evalue": "Missing parentheses in call to 'print'. Did you mean print(\"list1 = %s\" % list1)? (<ipython-input-17-3df7d894bf47>, line 9)",
     "output_type": "error",
     "traceback": [
      "\u001b[0;36m  File \u001b[0;32m\"<ipython-input-17-3df7d894bf47>\"\u001b[0;36m, line \u001b[0;32m9\u001b[0m\n\u001b[0;31m    print \"list1 = %s\" % list1\u001b[0m\n\u001b[0m                     ^\u001b[0m\n\u001b[0;31mSyntaxError\u001b[0m\u001b[0;31m:\u001b[0m Missing parentheses in call to 'print'. Did you mean print(\"list1 = %s\" % list1)?\n"
     ]
    }
   ],
   "source": [
    "def extendList(val, list=[]):\n",
    "    list.append(val)\n",
    "    return list\n",
    "\n",
    "list1 = extendList(10)\n",
    "list2 = extendList(123,[])\n",
    "list3 = extendList('a')\n",
    "\n",
    "print \"list1 = %s\" % list1\n",
    "print \"list2 = %s\" % list2\n",
    "print \"list3 = %s\" % list3"
   ]
  },
  {
   "cell_type": "code",
   "execution_count": 18,
   "metadata": {},
   "outputs": [
    {
     "name": "stdout",
     "output_type": "stream",
     "text": [
      "list1 = [10, 'a']\n",
      "list2 = [123]\n",
      "list3 = [10, 'a']\n"
     ]
    }
   ],
   "source": [
    "def extendList(val, list=[]):\n",
    "    list.append(val)\n",
    "    return list\n",
    "\n",
    "list1 = extendList(10)\n",
    "list2 = extendList(123,[])\n",
    "list3 = extendList('a')\n",
    "\n",
    "print (\"list1 = %s\" % list1)\n",
    "print (\"list2 = %s\" % list2)\n",
    "print (\"list3 = %s\" % list3)"
   ]
  },
  {
   "cell_type": "markdown",
   "metadata": {},
   "source": [
    "## 9. Given some code using classes:\n",
    "### Why is output different from expected?\n",
    "### How can we fix this problem?"
   ]
  },
  {
   "cell_type": "code",
   "execution_count": 19,
   "metadata": {},
   "outputs": [
    {
     "ename": "SyntaxError",
     "evalue": "Missing parentheses in call to 'print'. Did you mean print(a.x)? (<ipython-input-19-cce2e02cd68b>, line 5)",
     "output_type": "error",
     "traceback": [
      "\u001b[0;36m  File \u001b[0;32m\"<ipython-input-19-cce2e02cd68b>\"\u001b[0;36m, line \u001b[0;32m5\u001b[0m\n\u001b[0;31m    print a.x\u001b[0m\n\u001b[0m          ^\u001b[0m\n\u001b[0;31mSyntaxError\u001b[0m\u001b[0;31m:\u001b[0m Missing parentheses in call to 'print'. Did you mean print(a.x)?\n"
     ]
    }
   ],
   "source": [
    "class A():\n",
    "    x = 1\n",
    "\n",
    "a = A()\n",
    "print a.x\n",
    "b = [A()] * 10\n",
    "\n",
    "for ix in b:\n",
    "    print ix.x\n",
    "\n",
    "b[2].x = 5\n",
    "\n",
    "for ix in b:\n",
    "    print ix.x"
   ]
  },
  {
   "cell_type": "code",
   "execution_count": 22,
   "metadata": {},
   "outputs": [
    {
     "name": "stdout",
     "output_type": "stream",
     "text": [
      "1\n",
      "1\n",
      "1\n",
      "1\n",
      "1\n",
      "1\n",
      "1\n",
      "1\n",
      "1\n",
      "1\n",
      "1\n",
      "5\n",
      "5\n",
      "5\n",
      "5\n",
      "5\n",
      "5\n",
      "5\n",
      "5\n",
      "5\n",
      "5\n"
     ]
    }
   ],
   "source": [
    "class A():\n",
    "    x = 1\n",
    "\n",
    "a = A()\n",
    "print (a.x)\n",
    "b = [A()] * 10\n",
    "\n",
    "for ix in b:\n",
    "    print (ix.x)\n",
    "\n",
    "b[2].x = 5\n",
    "\n",
    "for ix in b:\n",
    "    print (ix.x)"
   ]
  },
  {
   "cell_type": "markdown",
   "metadata": {},
   "source": [
    "## 10. use sorted in lists. consider the code below:\n",
    "### Sort the above list of objects using\n",
    "### a as key\n",
    "### b as key"
   ]
  },
  {
   "cell_type": "code",
   "execution_count": 23,
   "metadata": {},
   "outputs": [],
   "source": [
    "class Obj:\n",
    "    def __init__(self, a=0, b=1):\n",
    "        self.a = a\n",
    "        self.b = b\n",
    "\n",
    "if __name__ == \"__main__\":\n",
    "    objects = [Obj(1, 2), Obj(5, 4), Obj(7, 3),Obj(11, 42), Obj(8, 0), Obj(5, 9)]"
   ]
  },
  {
   "cell_type": "code",
   "execution_count": 27,
   "metadata": {},
   "outputs": [
    {
     "name": "stdout",
     "output_type": "stream",
     "text": [
      "1 2\n",
      "5 4\n",
      "5 9\n",
      "7 3\n",
      "8 0\n",
      "11 42\n"
     ]
    }
   ],
   "source": [
    "objects.sort(key=lambda x: x.a)\n",
    "for i in range(len(objects)):\n",
    "    print(objects[i].a,end=' ')\n",
    "    print(objects[i].b)"
   ]
  },
  {
   "cell_type": "code",
   "execution_count": 28,
   "metadata": {},
   "outputs": [
    {
     "name": "stdout",
     "output_type": "stream",
     "text": [
      "8 0\n",
      "1 2\n",
      "7 3\n",
      "5 4\n",
      "5 9\n",
      "11 42\n"
     ]
    }
   ],
   "source": [
    "objects.sort(key=lambda x: x.b)\n",
    "for i in range(len(objects)):\n",
    "    print(objects[i].a,end=' ')\n",
    "    print(objects[i].b)"
   ]
  },
  {
   "cell_type": "markdown",
   "metadata": {},
   "source": [
    "## 11. List and string slicing\n",
    "### s = \"This is introduction to python for web development\"\n",
    "### Obtain each word of the string in a list."
   ]
  },
  {
   "cell_type": "code",
   "execution_count": 32,
   "metadata": {},
   "outputs": [
    {
     "name": "stdout",
     "output_type": "stream",
     "text": [
      "['This', 'is', 'introduction', 'to', 'python', 'for', 'web', 'development']\n"
     ]
    }
   ],
   "source": [
    "s = \"This is introduction to python for web development\"\n",
    "l=s.split()\n",
    "print(l)"
   ]
  },
  {
   "cell_type": "markdown",
   "metadata": {},
   "source": [
    "## 12. Print Pyramid patterns using for and while loops\n",
    "### @\n",
    "### @@\n",
    "### @@@\n",
    "### @@@@\n",
    "### @@@@@"
   ]
  },
  {
   "cell_type": "code",
   "execution_count": 35,
   "metadata": {},
   "outputs": [
    {
     "name": "stdout",
     "output_type": "stream",
     "text": [
      "5\n",
      "@ \n",
      "@ @ \n",
      "@ @ @ \n",
      "@ @ @ @ \n",
      "@ @ @ @ @ \n"
     ]
    }
   ],
   "source": [
    "N=int(input())\n",
    "for i in range(N):\n",
    "    for j in range(i+1):\n",
    "        print('@',end=' ')\n",
    "    print()"
   ]
  },
  {
   "cell_type": "markdown",
   "metadata": {},
   "source": [
    "## 13. What will the following code print\n",
    "### 'a' is delimeter and 2 is the maximum no split allowed (0,1,2)"
   ]
  },
  {
   "cell_type": "code",
   "execution_count": 39,
   "metadata": {},
   "outputs": [
    {
     "ename": "SyntaxError",
     "evalue": "invalid syntax (<ipython-input-39-3b2188aca206>, line 2)",
     "output_type": "error",
     "traceback": [
      "\u001b[0;36m  File \u001b[0;32m\"<ipython-input-39-3b2188aca206>\"\u001b[0;36m, line \u001b[0;32m2\u001b[0m\n\u001b[0;31m    print some_string.split('a', 2)\u001b[0m\n\u001b[0m                    ^\u001b[0m\n\u001b[0;31mSyntaxError\u001b[0m\u001b[0;31m:\u001b[0m invalid syntax\n"
     ]
    }
   ],
   "source": [
    "some_string = \"abacdaegakialaop\"\n",
    "print some_string.split('a', 2)"
   ]
  },
  {
   "cell_type": "code",
   "execution_count": 40,
   "metadata": {},
   "outputs": [
    {
     "name": "stdout",
     "output_type": "stream",
     "text": [
      "['', 'b', 'cdaegakialaop']\n"
     ]
    }
   ],
   "source": [
    "some_string = \"abacdaegakialaop\"\n",
    "print (some_string.split('a', 2))"
   ]
  },
  {
   "cell_type": "markdown",
   "metadata": {},
   "source": [
    "## Increasing Decreasing Sequence"
   ]
  },
  {
   "cell_type": "code",
   "execution_count": 45,
   "metadata": {},
   "outputs": [
    {
     "name": "stdout",
     "output_type": "stream",
     "text": [
      "5\n",
      "1\n",
      "2\n",
      "3\n",
      "4\n",
      "5\n",
      "true\n"
     ]
    }
   ],
   "source": [
    "N=int(input())\n",
    "a=[]\n",
    "for i in range(N):\n",
    "  a.append(int(input()))\n",
    "index1=N-1\n",
    "index2=0\n",
    "for i in range(N-1):\n",
    "  if a[i]<=a[i+1]:\n",
    "    index1=i\n",
    "    break\n",
    "for i in range(N-1,0,-1):\n",
    "  if a[i]<=a[i-1]:\n",
    "    index2=i\n",
    "    break\n",
    "flag=True\n",
    "if index1!=index2:\n",
    "  flag=False\n",
    "if flag:\n",
    "  print(\"true\")\n",
    "else:\n",
    "  print(\"false\")"
   ]
  }
 ],
 "metadata": {
  "kernelspec": {
   "display_name": "Python 3",
   "language": "python",
   "name": "python3"
  },
  "language_info": {
   "codemirror_mode": {
    "name": "ipython",
    "version": 3
   },
   "file_extension": ".py",
   "mimetype": "text/x-python",
   "name": "python",
   "nbconvert_exporter": "python",
   "pygments_lexer": "ipython3",
   "version": "3.6.7"
  }
 },
 "nbformat": 4,
 "nbformat_minor": 2
}
