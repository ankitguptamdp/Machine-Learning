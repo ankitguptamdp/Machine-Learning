{
 "cells": [
  {
   "cell_type": "markdown",
   "metadata": {},
   "source": [
    "# Machine Learning Introduction Webinar "
   ]
  },
  {
   "cell_type": "code",
   "execution_count": 2,
   "metadata": {},
   "outputs": [],
   "source": [
    "import matplotlib.pyplot as plt\n",
    "import pandas as pd\n",
    "import numpy as np"
   ]
  },
  {
   "cell_type": "markdown",
   "metadata": {},
   "source": [
    "## Data (X) : Acidity of Milk \n",
    "## Data (Y) : Density of Milk"
   ]
  },
  {
   "cell_type": "code",
   "execution_count": 3,
   "metadata": {},
   "outputs": [],
   "source": [
    "def readData(filename):\n",
    "    df=pd.read_csv(filename)\n",
    "    # df means data frames\n",
    "    return df.values\n",
    "\n",
    "x=readData('../Csv Files/linearX.csv')\n",
    "y=readData('../Csv Files/linearY.csv')"
   ]
  },
  {
   "cell_type": "code",
   "execution_count": 3,
   "metadata": {},
   "outputs": [
    {
     "name": "stdout",
     "output_type": "stream",
     "text": [
      "[[ 8. ]\n",
      " [ 9.1]\n",
      " [ 8.4]\n",
      " [ 6.9]\n",
      " [ 7.7]\n",
      " [15.6]\n",
      " [ 7.3]\n",
      " [ 7. ]\n",
      " [ 7.2]\n",
      " [10.1]\n",
      " [11.5]\n",
      " [ 7.1]\n",
      " [10. ]\n",
      " [ 8.9]\n",
      " [ 7.9]\n",
      " [ 5.6]\n",
      " [ 6.3]\n",
      " [ 6.7]\n",
      " [10.4]\n",
      " [ 8.5]\n",
      " [ 7.4]\n",
      " [ 6.3]\n",
      " [ 5.4]\n",
      " [ 8.9]\n",
      " [ 9.4]\n",
      " [ 7.5]\n",
      " [11.9]\n",
      " [ 7.8]\n",
      " [ 7.4]\n",
      " [10.8]\n",
      " [10.2]\n",
      " [ 6.2]\n",
      " [ 7.7]\n",
      " [13.7]\n",
      " [ 8. ]\n",
      " [ 6.7]\n",
      " [ 6.7]\n",
      " [ 7. ]\n",
      " [ 8.3]\n",
      " [ 7.4]\n",
      " [ 9.9]\n",
      " [ 6.1]\n",
      " [ 7. ]\n",
      " [ 5.4]\n",
      " [10.7]\n",
      " [ 7.6]\n",
      " [ 8.9]\n",
      " [ 9.2]\n",
      " [ 6.6]\n",
      " [ 7.2]\n",
      " [ 8. ]\n",
      " [ 7.8]\n",
      " [ 7.9]\n",
      " [ 7. ]\n",
      " [ 7. ]\n",
      " [ 7.6]\n",
      " [ 9.1]\n",
      " [ 9. ]\n",
      " [ 7.9]\n",
      " [ 6.6]\n",
      " [11.9]\n",
      " [ 6.5]\n",
      " [ 7.1]\n",
      " [ 8.8]\n",
      " [ 7.5]\n",
      " [ 7.7]\n",
      " [ 6. ]\n",
      " [10.6]\n",
      " [ 6.6]\n",
      " [ 8.2]\n",
      " [ 7.9]\n",
      " [ 7.1]\n",
      " [ 5.6]\n",
      " [ 6.4]\n",
      " [ 7.5]\n",
      " [ 9.8]\n",
      " [ 7. ]\n",
      " [10.5]\n",
      " [ 7.1]\n",
      " [ 6.2]\n",
      " [ 6.5]\n",
      " [ 7.7]\n",
      " [ 7.2]\n",
      " [ 9.3]\n",
      " [ 8.5]\n",
      " [ 7.7]\n",
      " [ 6.8]\n",
      " [ 7.8]\n",
      " [ 8.7]\n",
      " [ 9.6]\n",
      " [ 7.2]\n",
      " [ 9.3]\n",
      " [ 8.1]\n",
      " [ 6.6]\n",
      " [ 7.8]\n",
      " [10.2]\n",
      " [ 6.1]\n",
      " [ 7.3]\n",
      " [ 7.3]]\n",
      "[[0.99007]\n",
      " [0.99769]\n",
      " [0.99386]\n",
      " [0.99508]\n",
      " [0.9963 ]\n",
      " [1.0032 ]\n",
      " [0.99768]\n",
      " [0.99584]\n",
      " [0.99609]\n",
      " [0.99774]\n",
      " [1.0003 ]\n",
      " [0.99694]\n",
      " [0.99965]\n",
      " [0.99549]\n",
      " [0.99364]\n",
      " [0.99378]\n",
      " [0.99379]\n",
      " [0.99524]\n",
      " [0.9988 ]\n",
      " [0.99733]\n",
      " [0.9966 ]\n",
      " [0.9955 ]\n",
      " [0.99471]\n",
      " [0.99354]\n",
      " [0.99786]\n",
      " [0.9965 ]\n",
      " [0.9988 ]\n",
      " [0.9964 ]\n",
      " [0.99713]\n",
      " [0.9985 ]\n",
      " [0.99565]\n",
      " [0.99578]\n",
      " [0.9976 ]\n",
      " [1.0014 ]\n",
      " [0.99685]\n",
      " [0.99648]\n",
      " [0.99472]\n",
      " [0.99914]\n",
      " [0.99408]\n",
      " [0.9974 ]\n",
      " [1.0002 ]\n",
      " [0.99402]\n",
      " [0.9966 ]\n",
      " [0.99402]\n",
      " [1.0029 ]\n",
      " [0.99718]\n",
      " [0.9986 ]\n",
      " [0.9952 ]\n",
      " [0.9952 ]\n",
      " [0.9972 ]\n",
      " [0.9976 ]\n",
      " [0.9968 ]\n",
      " [0.9978 ]\n",
      " [0.9951 ]\n",
      " [0.99629]\n",
      " [0.99656]\n",
      " [0.999  ]\n",
      " [0.99836]\n",
      " [0.99396]\n",
      " [0.99387]\n",
      " [1.0004 ]\n",
      " [0.9972 ]\n",
      " [0.9972 ]\n",
      " [0.99546]\n",
      " [0.9978 ]\n",
      " [0.99596]\n",
      " [0.99572]\n",
      " [0.9992 ]\n",
      " [0.99544]\n",
      " [0.99747]\n",
      " [0.99668]\n",
      " [0.9962 ]\n",
      " [0.99346]\n",
      " [0.99514]\n",
      " [0.99476]\n",
      " [1.001  ]\n",
      " [0.9961 ]\n",
      " [0.99598]\n",
      " [0.99608]\n",
      " [0.9966 ]\n",
      " [0.99732]\n",
      " [0.9962 ]\n",
      " [0.99546]\n",
      " [0.99738]\n",
      " [0.99456]\n",
      " [0.9966 ]\n",
      " [0.99553]\n",
      " [0.9984 ]\n",
      " [0.9952 ]\n",
      " [0.997  ]\n",
      " [0.99586]\n",
      " [0.9984 ]\n",
      " [0.99542]\n",
      " [0.99655]\n",
      " [0.9962 ]\n",
      " [0.9976 ]\n",
      " [0.99464]\n",
      " [0.9983 ]\n",
      " [0.9967 ]]\n"
     ]
    }
   ],
   "source": [
    "print(x)\n",
    "print(y)"
   ]
  },
  {
   "cell_type": "code",
   "execution_count": 4,
   "metadata": {},
   "outputs": [
    {
     "name": "stdout",
     "output_type": "stream",
     "text": [
      "(99, 1)\n",
      "(99, 1)\n"
     ]
    }
   ],
   "source": [
    "print(x.shape)\n",
    "print(y.shape)"
   ]
  },
  {
   "cell_type": "code",
   "execution_count": 5,
   "metadata": {},
   "outputs": [],
   "source": [
    "x=x.reshape((99,))\n",
    "y=y.reshape((99,))"
   ]
  },
  {
   "cell_type": "code",
   "execution_count": 6,
   "metadata": {},
   "outputs": [
    {
     "name": "stdout",
     "output_type": "stream",
     "text": [
      "[ 8.   9.1  8.4  6.9  7.7 15.6  7.3  7.   7.2 10.1 11.5  7.1 10.   8.9\n",
      "  7.9  5.6  6.3  6.7 10.4  8.5  7.4  6.3  5.4  8.9  9.4  7.5 11.9  7.8\n",
      "  7.4 10.8 10.2  6.2  7.7 13.7  8.   6.7  6.7  7.   8.3  7.4  9.9  6.1\n",
      "  7.   5.4 10.7  7.6  8.9  9.2  6.6  7.2  8.   7.8  7.9  7.   7.   7.6\n",
      "  9.1  9.   7.9  6.6 11.9  6.5  7.1  8.8  7.5  7.7  6.  10.6  6.6  8.2\n",
      "  7.9  7.1  5.6  6.4  7.5  9.8  7.  10.5  7.1  6.2  6.5  7.7  7.2  9.3\n",
      "  8.5  7.7  6.8  7.8  8.7  9.6  7.2  9.3  8.1  6.6  7.8 10.2  6.1  7.3\n",
      "  7.3]\n",
      "[0.99007 0.99769 0.99386 0.99508 0.9963  1.0032  0.99768 0.99584 0.99609\n",
      " 0.99774 1.0003  0.99694 0.99965 0.99549 0.99364 0.99378 0.99379 0.99524\n",
      " 0.9988  0.99733 0.9966  0.9955  0.99471 0.99354 0.99786 0.9965  0.9988\n",
      " 0.9964  0.99713 0.9985  0.99565 0.99578 0.9976  1.0014  0.99685 0.99648\n",
      " 0.99472 0.99914 0.99408 0.9974  1.0002  0.99402 0.9966  0.99402 1.0029\n",
      " 0.99718 0.9986  0.9952  0.9952  0.9972  0.9976  0.9968  0.9978  0.9951\n",
      " 0.99629 0.99656 0.999   0.99836 0.99396 0.99387 1.0004  0.9972  0.9972\n",
      " 0.99546 0.9978  0.99596 0.99572 0.9992  0.99544 0.99747 0.99668 0.9962\n",
      " 0.99346 0.99514 0.99476 1.001   0.9961  0.99598 0.99608 0.9966  0.99732\n",
      " 0.9962  0.99546 0.99738 0.99456 0.9966  0.99553 0.9984  0.9952  0.997\n",
      " 0.99586 0.9984  0.99542 0.99655 0.9962  0.9976  0.99464 0.9983  0.9967 ]\n"
     ]
    }
   ],
   "source": [
    "print(x)\n",
    "print(y)"
   ]
  },
  {
   "cell_type": "code",
   "execution_count": 7,
   "metadata": {},
   "outputs": [
    {
     "name": "stdout",
     "output_type": "stream",
     "text": [
      "[<matplotlib.lines.Line2D object at 0x7fd15dad62b0>]\n"
     ]
    },
    {
     "data": {
      "image/png": "[encoded data removed]",
      "text/plain": [
       "<Figure size 432x288 with 1 Axes>"
      ]
     },
     "metadata": {
      "needs_background": "light"
     },
     "output_type": "display_data"
    }
   ],
   "source": [
    "## Plot the data\n",
    "print(plt.plot(x,y))"
   ]
  },
  {
   "cell_type": "code",
   "execution_count": 8,
   "metadata": {},
   "outputs": [
    {
     "name": "stdout",
     "output_type": "stream",
     "text": [
      "[<matplotlib.lines.Line2D object at 0x7fd15da69e48>]\n"
     ]
    },
    {
     "data": {
      "image/png": "[encoded data removed]",
      "text/plain": [
       "<Figure size 432x288 with 1 Axes>"
      ]
     },
     "metadata": {
      "needs_background": "light"
     },
     "output_type": "display_data"
    }
   ],
   "source": [
    "a=[1,2,3]\n",
    "b=[10,20,40]\n",
    "print(plt.plot(a,b))"
   ]
  },
  {
   "cell_type": "code",
   "execution_count": 9,
   "metadata": {},
   "outputs": [
    {
     "data": {
      "image/png": "[encoded data removed]",
      "text/plain": [
       "<Figure size 432x288 with 1 Axes>"
      ]
     },
     "metadata": {
      "needs_background": "light"
     },
     "output_type": "display_data"
    }
   ],
   "source": [
    "a=[1,2,3]\n",
    "b=[10,20,40]\n",
    "plt.plot(a,b)\n",
    "plt.show()"
   ]
  },
  {
   "cell_type": "code",
   "execution_count": 10,
   "metadata": {},
   "outputs": [
    {
     "name": "stdout",
     "output_type": "stream",
     "text": [
      "<matplotlib.collections.PathCollection object at 0x7fd15d9c65f8>\n"
     ]
    },
    {
     "data": {
      "image/png": "[encoded data removed]",
      "text/plain": [
       "<Figure size 432x288 with 1 Axes>"
      ]
     },
     "metadata": {
      "needs_background": "light"
     },
     "output_type": "display_data"
    }
   ],
   "source": [
    "print(plt.scatter(a,b))"
   ]
  },
  {
   "cell_type": "code",
   "execution_count": 11,
   "metadata": {},
   "outputs": [
    {
     "name": "stdout",
     "output_type": "stream",
     "text": [
      "<matplotlib.collections.PathCollection object at 0x7fd15d931668>\n"
     ]
    },
    {
     "data": {
      "image/png": "[encoded data removed]",
      "text/plain": [
       "<Figure size 432x288 with 1 Axes>"
      ]
     },
     "metadata": {
      "needs_background": "light"
     },
     "output_type": "display_data"
    }
   ],
   "source": [
    "print(plt.scatter(x,y))"
   ]
  },
  {
   "cell_type": "code",
   "execution_count": 12,
   "metadata": {},
   "outputs": [
    {
     "data": {
      "image/png": "[encoded data removed]",
      "text/plain": [
       "<Figure size 432x288 with 1 Axes>"
      ]
     },
     "metadata": {
      "needs_background": "light"
     },
     "output_type": "display_data"
    }
   ],
   "source": [
    "plt.scatter(x,y)\n",
    "plt.show()"
   ]
  },
  {
   "cell_type": "code",
   "execution_count": 13,
   "metadata": {},
   "outputs": [
    {
     "data": {
      "image/png": "[encoded data removed]",
      "text/plain": [
       "<Figure size 432x288 with 1 Axes>"
      ]
     },
     "metadata": {
      "needs_background": "light"
     },
     "output_type": "display_data"
    }
   ],
   "source": [
    "# Normalisation (Optional)\n",
    "x=x-x.mean()/x.std()\n",
    "plt.scatter(x,y)\n",
    "plt.show()"
   ]
  },
  {
   "cell_type": "markdown",
   "metadata": {},
   "source": [
    "# Algorithm : Linear Regression"
   ]
  },
  {
   "cell_type": "code",
   "execution_count": 14,
   "metadata": {},
   "outputs": [],
   "source": [
    "X=x\n",
    "Y=y\n",
    "\n",
    "def hypothesis(theta,X):\n",
    "    return theta[0]+theta[1]*X\n",
    "\n",
    "def error(X,Y,theta):\n",
    "    total_error=0    \n",
    "    #m=X.shape\n",
    "    #(99,)\n",
    "    #shape will return a tuple so x.shape[0] will give it first index value\n",
    "    #99\n",
    "    m=X.shape[0]    \n",
    "    for i in range(m):\n",
    "        total_error+=(Y[i]-hypothesis(theta,X[i]))**2        \n",
    "    return 0.5*total_error\n",
    "\n",
    "def gradient(X,Y,theta):\n",
    "    grad=np.array([0.0,0.0])\n",
    "    m=X.shape[0]\n",
    "    for i in range(m):\n",
    "        grad[0]+=-1*(Y[i]-hypothesis(theta,X[i]))\n",
    "        grad[1]+=-1*(Y[i]-hypothesis(theta,X[i]))*X[i]\n",
    "    return grad\n",
    "\n",
    "def gradientDescent(X,Y,learning_rate,maxItr):\n",
    "    grad=np.array([0.0,0.0])\n",
    "    theta=np.array([0.0,0.0]) \n",
    "    e=[]\n",
    "    for i in range(maxItr):\n",
    "        ce=error(X,Y,theta)\n",
    "        e.append(ce)\n",
    "        grad=gradient(X,Y,theta)\n",
    "        theta[0]-=learning_rate*grad[0]\n",
    "        theta[1]-=learning_rate*grad[1]        \n",
    "    return theta,e"
   ]
  },
  {
   "cell_type": "code",
   "execution_count": 15,
   "metadata": {},
   "outputs": [
    {
     "name": "stdout",
     "output_type": "stream",
     "text": [
      "0.9939135845321111 0.000798496440491799\n"
     ]
    }
   ],
   "source": [
    "theta,e=gradientDescent(X,Y,0.001,500)\n",
    "print(theta[0],theta[1])"
   ]
  },
  {
   "cell_type": "code",
   "execution_count": 16,
   "metadata": {},
   "outputs": [
    {
     "data": {
      "image/png": "[encoded data removed]",
      "text/plain": [
       "<Figure size 432x288 with 1 Axes>"
      ]
     },
     "metadata": {
      "needs_background": "light"
     },
     "output_type": "display_data"
    }
   ],
   "source": [
    "plt.scatter(x,y,color='blue')\n",
    "plt.scatter(X,hypothesis(theta,X),color='red')\n",
    "plt.show()"
   ]
  },
  {
   "cell_type": "code",
   "execution_count": 17,
   "metadata": {},
   "outputs": [
    {
     "name": "stdout",
     "output_type": "stream",
     "text": [
      "0.8602514934138727 0.03249645550196921\n"
     ]
    }
   ],
   "source": [
    "theta,e=gradientDescent(X,Y,0.001,100)\n",
    "print(theta[0],theta[1])"
   ]
  },
  {
   "cell_type": "code",
   "execution_count": 18,
   "metadata": {},
   "outputs": [
    {
     "data": {
      "image/png": "[encoded data removed]",
      "text/plain": [
       "<Figure size 432x288 with 1 Axes>"
      ]
     },
     "metadata": {
      "needs_background": "light"
     },
     "output_type": "display_data"
    }
   ],
   "source": [
    "plt.scatter(x,y,color='blue')\n",
    "plt.scatter(X,hypothesis(theta,X),color='r')\n",
    "plt.show()"
   ]
  },
  {
   "cell_type": "code",
   "execution_count": 19,
   "metadata": {},
   "outputs": [
    {
     "data": {
      "image/png": "[encoded data removed]",
      "text/plain": [
       "<Figure size 432x288 with 1 Axes>"
      ]
     },
     "metadata": {
      "needs_background": "light"
     },
     "output_type": "display_data"
    }
   ],
   "source": [
    "plt.scatter(e,range(len(e)))\n",
    "plt.show()"
   ]
  },
  {
   "cell_type": "code",
   "execution_count": 20,
   "metadata": {},
   "outputs": [
    {
     "data": {
      "image/png": "[encoded data removed]",
      "text/plain": [
       "<Figure size 432x288 with 1 Axes>"
      ]
     },
     "metadata": {
      "needs_background": "light"
     },
     "output_type": "display_data"
    }
   ],
   "source": [
    "plt.plot(e)\n",
    "plt.show()"
   ]
  },
  {
   "cell_type": "code",
   "execution_count": 31,
   "metadata": {},
   "outputs": [],
   "source": [
    "arr=[]\n",
    "def gradientDescent(X,Y,learning_rate):\n",
    "    grad=np.array([0.0,0.0])\n",
    "    theta=np.array([0.0,0.0]) \n",
    "    e=[]\n",
    "    ce=error(X,Y,theta)\n",
    "    arr.append(ce)\n",
    "    count=0\n",
    "    while ce>0.0001171:\n",
    "        count+=1\n",
    "        print(ce,count)\n",
    "        arr.append(ce)\n",
    "        e.append(ce)\n",
    "        grad=gradient(X,Y,theta)\n",
    "        theta[0]-=learning_rate*grad[0]\n",
    "        theta[1]-=learning_rate*grad[1]  \n",
    "        ce=error(X,Y,theta)\n",
    "    return theta,e"
   ]
  },
  {
   "cell_type": "code",
   "execution_count": 32,
   "metadata": {},
   "outputs": [
    {
     "name": "stdout",
     "output_type": "stream",
     "text": [
      "49.16754909500004 1\n",
      "19.363249935893606 2\n",
      "11.194773217063105 3\n",
      "8.790646149063228 4\n",
      "7.928692587126901 5\n",
      "7.48547167930442 6\n",
      "7.161821494943659 7\n",
      "6.877851395117726 8\n",
      "6.612009063519691 9\n",
      "6.3582717547520415 10\n",
      "6.114758692299557 11\n",
      "5.880701533226569 12\n",
      "5.655638101255898 13\n",
      "5.439197526559178 14\n",
      "5.231042715208956 15\n",
      "5.030854682890686 16\n",
      "4.838328038436393 17\n",
      "4.653169446584118 18\n",
      "4.475096896067034 19\n",
      "4.3038391942821885 20\n",
      "4.13913553411791 21\n",
      "3.9807350914088193 22\n",
      "3.828396641533565 23\n",
      "3.6818881916795507 24\n",
      "3.540986627445306 25\n",
      "3.405477373037764 26\n",
      "3.2751540644925217 27\n",
      "3.1498182354049415 28\n",
      "3.029279014689674 29\n",
      "2.913352835907283 30\n",
      "2.801863157715057 31\n",
      "2.6946401950161905 32\n",
      "2.591520660397922 33\n",
      "2.4923475154648487 34\n",
      "2.39696973168872 35\n",
      "2.3052420604105226 36\n",
      "2.2170248116446 37\n",
      "2.1321836413479507 38\n",
      "2.0505893468307352 39\n",
      "1.9721176699964418 40\n",
      "1.8966491081120471 41\n",
      "1.8240687318200326 42\n",
      "1.7542660101150622 43\n",
      "1.6871346420188413 44\n",
      "1.6225723946967676 45\n",
      "1.5604809477698651 46\n",
      "1.5007657435849266 47\n",
      "1.4433358432147996 48\n",
      "1.388103787969571 49\n",
      "1.3349854662077094 50\n",
      "1.2838999852443644 51\n",
      "1.2347695481617291 52\n",
      "1.1875193353338833 53\n",
      "1.1420773904856936 54\n",
      "1.0983745111122265 55\n",
      "1.0563441430918328 56\n",
      "1.0159222793323903 57\n",
      "0.9770473622963517 58\n",
      "0.9396601902561745 59\n",
      "0.9037038271373536 60\n",
      "0.8691235158117712 61\n",
      "0.8358665947093046 62\n",
      "0.803882417620725 63\n",
      "0.7731222765697304 64\n",
      "0.7435393276366825 65\n",
      "0.715088519621057 66\n",
      "0.687726525434005 67\n",
      "0.6614116761165062 68\n",
      "0.6361038973826594 69\n",
      "0.6117646485914686 70\n",
      "0.5883568640541702 71\n",
      "0.5658448965877427 72\n",
      "0.5441944632286198 73\n",
      "0.523372593023944 74\n",
      "0.5033475768208538 75\n",
      "0.4840889189773341 76\n",
      "0.46556729092109733 77\n",
      "0.4477544864857659 78\n",
      "0.4306233789563425 79\n",
      "0.4141478797585549 80\n",
      "0.3983028987291563 81\n",
      "0.3830643059066866 82\n",
      "0.36840889478450367 83\n",
      "0.35431434697012204 84\n",
      "0.3407591981970381 85\n",
      "0.3277228056372887 86\n",
      "0.3151853164649567 87\n",
      "0.303127637622754 88\n",
      "0.2915314067456376 89\n",
      "0.2803789641971829 90\n",
      "0.26965332617612314 91\n",
      "0.25933815885210615 92\n",
      "0.2494177534912735 93\n",
      "0.23987700253378821 94\n",
      "0.2307013765868746 95\n",
      "0.2218769022983365 96\n",
      "0.21339014107685667 97\n",
      "0.20522816862667156 98\n",
      "0.1973785552654557 99\n",
      "0.18982934699543946 100\n",
      "0.18256904729893925 101\n",
      "0.17558659963057074 102\n",
      "0.1688713705794883 103\n",
      "0.16241313367600466 104\n",
      "0.1562020538179323 105\n",
      "0.15022867229293105 106\n",
      "0.144483892374049 107\n",
      "0.13895896546652434 108\n",
      "0.13364547778474906 109\n",
      "0.12853533753910606 110\n",
      "0.12362076261316672 111\n",
      "0.1188942687124826 112\n",
      "0.11434865796692373 113\n",
      "0.10997700796920556 114\n",
      "0.1057726612329126 115\n",
      "0.10172921505396326 116\n",
      "0.09784051176007749 117\n",
      "0.0941006293333979 118\n",
      "0.09050387239198285 119\n",
      "0.08704476351643906 120\n",
      "0.08371803490848437 121\n",
      "0.0805186203687367 122\n",
      "0.0774416475815151 123\n",
      "0.07448243069490015 124\n",
      "0.07163646318475725 125\n",
      "0.06889941099185266 126\n",
      "0.06626710592161421 127\n",
      "0.06373553929648142 128\n",
      "0.06130085585118261 129\n",
      "0.05895934786163816 130\n",
      "0.056707449498552547 131\n",
      "0.05454173139709338 132\n",
      "0.0524588954343898 133\n",
      "0.05045576970689612 134\n",
      "0.048529303699972354 135\n",
      "0.046676563642324205 136\n",
      "0.044894728038230206 137\n",
      "0.0431810833707492 138\n",
      "0.041533019969367355 139\n",
      "0.03994802803579077 140\n",
      "0.03842369382182997 141\n",
      "0.036957695953558134 142\n",
      "0.03554780189614307 143\n",
      "0.0341918645539711 144\n",
      "0.032887819000883826 145\n",
      "0.031633679335548844 146\n",
      "0.03042753565717597 147\n",
      "0.029267551156972528 148\n",
      "0.028151959320909106 149\n",
      "0.02707906123953563 150\n",
      "0.026047223020750458 151\n",
      "0.02505487330158348 152\n",
      "0.024100500855203124 153\n",
      "0.023182652289503284 154\n",
      "0.02229992983376573 155\n",
      "0.021450989210026326 156\n",
      "0.020634537585905444 157\n",
      "0.01984933160578228 158\n",
      "0.019094175497317137 159\n",
      "0.01836791925043679 160\n",
      "0.017669456866010395 161\n",
      "0.016997724671548566 162\n",
      "0.016351699701360464 163\n",
      "0.015730398138702913 164\n",
      "0.015132873817548097 165\n",
      "0.014558216781688858 166\n",
      "0.014005551898986954 167\n",
      "0.013474037528654352 168\n",
      "0.012962864239537651 169\n",
      "0.012471253577453652 170\n",
      "0.011998456879699039 171\n",
      "0.011543754134929432 172\n",
      "0.011106452886669962 173\n",
      "0.01068588717878937 174\n",
      "0.010281416541330463 175\n",
      "0.009892425015152861 176\n",
      "0.009518320213902915 177\n",
      "0.009158532421882123 178\n",
      "0.008812513726439894 179\n",
      "0.008479737183569732 180\n",
      "0.008159696015438388 181\n",
      "0.007851902838625366 182\n",
      "0.0075558889218977085 183\n",
      "0.007271203472389871 184\n",
      "0.006997412949101597 185\n",
      "0.006734100402668159 186\n",
      "0.006480864840397567 187\n",
      "0.00623732061560797 188\n",
      "0.0060030968403351 189\n",
      "0.005777836820515403 190\n",
      "0.005561197512784809 191\n",
      "0.005352849002065639 192\n",
      "0.005152473999146672 193\n",
      "0.004959767357490349 194\n",
      "0.004774435608532228 195\n",
      "0.004596196514764374 196\n",
      "0.004424778639922214 197\n",
      "0.004259920935620379 198\n",
      "0.004101372343808153 199\n",
      "0.003948891414438804 200\n",
      "0.0038022459377708064 201\n",
      "0.003661212590740954 202\n",
      "0.003525576596870699 203\n",
      "0.003395131399187929 204\n",
      "0.003269678345666036 205\n",
      "0.003149026386701339 206\n",
      "0.003032991784167891 207\n",
      "0.0029213978316069227 208\n",
      "0.0028140745851245445 209\n",
      "0.0027108586045881244 210\n",
      "0.0026115927047269376 211\n",
      "0.002516125715758401 212\n",
      "0.002424312253174897 213\n",
      "0.0023360124963411524 214\n",
      "0.0022510919755645317 215\n",
      "0.002169421367314109 216\n",
      "0.002090876297276976 217\n",
      "0.002015337150951244 218\n",
      "0.0019426888914879394 219\n",
      "0.0018728208845039925 220\n",
      "0.001805626729599662 221\n",
      "0.0017410040983237291 222\n",
      "0.0016788545783398437 223\n",
      "0.0016190835235566799 224\n",
      "0.001561599909993496 225\n",
      "0.0015063161971617693 226\n",
      "0.0014531481947517814 227\n",
      "0.0014020149344211791 228\n",
      "0.0013528385464900358 229\n",
      "0.001305544141354916 230\n",
      "0.0012600596954412309 231\n",
      "0.0012163159415201612 232\n",
      "0.001174246263223114 233\n",
      "0.0011337865935932485 234\n",
      "0.0010948753175193122 235\n",
      "0.0010574531779034273 236\n",
      "0.0010214631854197451 237\n",
      "0.0009868505317267452 238\n",
      "0.0009535625060008607 239\n",
      "0.000921548414664336 240\n",
      "0.0008907595041851574 241\n",
      "0.0008611488868313515 242\n",
      "0.0008326714692667963 243\n",
      "0.0008052838838795725 244\n",
      "0.0007789444227383985 245\n",
      "0.0007536129740765745 246\n",
      "0.0007292509612067293 247\n",
      "0.0007058212837731878 248\n",
      "0.0006832882612527359 249\n",
      "0.0006616175786175448 250\n",
      "0.0006407762340776009 251\n",
      "0.0006207324888230135 252\n",
      "0.0006014558186897369 253\n",
      "0.0005829168676749519 254\n",
      "0.0005650874032315428 255\n",
      "0.0005479402732733823 256\n",
      "0.0005314493648259956 257\n",
      "0.0005155895642597375 258\n",
      "0.0005003367190448164 259\n",
      "0.00048566760096995784 260\n",
      "0.0004715598707686462 261\n",
      "0.0004579920440992423 262\n",
      "0.0004449434588268754 263\n",
      "0.00043239424355764937 264\n",
      "0.0004203252873768644 265\n",
      "0.0004087182107454638 266\n",
      "0.0003975553375102728 267\n",
      "0.000386819667985384 268\n",
      "0.000376494853063688 269\n",
      "0.00036656516931920445 270\n",
      "0.000357015495062272 271\n",
      "0.000347831287311027 272\n",
      "0.0003389985596442313 273\n",
      "0.00033050386090169005 274\n",
      "0.0003223342546997595 275\n",
      "0.0003144772997308543 276\n",
      "0.0003069210308168453 277\n",
      "0.00029965394068754504 278\n",
      "0.00029266496245657645 279\n",
      "0.000285943452767844 280\n",
      "0.00027947917558702047 281\n",
      "0.00027326228661332474 282\n",
      "0.00026728331828784107 283\n",
      "0.00026153316537560155 284\n",
      "0.00025600307109944484 285\n",
      "0.0002506846138044925 286\n",
      "0.00024556969413301296 287\n",
      "0.00024065052269010067 288\n",
      "0.00023591960818137802 289\n",
      "0.00023136974600466395 290\n",
      "0.00022699400727827052 291\n",
      "0.00022278572828915522 292\n",
      "0.00021873850034489112 293\n",
      "0.00021484616001403355 294\n",
      "0.00021110277973996982 295\n",
      "0.0002075026588139624 296\n",
      "0.0002040403146936855 297\n",
      "0.00020071047465397435 298\n",
      "0.00019750806775711092 299\n",
      "0.00019442821713043138 300\n",
      "0.00019146623253941852 301\n",
      "0.00018861760324505908 302\n",
      "0.00018587799113455448 303\n",
      "0.0001832432241148848 304\n",
      "0.0001807092897592535 305\n",
      "0.000178272329196612 306\n",
      "0.00017592863123512342 307\n",
      "0.00017367462671042254 308\n",
      "0.00017150688305026145 309\n",
      "0.00016942209904708625 310\n",
      "0.00016741709983072818 311\n",
      "0.0001654888320334476 312\n",
      "0.00016363435914005386 313\n",
      "0.00016185085701592045 314\n",
      "0.00016013560960620237 315\n",
      "0.0001584860047996111 316\n",
      "0.00015689953045047993 317\n",
      "0.00015537377055307904 318\n",
      "0.00015390640156234532 319\n",
      "0.0001524951888553918 320\n",
      "0.00015113798332846396 321\n",
      "0.00014983271812411134 322\n",
      "0.00014857740548362497 323\n",
      "0.0001473701337199208 324\n",
      "0.00014620906430626806 325\n",
      "0.0001450924290764433 326\n",
      "0.00014401852753204148 327\n",
      "0.00014298572425280572 328\n",
      "0.00014199244640610142 329\n",
      "0.00014103718135166933 330\n",
      "0.00014011847433807422 331\n",
      "0.00013923492628728265 332\n",
      "0.00013838519166404996 333\n",
      "0.00013756797642683997 334\n",
      "0.00013678203605713943 335\n",
      "0.00013602617366422057 336\n",
      "0.0001352992381624263 337\n",
      "0.00013460012251820515 338\n",
      "0.0001339277620642339 339\n",
      "0.0001332811328780566 340\n",
      "0.00013265925022278951 341\n",
      "0.0001320611670474643 342\n",
      "0.0001314859725448139 343\n",
      "0.00013093279076420057 344\n",
      "0.00013040077927766716 345\n",
      "0.00012988912789700774 346\n",
      "0.00012939705743997038 347\n",
      "0.00012892381854363714 348\n",
      "0.0001284686905232493 349\n",
      "0.00012803098027469167 350\n",
      "0.00012761002121897428 351\n",
      "0.0001272051722871215 352\n",
      "0.00012681581694389565 353\n",
      "0.00012644136224889 354\n",
      "0.00012608123795356977 355\n",
      "0.0001257348956328226 356\n",
      "0.00012540180784980555 357\n",
      "0.00012508146735270236 358\n",
      "0.00012477338630225085 359\n",
      "0.00012447709552882477 360\n",
      "0.0001241921438179368 361\n",
      "0.00012391809722310488 362\n",
      "0.00012365453840499765 363\n",
      "0.00012340106599588392 364\n",
      "0.0001231572939883918 365\n",
      "0.00012292285114766968 366\n",
      "0.00012269738044604826 367\n",
      "0.00012248053851931874 368\n",
      "0.00012227199514383785 369\n",
      "0.0001220714327336435 370\n",
      "0.00012187854585679618 371\n",
      "0.00012169304077025597 372\n",
      "0.0001215146349725462 373\n",
      "0.00012134305677352877 374\n",
      "0.00012117804488066549 375\n",
      "0.0001210193480010957 376\n",
      "0.00012086672445894775 377\n",
      "0.0001207199418273012 378\n",
      "0.00012057877657422025 379\n",
      "0.00012044301372234932 380\n",
      "0.00012031244652152849 381\n",
      "0.00012018687613393418 382\n",
      "0.00012006611133127806 383\n",
      "0.00011994996820358641 384\n",
      "0.00011983826987913134 385\n",
      "0.00011973084625507203 386\n",
      "0.0001196275337384119 387\n",
      "0.00011952817499687083 388\n",
      "0.00011943261871927761 389\n",
      "0.00011934071938515018 390\n",
      "0.00011925233704308005 391\n",
      "0.00011916733709760914 392\n",
      "0.00011908559010424999 393\n",
      "0.00011900697157236617 394\n",
      "0.00011893136177558249 395\n",
      "0.00011885864556945833 396\n",
      "0.00011878871221613481 397\n",
      "0.00011872145521569948 398\n",
      "0.00011865677214399253 399\n",
      "0.0001185945644966374 400\n",
      "0.0001185347375390195 401\n",
      "0.0001184772001620265 402\n",
      "0.00011842186474329383 403\n",
      "0.00011836864701377081 404\n",
      "0.00011831746592938589 405\n",
      "0.00011826824354762921 406\n",
      "0.00011822090490885479 407\n",
      "0.00011817537792212476 408\n",
      "0.00011813159325542701 409\n",
      "0.00011808948423008757 410\n",
      "0.00011804898671922794 411\n",
      "0.0001180100390501098 412\n",
      "0.00011797258191021353 413\n",
      "0.00011793655825691227 414\n",
      "0.00011790191323060242 415\n",
      "0.00011786859407116068 416\n",
      "0.00011783655003759854 417\n",
      "0.00011780573233078435 418\n",
      "0.00011777609401913194 419\n",
      "0.00011774758996713042 420\n",
      "0.00011772017676660802 421\n",
      "0.00011769381267062527 422\n",
      "0.00011766845752989799 423\n",
      "0.00011764407273165791 424\n",
      "0.00011762062114085222 425\n",
      "0.00011759806704358631 426\n",
      "0.00011757637609273614 427\n",
      "0.00011755551525564639 428\n",
      "0.00011753545276382359 429\n",
      "0.00011751615806455381 430\n",
      "0.00011749760177437762 431\n",
      "0.00011747975563434487 432\n",
      "0.00011746259246697292 433\n",
      "0.00011744608613486233 434\n",
      "0.00011743021150090019 435\n",
      "0.00011741494438996239 436\n",
      "0.00011740026155211465 437\n",
      "0.00011738614062719633 438\n",
      "0.00011737256011077429 439\n",
      "0.00011735949932138545 440\n",
      "0.00011734693836905203 441\n",
      "0.00011733485812498474 442\n",
      "0.0001173232401924559 443\n",
      "0.00011731206687877829 444\n",
      "0.0001173013211683666 445\n",
      "0.00011729098669682406 446\n",
      "0.00011728104772601948 447\n",
      "0.00011727148912011687 448\n",
      "0.00011726229632253452 449\n",
      "0.00011725345533377069 450\n",
      "0.00011724495269008297 451\n",
      "0.00011723677544298912 452\n",
      "0.0001172289111395468 453\n",
      "0.00011722134780338499 454\n",
      "0.00011721407391647139 455\n",
      "0.00011720707840157083 456\n",
      "0.00011720035060537029 457\n",
      "0.00011719388028226146 458\n",
      "0.00011718765757873992 459\n",
      "0.00011718167301838846 460\n",
      "0.00011717591748745744 461\n",
      "0.00011717038222097947 462\n",
      "0.00011716505878942342 463\n",
      "0.00011715993908585573 464\n",
      "0.0001171550153135969 465\n",
      "0.0001171502799743463 466\n",
      "0.00011714572585676218 467\n",
      "0.00011714134602548352 468\n",
      "0.00011713713381056246 469\n",
      "0.0001171330827973166 470\n",
      "0.00011712918681654613 471\n",
      "0.00011712543993515371 472\n",
      "0.00011712183644709741 473\n",
      "0.00011711837086470685 474\n",
      "0.00011711503791032524 475\n",
      "0.00011711183250827251 476\n",
      "0.00011710874977711398 477\n",
      "0.00011710578502222917 478\n",
      "0.00011710293372866195 479\n",
      "0.0001171001915542405 480\n",
      "0.9938875467009444 0.0008046713110139576\n"
     ]
    }
   ],
   "source": [
    "theta,e=gradientDescent(X,Y,0.001)\n",
    "print(theta[0],theta[1])"
   ]
  },
  {
   "cell_type": "code",
   "execution_count": 33,
   "metadata": {},
   "outputs": [
    {
     "data": {
      "image/png": "[encoded data removed]",
      "text/plain": [
       "<Figure size 432x288 with 1 Axes>"
      ]
     },
     "metadata": {
      "needs_background": "light"
     },
     "output_type": "display_data"
    }
   ],
   "source": [
    "plt.scatter(x,y,color='blue')\n",
    "plt.scatter(X,hypothesis(theta,X),color='r')\n",
    "plt.show()"
   ]
  },
  {
   "cell_type": "code",
   "execution_count": 34,
   "metadata": {},
   "outputs": [
    {
     "data": {
      "image/png": "[encoded data removed]",
      "text/plain": [
       "<Figure size 432x288 with 1 Axes>"
      ]
     },
     "metadata": {
      "needs_background": "light"
     },
     "output_type": "display_data"
    }
   ],
   "source": [
    "plt.scatter(arr,range(len(arr)))\n",
    "plt.show()"
   ]
  },
  {
   "cell_type": "code",
   "execution_count": 35,
   "metadata": {},
   "outputs": [
    {
     "data": {
      "image/png": "[encoded data removed]",
      "text/plain": [
       "<Figure size 432x288 with 1 Axes>"
      ]
     },
     "metadata": {
      "needs_background": "light"
     },
     "output_type": "display_data"
    }
   ],
   "source": [
    "plt.plot(arr)\n",
    "plt.show()"
   ]
  }
 ],
 "metadata": {
  "kernelspec": {
   "display_name": "Python 3",
   "language": "python",
   "name": "python3"
  },
  "language_info": {
   "codemirror_mode": {
    "name": "ipython",
    "version": 3
   },
   "file_extension": ".py",
   "mimetype": "text/x-python",
   "name": "python",
   "nbconvert_exporter": "python",
   "pygments_lexer": "ipython3",
   "version": "3.6.7"
  }
 },
 "nbformat": 4,
 "nbformat_minor": 2
}
