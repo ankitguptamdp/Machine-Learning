{
 "cells": [
  {
   "cell_type": "markdown",
   "metadata": {},
   "source": [
    "# Linear Algebra - Matrices and Tensors"
   ]
  },
  {
   "cell_type": "code",
   "execution_count": 1,
   "metadata": {},
   "outputs": [],
   "source": [
    "import numpy as np"
   ]
  },
  {
   "cell_type": "code",
   "execution_count": 4,
   "metadata": {},
   "outputs": [
    {
     "name": "stdout",
     "output_type": "stream",
     "text": [
      "[4 5 6]\n",
      "(3,)\n",
      "4\n"
     ]
    }
   ],
   "source": [
    "x1=np.array([4,5,6])\n",
    "print(x1)\n",
    "print(x1.shape)\n",
    "print(x1[0])"
   ]
  },
  {
   "cell_type": "code",
   "execution_count": 6,
   "metadata": {},
   "outputs": [
    {
     "name": "stdout",
     "output_type": "stream",
     "text": [
      "[[6]\n",
      " [7]\n",
      " [8]\n",
      " [9]]\n",
      "(4, 1)\n",
      "[6]\n",
      "6\n"
     ]
    }
   ],
   "source": [
    "#We will represent a vector as a column vector, that is having  multiple rows and a single column\n",
    "x2=np.array([[6],[7],[8],[9]])\n",
    "print(x2)\n",
    "print(x2.shape)\n",
    "print(x2[0])\n",
    "print(x2[0][0])"
   ]
  },
  {
   "cell_type": "code",
   "execution_count": 8,
   "metadata": {},
   "outputs": [
    {
     "name": "stdout",
     "output_type": "stream",
     "text": [
      "[6 7 8 9]\n"
     ]
    }
   ],
   "source": [
    "x2=np.array([[6],[7],[8],[9]])\n",
    "x2=x2.reshape(-1,)\n",
    "print(x2)"
   ]
  },
  {
   "cell_type": "code",
   "execution_count": 9,
   "metadata": {},
   "outputs": [
    {
     "name": "stdout",
     "output_type": "stream",
     "text": [
      "[[6 7]\n",
      " [8 9]]\n"
     ]
    }
   ],
   "source": [
    "x2=np.array([[6],[7],[8],[9]])\n",
    "x2=x2.reshape(-1,2)\n",
    "print(x2)"
   ]
  },
  {
   "cell_type": "code",
   "execution_count": 11,
   "metadata": {},
   "outputs": [
    {
     "name": "stdout",
     "output_type": "stream",
     "text": [
      "(3, 3)\n",
      "[[1 2 3]\n",
      " [4 5 6]\n",
      " [7 8 9]]\n",
      "[[1 2 3]\n",
      " [2 2 2]\n",
      " [2 2 2]]\n"
     ]
    }
   ],
   "source": [
    "#Here m is a matrix\n",
    "m=np.array([[1,2,3],[4,5,6],[7,8,9]])\n",
    "print(m.shape)\n",
    "print(m)\n",
    "\n",
    "m[1:,:]=2\n",
    "print(m)"
   ]
  },
  {
   "cell_type": "code",
   "execution_count": 12,
   "metadata": {},
   "outputs": [
    {
     "name": "stdout",
     "output_type": "stream",
     "text": [
      "(2, 2, 2)\n",
      "[[[1 2]\n",
      "  [3 4]]\n",
      "\n",
      " [[5 6]\n",
      "  [7 8]]]\n"
     ]
    }
   ],
   "source": [
    "# Here T is a Tensor\n",
    "T=np.array([[[1,2],[3,4]],[[5,6],[7,8]]])\n",
    "print(T.shape)\n",
    "print(T)"
   ]
  },
  {
   "cell_type": "code",
   "execution_count": 13,
   "metadata": {},
   "outputs": [
    {
     "name": "stdout",
     "output_type": "stream",
     "text": [
      "[[1 2 3]\n",
      " [2 2 2]\n",
      " [2 2 2]]\n",
      "[[1 2 2]\n",
      " [2 2 2]\n",
      " [3 2 2]]\n"
     ]
    }
   ],
   "source": [
    "#Transpose\n",
    "mt=np.transpose(m)\n",
    "print(m)\n",
    "print(mt)"
   ]
  },
  {
   "cell_type": "code",
   "execution_count": 21,
   "metadata": {},
   "outputs": [
    {
     "name": "stdout",
     "output_type": "stream",
     "text": [
      "(4, 1) (4, 1)\n",
      "[[4]\n",
      " [5]\n",
      " [8]\n",
      " [9]]\n",
      "[[4]\n",
      " [5]\n",
      " [8]\n",
      " [9]]\n",
      "[[4 5 8 9]]\n",
      "(1, 4)\n"
     ]
    }
   ],
   "source": [
    "x=np.array([[4],[5],[8],[9]])\n",
    "y=x.reshape(-1,1)\n",
    "print(x.shape,y.shape)\n",
    "print(x)\n",
    "print(y)\n",
    "print(y.transpose())\n",
    "print(np.transpose(y).shape)"
   ]
  },
  {
   "cell_type": "markdown",
   "metadata": {},
   "source": [
    "# Broadcasting"
   ]
  },
  {
   "cell_type": "code",
   "execution_count": 22,
   "metadata": {},
   "outputs": [
    {
     "ename": "TypeError",
     "evalue": "can only concatenate list (not \"int\") to list",
     "output_type": "error",
     "traceback": [
      "\u001b[0;31m---------------------------------------------------------------------------\u001b[0m",
      "\u001b[0;31mTypeError\u001b[0m                                 Traceback (most recent call last)",
      "\u001b[0;32m<ipython-input-22-80bec5b3dd69>\u001b[0m in \u001b[0;36m<module>\u001b[0;34m\u001b[0m\n\u001b[1;32m      1\u001b[0m \u001b[0ml\u001b[0m\u001b[0;34m=\u001b[0m\u001b[0;34m[\u001b[0m\u001b[0;36m1\u001b[0m\u001b[0;34m,\u001b[0m\u001b[0;36m2\u001b[0m\u001b[0;34m,\u001b[0m\u001b[0;36m3\u001b[0m\u001b[0;34m,\u001b[0m\u001b[0;36m4\u001b[0m\u001b[0;34m]\u001b[0m\u001b[0;34m\u001b[0m\u001b[0;34m\u001b[0m\u001b[0m\n\u001b[0;32m----> 2\u001b[0;31m \u001b[0ml\u001b[0m\u001b[0;34m=\u001b[0m\u001b[0ml\u001b[0m\u001b[0;34m+\u001b[0m\u001b[0;36m1\u001b[0m\u001b[0;34m\u001b[0m\u001b[0;34m\u001b[0m\u001b[0m\n\u001b[0m\u001b[1;32m      3\u001b[0m \u001b[0mprint\u001b[0m\u001b[0;34m(\u001b[0m\u001b[0ml\u001b[0m\u001b[0;34m)\u001b[0m\u001b[0;34m\u001b[0m\u001b[0;34m\u001b[0m\u001b[0m\n\u001b[1;32m      4\u001b[0m \u001b[0ml\u001b[0m\u001b[0;34m=\u001b[0m\u001b[0ml\u001b[0m\u001b[0;34m**\u001b[0m\u001b[0;36m2\u001b[0m\u001b[0;34m\u001b[0m\u001b[0;34m\u001b[0m\u001b[0m\n\u001b[1;32m      5\u001b[0m \u001b[0mprint\u001b[0m\u001b[0;34m(\u001b[0m\u001b[0ml\u001b[0m\u001b[0;34m)\u001b[0m\u001b[0;34m\u001b[0m\u001b[0;34m\u001b[0m\u001b[0m\n",
      "\u001b[0;31mTypeError\u001b[0m: can only concatenate list (not \"int\") to list"
     ]
    }
   ],
   "source": [
    "l=[1,2,3,4]\n",
    "l=l+1\n",
    "print(l)\n",
    "l=l**2\n",
    "print(l)"
   ]
  },
  {
   "cell_type": "code",
   "execution_count": 23,
   "metadata": {},
   "outputs": [
    {
     "name": "stdout",
     "output_type": "stream",
     "text": [
      "[2 3 4 5]\n",
      "[ 4  9 16 25]\n"
     ]
    }
   ],
   "source": [
    "l=[1,2,3,4]\n",
    "l=np.array(l)\n",
    "l=l+1\n",
    "print(l)\n",
    "l=l**2\n",
    "print(l)"
   ]
  },
  {
   "cell_type": "code",
   "execution_count": 24,
   "metadata": {},
   "outputs": [
    {
     "name": "stdout",
     "output_type": "stream",
     "text": [
      "[[ 2  3  4  5]\n",
      " [ 7  8  9 10]]\n",
      "[[ 1  4  9 16]\n",
      " [36 49 64 81]]\n",
      "[[1.         1.41421356 1.73205081 2.        ]\n",
      " [2.44948974 2.64575131 2.82842712 3.        ]]\n"
     ]
    }
   ],
   "source": [
    "l=[[1,2,3,4],[6,7,8,9]]\n",
    "l=np.array(l)\n",
    "print(l+1)\n",
    "print(l**2)\n",
    "print(np.sqrt(l))"
   ]
  },
  {
   "cell_type": "markdown",
   "metadata": {},
   "source": [
    "# Linear Algebra - Matrix and Hadamard product"
   ]
  },
  {
   "cell_type": "code",
   "execution_count": 27,
   "metadata": {},
   "outputs": [
    {
     "name": "stdout",
     "output_type": "stream",
     "text": [
      "(3, 3) (3, 3)\n",
      "[[1 2 3]\n",
      " [4 5 6]\n",
      " [7 8 9]]\n",
      "[[11 22 33]\n",
      " [44 55 66]\n",
      " [77 88 99]]\n",
      "[[ 330  396  462]\n",
      " [ 726  891 1056]\n",
      " [1122 1386 1650]]\n",
      "[[ 330  396  462]\n",
      " [ 726  891 1056]\n",
      " [1122 1386 1650]]\n"
     ]
    }
   ],
   "source": [
    "X=np.array([[1,2,3],[4,5,6],[7,8,9]])\n",
    "Y=np.array([[11,22,33],[44,55,66],[77,88,99]])\n",
    "print(X.shape,Y.shape)\n",
    "print(X)\n",
    "print(Y)\n",
    "prod=X.dot(Y)\n",
    "print(prod)\n",
    "prod=np.dot(X,Y)\n",
    "print(prod)"
   ]
  },
  {
   "cell_type": "code",
   "execution_count": 30,
   "metadata": {},
   "outputs": [
    {
     "name": "stdout",
     "output_type": "stream",
     "text": [
      "[[1 2 3]\n",
      " [4 5 6]\n",
      " [7 8 9]]\n",
      "[[1. 0. 0.]\n",
      " [0. 1. 0.]\n",
      " [0. 0. 1.]]\n",
      "[[3. 1. 1.]\n",
      " [1. 3. 1.]\n",
      " [1. 1. 3.]]\n",
      "[[ 3.  2.  3.]\n",
      " [ 4. 15.  6.]\n",
      " [ 7.  8. 27.]]\n"
     ]
    }
   ],
   "source": [
    "# Element wise multiplication\n",
    "X=np.array([[1,2,3],[4,5,6],[7,8,9]])\n",
    "Y=np.eye(3)\n",
    "print(X)\n",
    "print(Y)\n",
    "Y=Y*2+1\n",
    "print(Y)\n",
    "print(X*Y)"
   ]
  },
  {
   "cell_type": "markdown",
   "metadata": {},
   "source": [
    "# Linear Algebra - Norm of a Vector"
   ]
  },
  {
   "cell_type": "code",
   "execution_count": 31,
   "metadata": {},
   "outputs": [
    {
     "name": "stdout",
     "output_type": "stream",
     "text": [
      "11.575836902790225\n"
     ]
    }
   ],
   "source": [
    "x=np.array([-5,3,10])\n",
    "lp2=np.linalg.norm(x)\n",
    "print(lp2)"
   ]
  },
  {
   "cell_type": "code",
   "execution_count": 33,
   "metadata": {},
   "outputs": [
    {
     "name": "stdout",
     "output_type": "stream",
     "text": [
      "18.0\n"
     ]
    }
   ],
   "source": [
    "lp1=np.linalg.norm(x,ord=1)\n",
    "print(lp1)"
   ]
  },
  {
   "cell_type": "code",
   "execution_count": 34,
   "metadata": {},
   "outputs": [
    {
     "name": "stdout",
     "output_type": "stream",
     "text": [
      "10.0\n"
     ]
    }
   ],
   "source": [
    "lpinf=np.linalg.norm(x,ord=np.inf)\n",
    "print(lpinf)"
   ]
  }
 ],
 "metadata": {
  "kernelspec": {
   "display_name": "Python 3",
   "language": "python",
   "name": "python3"
  },
  "language_info": {
   "codemirror_mode": {
    "name": "ipython",
    "version": 3
   },
   "file_extension": ".py",
   "mimetype": "text/x-python",
   "name": "python",
   "nbconvert_exporter": "python",
   "pygments_lexer": "ipython3",
   "version": "3.6.7"
  }
 },
 "nbformat": 4,
 "nbformat_minor": 2
}
