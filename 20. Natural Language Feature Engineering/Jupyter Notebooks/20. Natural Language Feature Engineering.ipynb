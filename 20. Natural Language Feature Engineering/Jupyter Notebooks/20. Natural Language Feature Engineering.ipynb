{
 "cells": [
  {
   "cell_type": "markdown",
   "metadata": {},
   "source": [
    "# 01. NLTK - Getting Started with Natural Language"
   ]
  },
  {
   "cell_type": "markdown",
   "metadata": {},
   "source": [
    "### Natural Language ToolKit"
   ]
  },
  {
   "cell_type": "markdown",
   "metadata": {},
   "source": [
    "# 02.NLTK - Working with Brown Corpus"
   ]
  },
  {
   "cell_type": "markdown",
   "metadata": {},
   "source": [
    "### https://www.nltk.org/"
   ]
  },
  {
   "cell_type": "markdown",
   "metadata": {},
   "source": [
    "## A. Data Collection"
   ]
  },
  {
   "cell_type": "code",
   "execution_count": 2,
   "metadata": {},
   "outputs": [],
   "source": [
    "from nltk.corpus import brown"
   ]
  },
  {
   "cell_type": "code",
   "execution_count": 4,
   "metadata": {},
   "outputs": [],
   "source": [
    "brown?"
   ]
  },
  {
   "cell_type": "code",
   "execution_count": 6,
   "metadata": {},
   "outputs": [
    {
     "name": "stdout",
     "output_type": "stream",
     "text": [
      "['adventure', 'belles_lettres', 'editorial', 'fiction', 'government', 'hobbies', 'humor', 'learned', 'lore', 'mystery', 'news', 'religion', 'reviews', 'romance', 'science_fiction']\n"
     ]
    }
   ],
   "source": [
    "print(brown.categories())"
   ]
  },
  {
   "cell_type": "code",
   "execution_count": 7,
   "metadata": {},
   "outputs": [],
   "source": [
    "brown.sents?"
   ]
  },
  {
   "cell_type": "code",
   "execution_count": 8,
   "metadata": {},
   "outputs": [
    {
     "data": {
      "text/plain": [
       "[['Assembly', 'session', 'brought', 'much', 'good'], ['The', 'General', 'Assembly', ',', 'which', 'adjourns', 'today', ',', 'has', 'performed', 'in', 'an', 'atmosphere', 'of', 'crisis', 'and', 'struggle', 'from', 'the', 'day', 'it', 'convened', '.'], ...]"
      ]
     },
     "execution_count": 8,
     "metadata": {},
     "output_type": "execute_result"
    }
   ],
   "source": [
    "brown.sents(categories='editorial')"
   ]
  },
  {
   "cell_type": "code",
   "execution_count": 9,
   "metadata": {},
   "outputs": [
    {
     "data": {
      "text/plain": [
       "[['The', 'Fulton', 'County', 'Grand', 'Jury', 'said', 'Friday', 'an', 'investigation', 'of', \"Atlanta's\", 'recent', 'primary', 'election', 'produced', '``', 'no', 'evidence', \"''\", 'that', 'any', 'irregularities', 'took', 'place', '.'], ['The', 'jury', 'further', 'said', 'in', 'term-end', 'presentments', 'that', 'the', 'City', 'Executive', 'Committee', ',', 'which', 'had', 'over-all', 'charge', 'of', 'the', 'election', ',', '``', 'deserves', 'the', 'praise', 'and', 'thanks', 'of', 'the', 'City', 'of', 'Atlanta', \"''\", 'for', 'the', 'manner', 'in', 'which', 'the', 'election', 'was', 'conducted', '.'], ...]"
      ]
     },
     "execution_count": 9,
     "metadata": {},
     "output_type": "execute_result"
    }
   ],
   "source": [
    "brown.sents()"
   ]
  },
  {
   "cell_type": "code",
   "execution_count": 10,
   "metadata": {},
   "outputs": [
    {
     "name": "stdout",
     "output_type": "stream",
     "text": [
      "[['Assembly', 'session', 'brought', 'much', 'good'], ['The', 'General', 'Assembly', ',', 'which', 'adjourns', 'today', ',', 'has', 'performed', 'in', 'an', 'atmosphere', 'of', 'crisis', 'and', 'struggle', 'from', 'the', 'day', 'it', 'convened', '.'], ...]\n"
     ]
    }
   ],
   "source": [
    "data=brown.sents(categories='editorial')\n",
    "print(data)"
   ]
  },
  {
   "cell_type": "code",
   "execution_count": 11,
   "metadata": {},
   "outputs": [
    {
     "name": "stdout",
     "output_type": "stream",
     "text": [
      "['Assembly', 'session', 'brought', 'much', 'good']\n"
     ]
    }
   ],
   "source": [
    "data=brown.sents(categories='editorial')[0]\n",
    "print(data)"
   ]
  },
  {
   "cell_type": "code",
   "execution_count": 12,
   "metadata": {},
   "outputs": [
    {
     "name": "stdout",
     "output_type": "stream",
     "text": [
      "['The', 'General', 'Assembly', ',', 'which', 'adjourns', 'today', ',', 'has', 'performed', 'in', 'an', 'atmosphere', 'of', 'crisis', 'and', 'struggle', 'from', 'the', 'day', 'it', 'convened', '.']\n"
     ]
    }
   ],
   "source": [
    "data=brown.sents(categories='editorial')[1]\n",
    "print(data)"
   ]
  },
  {
   "cell_type": "code",
   "execution_count": 13,
   "metadata": {},
   "outputs": [
    {
     "name": "stdout",
     "output_type": "stream",
     "text": [
      "[['Assembly', 'session', 'brought', 'much', 'good'], ['The', 'General', 'Assembly', ',', 'which', 'adjourns', 'today', ',', 'has', 'performed', 'in', 'an', 'atmosphere', 'of', 'crisis', 'and', 'struggle', 'from', 'the', 'day', 'it', 'convened', '.'], ['It', 'was', 'faced', 'immediately', 'with', 'a', 'showdown', 'on', 'the', 'schools', ',', 'an', 'issue', 'which', 'was', 'met', 'squarely', 'in', 'conjunction', 'with', 'the', 'governor', 'with', 'a', 'decision', 'not', 'to', 'risk', 'abandoning', 'public', 'education', '.'], ['There', 'followed', 'the', 'historic', 'appropriations', 'and', 'budget', 'fight', ',', 'in', 'which', 'the', 'General', 'Assembly', 'decided', 'to', 'tackle', 'executive', 'powers', '.'], ['The', 'final', 'decision', 'went', 'to', 'the', 'executive', 'but', 'a', 'way', 'has', 'been', 'opened', 'for', 'strengthening', 'budgeting', 'procedures', 'and', 'to', 'provide', 'legislators', 'information', 'they', 'need', '.'], ['Long-range', 'planning', 'of', 'programs', 'and', 'ways', 'to', 'finance', 'them', 'have', 'become', 'musts', 'if', 'the', 'state', 'in', 'the', 'next', 'few', 'years', 'is', 'to', 'avoid', 'crisis-to-crisis', 'government', '.'], ['This', 'session', ',', 'for', 'instance', ',', 'may', 'have', 'insured', 'a', 'financial', 'crisis', 'two', 'years', 'from', 'now', '.'], ['In', 'all', 'the', 'turmoil', ',', 'some', 'good', 'legislation', 'was', 'passed', '.'], ['Some', 'other', 'good', 'bills', 'were', 'lost', 'in', 'the', 'shuffle', 'and', 'await', 'future', 'action', '.'], ['Certainly', 'all', 'can', 'applaud', 'passage', 'of', 'an', 'auto', 'title', 'law', ',', 'the', 'school', 'bills', ',', 'the', 'increase', 'in', 'teacher', 'pensions', ',', 'the', 'ban', 'on', 'drag', 'racing', ',', 'acceptance', 'by', 'the', 'state', 'of', 'responsibility', 'for', 'maintenance', 'of', 'state', 'roads', 'in', 'municipalities', 'at', 'the', 'same', 'rate', 'as', 'outside', 'city', 'limits', ',', 'repeal', 'of', 'the', 'college', 'age', 'limit', 'law', 'and', 'the', 'road', 'maintenance', 'bond', 'issue', '.']]\n"
     ]
    }
   ],
   "source": [
    "data=brown.sents(categories='editorial')[:10]\n",
    "print(data)"
   ]
  },
  {
   "cell_type": "code",
   "execution_count": 14,
   "metadata": {},
   "outputs": [
    {
     "name": "stdout",
     "output_type": "stream",
     "text": [
      "10\n"
     ]
    }
   ],
   "source": [
    "print(len(data))"
   ]
  },
  {
   "cell_type": "markdown",
   "metadata": {},
   "source": [
    "# 03. NLTK - Tokenization, Stopword Removal"
   ]
  },
  {
   "cell_type": "markdown",
   "metadata": {},
   "source": [
    "## Basic NLP Pipeline\n",
    "- Data Collection\n",
    "- Tokenization, Stopword, Stemming, Lemmatization\n",
    "- Building a common vocab\n",
    "- Vectorizing the documents\n",
    "- Performing Classification/Clustering"
   ]
  },
  {
   "cell_type": "markdown",
   "metadata": {},
   "source": [
    "## B. Tokenization"
   ]
  },
  {
   "cell_type": "code",
   "execution_count": 16,
   "metadata": {},
   "outputs": [
    {
     "name": "stdout",
     "output_type": "stream",
     "text": [
      "['The', 'General', 'Assembly', ',', 'which', 'adjourns', 'today', ',', 'has', 'performed', 'in', 'an', 'atmosphere', 'of', 'crisis', 'and', 'struggle', 'from', 'the', 'day', 'it', 'convened', '.']\n"
     ]
    }
   ],
   "source": [
    "text=data[1]\n",
    "print(text)"
   ]
  },
  {
   "cell_type": "code",
   "execution_count": 17,
   "metadata": {},
   "outputs": [
    {
     "name": "stdout",
     "output_type": "stream",
     "text": [
      "It was a very pleasant day, the weather was cool and there were light showers. I went to market to buy some fruits.\n"
     ]
    }
   ],
   "source": [
    "text='It was a very pleasant day, the weather was cool and there were light showers. I went to market to buy some fruits.'\n",
    "print(text)"
   ]
  },
  {
   "cell_type": "code",
   "execution_count": 18,
   "metadata": {},
   "outputs": [],
   "source": [
    "from nltk.tokenize import sent_tokenize"
   ]
  },
  {
   "cell_type": "code",
   "execution_count": 19,
   "metadata": {},
   "outputs": [
    {
     "name": "stdout",
     "output_type": "stream",
     "text": [
      "['It was a very pleasant day, the weather was cool and there were light showers.', 'I went to market to buy some fruits.']\n"
     ]
    }
   ],
   "source": [
    "print(sent_tokenize(text))"
   ]
  },
  {
   "cell_type": "code",
   "execution_count": 20,
   "metadata": {},
   "outputs": [],
   "source": [
    "from nltk.tokenize import word_tokenize"
   ]
  },
  {
   "cell_type": "code",
   "execution_count": 21,
   "metadata": {},
   "outputs": [
    {
     "name": "stdout",
     "output_type": "stream",
     "text": [
      "['It', 'was', 'a', 'very', 'pleasant', 'day', ',', 'the', 'weather', 'was', 'cool', 'and', 'there', 'were', 'light', 'showers', '.', 'I', 'went', 'to', 'market', 'to', 'buy', 'some', 'fruits', '.']\n"
     ]
    }
   ],
   "source": [
    "print(word_tokenize(text))"
   ]
  },
  {
   "cell_type": "code",
   "execution_count": 22,
   "metadata": {},
   "outputs": [
    {
     "name": "stdout",
     "output_type": "stream",
     "text": [
      "['It was a very pleasant day, the weather was cool and there were light showers.', 'I went to market to buy some fruits.']\n"
     ]
    }
   ],
   "source": [
    "sents=sent_tokenize(text)\n",
    "print(sents)"
   ]
  },
  {
   "cell_type": "code",
   "execution_count": 27,
   "metadata": {},
   "outputs": [
    {
     "name": "stdout",
     "output_type": "stream",
     "text": [
      "['I', 'went', 'to', 'market', 'to', 'buy', 'some', 'fruits', '.']\n"
     ]
    }
   ],
   "source": [
    "word_list=word_tokenize(sents[1])\n",
    "print(word_list)"
   ]
  },
  {
   "cell_type": "markdown",
   "metadata": {},
   "source": [
    "## Stopword Removal"
   ]
  },
  {
   "cell_type": "code",
   "execution_count": 24,
   "metadata": {},
   "outputs": [],
   "source": [
    "from nltk.corpus import stopwords"
   ]
  },
  {
   "cell_type": "code",
   "execution_count": 25,
   "metadata": {},
   "outputs": [
    {
     "name": "stdout",
     "output_type": "stream",
     "text": [
      "{'her', 'didn', 'wouldn', \"it's\", 'before', 'it', 'ourselves', 'yourself', 'over', 'and', 's', 'them', 'me', 'has', 'few', \"doesn't\", 'those', 'y', 'more', 'he', 'just', 'these', 'were', 'now', \"she's\", 'above', \"shan't\", 're', 'the', 'have', 'where', 'nor', 'here', 'isn', 'through', 'to', \"needn't\", 'once', 'do', 'its', 'll', 'from', 'doesn', 'himself', 'yourselves', 'in', 'd', 'under', 'with', 'too', 'weren', \"mightn't\", 'myself', 'ours', 'him', \"wouldn't\", 'but', 'had', \"should've\", 'no', 'not', 'won', 'are', 'our', 'is', 'yours', 'your', 'each', 'ain', 'does', 'can', \"haven't\", 'a', 'how', 'or', 'further', 'out', \"hadn't\", 'so', \"you'll\", 'be', 'all', 'when', 'shouldn', 'shan', 'other', \"shouldn't\", 'she', 'my', 'then', \"couldn't\", 'there', 'herself', \"didn't\", 'what', 'you', 'down', 'between', 'off', 'should', 'was', 'both', 'about', 'been', 'during', 'we', 'having', 'on', 'because', 'such', 'themselves', 'ma', 'hers', \"you're\", \"won't\", 'again', \"mustn't\", 'whom', 'doing', 'being', 'am', 'most', 'an', 'after', 'couldn', 'own', 'of', 'will', 'wasn', 'did', 'hasn', 'i', 'until', 'up', 'for', 'o', 'why', 'theirs', 'this', 'which', \"aren't\", 've', 'don', 'while', 'needn', 'their', 'mustn', \"don't\", 'haven', 't', 'same', 'any', 'some', 'mightn', \"isn't\", \"you'd\", \"hasn't\", 'who', \"wasn't\", 'into', 'they', 'against', 'than', 'below', 'that', 'at', 'his', 'aren', \"weren't\", 'only', 'as', 'itself', 'm', 'hadn', \"that'll\", \"you've\", 'by', 'if', 'very'}\n"
     ]
    }
   ],
   "source": [
    "sw=set(stopwords.words('english'))\n",
    "print(sw)"
   ]
  },
  {
   "cell_type": "code",
   "execution_count": 26,
   "metadata": {},
   "outputs": [
    {
     "name": "stdout",
     "output_type": "stream",
     "text": [
      "179\n"
     ]
    }
   ],
   "source": [
    "print(len(sw))"
   ]
  },
  {
   "cell_type": "markdown",
   "metadata": {},
   "source": [
    "### Filter The Words From Your Sentence"
   ]
  },
  {
   "cell_type": "code",
   "execution_count": 28,
   "metadata": {},
   "outputs": [
    {
     "name": "stdout",
     "output_type": "stream",
     "text": [
      "['I', 'went', 'market', 'buy', 'fruits', '.']\n"
     ]
    }
   ],
   "source": [
    "useful_words=[w for w in word_list if w not in sw]\n",
    "print(useful_words)"
   ]
  },
  {
   "cell_type": "code",
   "execution_count": 30,
   "metadata": {},
   "outputs": [
    {
     "name": "stdout",
     "output_type": "stream",
     "text": [
      "['i', 'went', 'to', 'market', 'to', 'buy', 'some', 'fruits', '.']\n",
      "['went', 'market', 'buy', 'fruits', '.']\n"
     ]
    }
   ],
   "source": [
    "word_list=word_tokenize(sents[1].lower())\n",
    "print(word_list)\n",
    "useful_words=[w for w in word_list if w not in sw]\n",
    "print(useful_words)"
   ]
  },
  {
   "cell_type": "code",
   "execution_count": 31,
   "metadata": {},
   "outputs": [
    {
     "name": "stdout",
     "output_type": "stream",
     "text": [
      "['It', 'was', 'a', 'very', 'pleasant', 'day', ',', 'the', 'weather', 'was', 'cool', 'and', 'there', 'were', 'light', 'showers', '.']\n",
      "['It', 'pleasant', 'day', ',', 'weather', 'cool', 'light', 'showers', '.']\n"
     ]
    }
   ],
   "source": [
    "word_list=word_tokenize(sents[0])\n",
    "print(word_list)\n",
    "useful_words=[w for w in word_list if w not in sw]\n",
    "print(useful_words)"
   ]
  },
  {
   "cell_type": "code",
   "execution_count": 32,
   "metadata": {},
   "outputs": [
    {
     "name": "stdout",
     "output_type": "stream",
     "text": [
      "['it', 'was', 'a', 'very', 'pleasant', 'day', ',', 'the', 'weather', 'was', 'cool', 'and', 'there', 'were', 'light', 'showers', '.']\n",
      "['pleasant', 'day', ',', 'weather', 'cool', 'light', 'showers', '.']\n"
     ]
    }
   ],
   "source": [
    "word_list=word_tokenize(sents[0].lower())\n",
    "print(word_list)\n",
    "useful_words=[w for w in word_list if w not in sw]\n",
    "print(useful_words)"
   ]
  },
  {
   "cell_type": "markdown",
   "metadata": {},
   "source": [
    "# 04. NLTK - Regex Tokenizer"
   ]
  },
  {
   "cell_type": "markdown",
   "metadata": {},
   "source": [
    "### Tokenizer Using Regular Expression\n",
    "- Problem With word_tokenize() :\n",
    "-  Can't handle complex tokenizations!\n",
    "- So we use a RegexpTokenizer class in NLTK"
   ]
  },
  {
   "cell_type": "code",
   "execution_count": 33,
   "metadata": {},
   "outputs": [],
   "source": [
    "from nltk.tokenize import RegexpTokenizer "
   ]
  },
  {
   "cell_type": "markdown",
   "metadata": {},
   "source": [
    "### For regular expression\n",
    "https://www.regexpal.com/"
   ]
  },
  {
   "cell_type": "code",
   "execution_count": 34,
   "metadata": {},
   "outputs": [
    {
     "name": "stdout",
     "output_type": "stream",
     "text": [
      "['send', 'all', 'the', '50', 'documents', 'related', 'to', 'clauses', '1,2,3', 'at', 'abc', '@', 'xyz.com']\n"
     ]
    }
   ],
   "source": [
    "text='Send all the 50 documents related to clauses 1,2,3 at abc@xyz.com'\n",
    "word_list=word_tokenize(text.lower())\n",
    "print(word_list)"
   ]
  },
  {
   "cell_type": "code",
   "execution_count": 35,
   "metadata": {},
   "outputs": [
    {
     "name": "stdout",
     "output_type": "stream",
     "text": [
      "['Send', 'all', 'the', 'documents', 'related', 'to', 'clauses', 'at', 'abc@xyz', 'com']\n"
     ]
    }
   ],
   "source": [
    "# Regular Expression : '[a-zA-Z@]+' \n",
    "# Which means anything between a-z, A-Z and email. Atleast one is required (+) \n",
    "tokenizer=RegexpTokenizer('[a-zA-Z@]+')\n",
    "text='Send all the 50 documents related to clauses 1,2,3 at abc@xyz.com'\n",
    "print(tokenizer.tokenize(text))"
   ]
  },
  {
   "cell_type": "markdown",
   "metadata": {},
   "source": [
    "# 05. NLTK - Stemming & Lemmatization"
   ]
  },
  {
   "cell_type": "markdown",
   "metadata": {},
   "source": [
    "### Stemming\n",
    "- Process that transform particular word(verbs, plurals) into radical form\n",
    "- Preserve the semantics of the sentence without increasing the number of unique tokens\n",
    "- jump, jumped, jumping, jumps ==> jump"
   ]
  },
  {
   "cell_type": "markdown",
   "metadata": {},
   "source": [
    "### Filter the words from the sentence"
   ]
  },
  {
   "cell_type": "code",
   "execution_count": 36,
   "metadata": {},
   "outputs": [
    {
     "name": "stdout",
     "output_type": "stream",
     "text": [
      "['send', '50', 'documents', 'related', 'clauses', '1,2,3', 'abc', '@', 'xyz.com']\n"
     ]
    }
   ],
   "source": [
    "def filter_words(word_list):\n",
    "    useful_words=[w for w in word_list if w not in sw]\n",
    "    return useful_words\n",
    "useful_words=filter_words(word_list) # Remove the stopwords\n",
    "print(useful_words)"
   ]
  },
  {
   "cell_type": "code",
   "execution_count": 37,
   "metadata": {},
   "outputs": [
    {
     "name": "stdout",
     "output_type": "stream",
     "text": [
      "['foxes', 'love', 'to', 'make', 'jumps', 'the', 'quick', 'brown', 'fox', 'was', 'seen', 'jumping', 'over', 'the', 'lovely', 'dog', 'from', 'a', 'ft', 'high', 'wall']\n"
     ]
    }
   ],
   "source": [
    "text='Foxes love to make jumps. The quick brown fox was seen jumping over the lovely dog from a 6ft high wall'\n",
    "\n",
    "words_list=tokenizer.tokenize(text.lower())\n",
    "print(words_list)"
   ]
  },
  {
   "cell_type": "code",
   "execution_count": 39,
   "metadata": {},
   "outputs": [
    {
     "name": "stdout",
     "output_type": "stream",
     "text": [
      "['foxes', 'love', 'make', 'jumps', 'quick', 'brown', 'fox', 'seen', 'jumping', 'lovely', 'dog', 'ft', 'high', 'wall']\n"
     ]
    }
   ],
   "source": [
    "word_list=filter_words(words_list)\n",
    "print(word_list)"
   ]
  },
  {
   "cell_type": "markdown",
   "metadata": {},
   "source": [
    "### Stemming\n",
    "- 1) Snowball Stemmer (Multilingual)\n",
    "- 2) PorterStemmer \n",
    "- 3) LancasterStemmer"
   ]
  },
  {
   "cell_type": "code",
   "execution_count": 40,
   "metadata": {},
   "outputs": [],
   "source": [
    "from nltk.stem.snowball import PorterStemmer\n",
    "ps=PorterStemmer()"
   ]
  },
  {
   "cell_type": "code",
   "execution_count": 41,
   "metadata": {},
   "outputs": [
    {
     "data": {
      "text/plain": [
       "'jump'"
      ]
     },
     "execution_count": 41,
     "metadata": {},
     "output_type": "execute_result"
    }
   ],
   "source": [
    "ps.stem('jump')"
   ]
  },
  {
   "cell_type": "code",
   "execution_count": 44,
   "metadata": {},
   "outputs": [
    {
     "data": {
      "text/plain": [
       "'jump'"
      ]
     },
     "execution_count": 44,
     "metadata": {},
     "output_type": "execute_result"
    }
   ],
   "source": [
    "ps.stem('jumped')"
   ]
  },
  {
   "cell_type": "code",
   "execution_count": 45,
   "metadata": {},
   "outputs": [
    {
     "data": {
      "text/plain": [
       "'jump'"
      ]
     },
     "execution_count": 45,
     "metadata": {},
     "output_type": "execute_result"
    }
   ],
   "source": [
    "ps.stem('jumping')"
   ]
  },
  {
   "cell_type": "code",
   "execution_count": 46,
   "metadata": {},
   "outputs": [
    {
     "data": {
      "text/plain": [
       "'jump'"
      ]
     },
     "execution_count": 46,
     "metadata": {},
     "output_type": "execute_result"
    }
   ],
   "source": [
    "ps.stem('jumps')"
   ]
  },
  {
   "cell_type": "code",
   "execution_count": 47,
   "metadata": {},
   "outputs": [
    {
     "data": {
      "text/plain": [
       "'jumpedd'"
      ]
     },
     "execution_count": 47,
     "metadata": {},
     "output_type": "execute_result"
    }
   ],
   "source": [
    "ps.stem('jumpedd')"
   ]
  },
  {
   "cell_type": "code",
   "execution_count": 48,
   "metadata": {},
   "outputs": [
    {
     "data": {
      "text/plain": [
       "'love'"
      ]
     },
     "execution_count": 48,
     "metadata": {},
     "output_type": "execute_result"
    }
   ],
   "source": [
    "ps.stem('lovely')"
   ]
  },
  {
   "cell_type": "code",
   "execution_count": 49,
   "metadata": {},
   "outputs": [
    {
     "data": {
      "text/plain": [
       "'awesom'"
      ]
     },
     "execution_count": 49,
     "metadata": {},
     "output_type": "execute_result"
    }
   ],
   "source": [
    "ps.stem('awesome')"
   ]
  },
  {
   "cell_type": "code",
   "execution_count": 50,
   "metadata": {},
   "outputs": [
    {
     "data": {
      "text/plain": [
       "'tee'"
      ]
     },
     "execution_count": 50,
     "metadata": {},
     "output_type": "execute_result"
    }
   ],
   "source": [
    "from nltk.stem.lancaster import LancasterStemmer\n",
    "ls=LancasterStemmer()\n",
    "ls.stem('teeth')"
   ]
  },
  {
   "cell_type": "code",
   "execution_count": 52,
   "metadata": {},
   "outputs": [
    {
     "name": "stdout",
     "output_type": "stream",
     "text": [
      "teenag\n",
      "teen\n"
     ]
    }
   ],
   "source": [
    "print(ps.stem('Teenager'))#English\n",
    "print(ls.stem('Teenager'))#English"
   ]
  },
  {
   "cell_type": "code",
   "execution_count": 55,
   "metadata": {},
   "outputs": [
    {
     "name": "stdout",
     "output_type": "stream",
     "text": [
      "love\n",
      "teenag\n"
     ]
    }
   ],
   "source": [
    "# SnowballStemmer\n",
    "from nltk.stem.snowball import SnowballStemmer\n",
    "ss=SnowballStemmer('english')\n",
    "print(ss.stem('lovely'))\n",
    "print(ss.stem('teenager'))"
   ]
  },
  {
   "cell_type": "code",
   "execution_count": 56,
   "metadata": {},
   "outputs": [
    {
     "name": "stdout",
     "output_type": "stream",
     "text": [
      "cour\n"
     ]
    }
   ],
   "source": [
    "ss_french=SnowballStemmer('french')\n",
    "print(ss_french.stem('courais')) # was running"
   ]
  },
  {
   "cell_type": "markdown",
   "metadata": {},
   "source": [
    "## Task (Assignment): Write one function which performs all the three steps - Tokenization, Stopword Removal, Stemming, Any leading or trailing whitespaces"
   ]
  },
  {
   "cell_type": "code",
   "execution_count": 73,
   "metadata": {},
   "outputs": [],
   "source": [
    "from nltk.tokenize import RegexpTokenizer \n",
    "from nltk.corpus import stopwords\n",
    "from nltk.stem.snowball import SnowballStemmer\n",
    "def removal(text):\n",
    "    tokenizer=RegexpTokenizer('[a-zA-Z]+') # Tokenization using Regular Expression\n",
    "    regexp_list=tokenizer.tokenize(text)\n",
    "    #print(regexp_list)\n",
    "    lower_list=[w.lower() for w in regexp_list] # Change to Lower case\n",
    "    #print(lower_list)\n",
    "    sw=set(stopwords.words('english')) # Stopword removal\n",
    "    useful_words=[w for w in lower_list if w not in sw]\n",
    "    #print(useful_words)\n",
    "    ss=SnowballStemmer('english')# Stemming\n",
    "    stemmed_words=[ss.stem(w) for w in useful_words]\n",
    "    #print(stemmed_words)\n",
    "    final_words=[w.strip() for w in stemmed_words] # White space removal\n",
    "    return final_words    "
   ]
  },
  {
   "cell_type": "code",
   "execution_count": 74,
   "metadata": {},
   "outputs": [
    {
     "name": "stdout",
     "output_type": "stream",
     "text": [
      "['quick', 'brown', 'fox', 'jump', 'right', 'littl', 'jump', 'lazi', 'love', 'dog', 'like']\n"
     ]
    }
   ],
   "source": [
    "text=\"The quick brown fox jumps right over the little jumping lazy lovely dog.And i    liked it.\"\n",
    "print(removal(text))"
   ]
  },
  {
   "cell_type": "markdown",
   "metadata": {},
   "source": [
    "### Lemmatization"
   ]
  },
  {
   "cell_type": "code",
   "execution_count": 75,
   "metadata": {},
   "outputs": [],
   "source": [
    "from nltk.stem import WordNetLemmatizer"
   ]
  },
  {
   "cell_type": "code",
   "execution_count": 77,
   "metadata": {},
   "outputs": [
    {
     "data": {
      "text/plain": [
       "'cry'"
      ]
     },
     "execution_count": 77,
     "metadata": {},
     "output_type": "execute_result"
    }
   ],
   "source": [
    "l=WordNetLemmatizer()\n",
    "l.lemmatize('crying')"
   ]
  },
  {
   "cell_type": "markdown",
   "metadata": {},
   "source": [
    "# 06. Bag of Words - Constructing Vocab"
   ]
  },
  {
   "cell_type": "markdown",
   "metadata": {},
   "source": [
    "### Building Common Vocabulary and Vectorizing Documents (based upon Bag of Words Model)"
   ]
  },
  {
   "cell_type": "code",
   "execution_count": 78,
   "metadata": {},
   "outputs": [],
   "source": [
    "corpus=[\n",
    "    'Indian cricket team will win World Cup, says Capt. Virat Kohli',\n",
    "    'We will win next Lok Sabha Elections, says confident Indian PM',\n",
    "    'The Nobel Laureate won the hearts of the people',\n",
    "    'The movie Razi is an exciting Indian Spy thriller based upon a real story'\n",
    "]"
   ]
  },
  {
   "cell_type": "code",
   "execution_count": 88,
   "metadata": {},
   "outputs": [],
   "source": [
    "from sklearn.feature_extraction.text import CountVectorizer"
   ]
  },
  {
   "cell_type": "code",
   "execution_count": 89,
   "metadata": {},
   "outputs": [],
   "source": [
    "cv=CountVectorizer()"
   ]
  },
  {
   "cell_type": "code",
   "execution_count": 90,
   "metadata": {},
   "outputs": [],
   "source": [
    "vectorized_corpus=cv.fit_transform(corpus)"
   ]
  },
  {
   "cell_type": "code",
   "execution_count": 91,
   "metadata": {},
   "outputs": [
    {
     "data": {
      "text/plain": [
       "<4x36 sparse matrix of type '<class 'numpy.int64'>'\n",
       "\twith 42 stored elements in Compressed Sparse Row format>"
      ]
     },
     "execution_count": 91,
     "metadata": {},
     "output_type": "execute_result"
    }
   ],
   "source": [
    "vectorized_corpus"
   ]
  },
  {
   "cell_type": "code",
   "execution_count": 83,
   "metadata": {},
   "outputs": [],
   "source": [
    "vectorized_corpus?"
   ]
  },
  {
   "cell_type": "code",
   "execution_count": 84,
   "metadata": {},
   "outputs": [],
   "source": [
    "vectorized_corpus=cv.fit_transform(corpus).todense()"
   ]
  },
  {
   "cell_type": "code",
   "execution_count": 85,
   "metadata": {},
   "outputs": [
    {
     "data": {
      "text/plain": [
       "matrix([[0, 0, 1, 0, 1, 1, 0, 0, 0, 1, 0, 1, 0, 0, 0, 0, 0, 0, 0, 0, 0,\n",
       "         0, 0, 1, 0, 0, 1, 0, 0, 0, 1, 0, 1, 1, 0, 1],\n",
       "        [0, 0, 0, 1, 0, 0, 1, 0, 0, 1, 0, 0, 0, 1, 0, 1, 0, 0, 0, 1, 0,\n",
       "         0, 1, 1, 0, 0, 0, 0, 0, 0, 0, 1, 1, 1, 0, 0],\n",
       "        [0, 0, 0, 0, 0, 0, 0, 0, 1, 0, 0, 0, 1, 0, 0, 0, 1, 1, 1, 0, 0,\n",
       "         0, 0, 0, 0, 0, 0, 3, 0, 0, 0, 0, 0, 0, 1, 0],\n",
       "        [1, 1, 0, 0, 0, 0, 0, 1, 0, 1, 1, 0, 0, 0, 1, 0, 0, 0, 0, 0, 1,\n",
       "         1, 0, 0, 1, 1, 0, 1, 1, 1, 0, 0, 0, 0, 0, 0]], dtype=int64)"
      ]
     },
     "execution_count": 85,
     "metadata": {},
     "output_type": "execute_result"
    }
   ],
   "source": [
    "vectorized_corpus"
   ]
  },
  {
   "cell_type": "code",
   "execution_count": 92,
   "metadata": {},
   "outputs": [],
   "source": [
    "vectorized_corpus=cv.fit_transform(corpus).toarray()"
   ]
  },
  {
   "cell_type": "code",
   "execution_count": 93,
   "metadata": {},
   "outputs": [
    {
     "data": {
      "text/plain": [
       "array([[0, 0, 1, 0, 1, 1, 0, 0, 0, 1, 0, 1, 0, 0, 0, 0, 0, 0, 0, 0, 0, 0,\n",
       "        0, 1, 0, 0, 1, 0, 0, 0, 1, 0, 1, 1, 0, 1],\n",
       "       [0, 0, 0, 1, 0, 0, 1, 0, 0, 1, 0, 0, 0, 1, 0, 1, 0, 0, 0, 1, 0, 0,\n",
       "        1, 1, 0, 0, 0, 0, 0, 0, 0, 1, 1, 1, 0, 0],\n",
       "       [0, 0, 0, 0, 0, 0, 0, 0, 1, 0, 0, 0, 1, 0, 0, 0, 1, 1, 1, 0, 0, 0,\n",
       "        0, 0, 0, 0, 0, 3, 0, 0, 0, 0, 0, 0, 1, 0],\n",
       "       [1, 1, 0, 0, 0, 0, 0, 1, 0, 1, 1, 0, 0, 0, 1, 0, 0, 0, 0, 0, 1, 1,\n",
       "        0, 0, 1, 1, 0, 1, 1, 1, 0, 0, 0, 0, 0, 0]], dtype=int64)"
      ]
     },
     "execution_count": 93,
     "metadata": {},
     "output_type": "execute_result"
    }
   ],
   "source": [
    "vectorized_corpus"
   ]
  },
  {
   "cell_type": "code",
   "execution_count": 96,
   "metadata": {},
   "outputs": [],
   "source": [
    "cv.vocabulary"
   ]
  },
  {
   "cell_type": "code",
   "execution_count": 97,
   "metadata": {},
   "outputs": [
    {
     "data": {
      "text/plain": [
       "{'an': 0,\n",
       " 'based': 1,\n",
       " 'capt': 2,\n",
       " 'confident': 3,\n",
       " 'cricket': 4,\n",
       " 'cup': 5,\n",
       " 'elections': 6,\n",
       " 'exciting': 7,\n",
       " 'hearts': 8,\n",
       " 'indian': 9,\n",
       " 'is': 10,\n",
       " 'kohli': 11,\n",
       " 'laureate': 12,\n",
       " 'lok': 13,\n",
       " 'movie': 14,\n",
       " 'next': 15,\n",
       " 'nobel': 16,\n",
       " 'of': 17,\n",
       " 'people': 18,\n",
       " 'pm': 19,\n",
       " 'razi': 20,\n",
       " 'real': 21,\n",
       " 'sabha': 22,\n",
       " 'says': 23,\n",
       " 'spy': 24,\n",
       " 'story': 25,\n",
       " 'team': 26,\n",
       " 'the': 27,\n",
       " 'thriller': 28,\n",
       " 'upon': 29,\n",
       " 'virat': 30,\n",
       " 'we': 31,\n",
       " 'will': 32,\n",
       " 'win': 33,\n",
       " 'won': 34,\n",
       " 'world': 35}"
      ]
     },
     "execution_count": 97,
     "metadata": {},
     "output_type": "execute_result"
    }
   ],
   "source": [
    "cv.vocabulary_ # Dictionary - Word -> Index"
   ]
  },
  {
   "cell_type": "code",
   "execution_count": 99,
   "metadata": {},
   "outputs": [
    {
     "data": {
      "text/plain": [
       "36"
      ]
     },
     "execution_count": 99,
     "metadata": {},
     "output_type": "execute_result"
    }
   ],
   "source": [
    "len(cv.vocabulary_)"
   ]
  },
  {
   "cell_type": "code",
   "execution_count": 100,
   "metadata": {},
   "outputs": [
    {
     "name": "stdout",
     "output_type": "stream",
     "text": [
      "[1. 1. 1. 0. 0. 0. 0. 1. 1. 1. 1. 1. 1. 1. 1. 1. 1. 1. 1. 1. 1. 1. 1. 1.\n",
      " 1. 1. 1. 1. 1. 1. 1. 1. 1. 1. 1. 1.]\n"
     ]
    }
   ],
   "source": [
    "# Reverse mapping \n",
    "# Given the Vector what is the sentence\n",
    "import numpy as np\n",
    "vector=np.ones((36,))\n",
    "vector[3:7]=0\n",
    "print(vector)"
   ]
  },
  {
   "cell_type": "code",
   "execution_count": 101,
   "metadata": {},
   "outputs": [
    {
     "name": "stdout",
     "output_type": "stream",
     "text": [
      "[array(['an', 'based', 'capt', 'exciting', 'hearts', 'indian', 'is',\n",
      "       'kohli', 'laureate', 'lok', 'movie', 'next', 'nobel', 'of',\n",
      "       'people', 'pm', 'razi', 'real', 'sabha', 'says', 'spy', 'story',\n",
      "       'team', 'the', 'thriller', 'upon', 'virat', 'we', 'will', 'win',\n",
      "       'won', 'world'], dtype='<U9')]\n"
     ]
    }
   ],
   "source": [
    "print(cv.inverse_transform(vector))"
   ]
  },
  {
   "cell_type": "code",
   "execution_count": 102,
   "metadata": {},
   "outputs": [
    {
     "data": {
      "text/plain": [
       "1"
      ]
     },
     "execution_count": 102,
     "metadata": {},
     "output_type": "execute_result"
    }
   ],
   "source": [
    "cv.vocabulary_['based']"
   ]
  },
  {
   "cell_type": "code",
   "execution_count": 107,
   "metadata": {},
   "outputs": [
    {
     "data": {
      "text/plain": [
       "7"
      ]
     },
     "execution_count": 107,
     "metadata": {},
     "output_type": "execute_result"
    }
   ],
   "source": [
    "cv.vocabulary_['exciting']"
   ]
  },
  {
   "cell_type": "code",
   "execution_count": 108,
   "metadata": {},
   "outputs": [
    {
     "data": {
      "text/plain": [
       "9"
      ]
     },
     "execution_count": 108,
     "metadata": {},
     "output_type": "execute_result"
    }
   ],
   "source": [
    "cv.vocabulary_['indian']"
   ]
  },
  {
   "cell_type": "code",
   "execution_count": 109,
   "metadata": {},
   "outputs": [
    {
     "data": {
      "text/plain": [
       "{'an': 0,\n",
       " 'based': 1,\n",
       " 'capt': 2,\n",
       " 'confident': 3,\n",
       " 'cricket': 4,\n",
       " 'cup': 5,\n",
       " 'elections': 6,\n",
       " 'exciting': 7,\n",
       " 'hearts': 8,\n",
       " 'indian': 9,\n",
       " 'is': 10,\n",
       " 'kohli': 11,\n",
       " 'laureate': 12,\n",
       " 'lok': 13,\n",
       " 'movie': 14,\n",
       " 'next': 15,\n",
       " 'nobel': 16,\n",
       " 'of': 17,\n",
       " 'people': 18,\n",
       " 'pm': 19,\n",
       " 'razi': 20,\n",
       " 'real': 21,\n",
       " 'sabha': 22,\n",
       " 'says': 23,\n",
       " 'spy': 24,\n",
       " 'story': 25,\n",
       " 'team': 26,\n",
       " 'the': 27,\n",
       " 'thriller': 28,\n",
       " 'upon': 29,\n",
       " 'virat': 30,\n",
       " 'we': 31,\n",
       " 'will': 32,\n",
       " 'win': 33,\n",
       " 'won': 34,\n",
       " 'world': 35}"
      ]
     },
     "execution_count": 109,
     "metadata": {},
     "output_type": "execute_result"
    }
   ],
   "source": [
    "cv.vocabulary_"
   ]
  },
  {
   "cell_type": "markdown",
   "metadata": {},
   "source": [
    "# 07. Bag of Words - Vectorization, Unigram Features"
   ]
  },
  {
   "cell_type": "code",
   "execution_count": 110,
   "metadata": {},
   "outputs": [
    {
     "data": {
      "text/plain": [
       "['indian',\n",
       " 'cricket',\n",
       " 'team',\n",
       " 'win',\n",
       " 'world',\n",
       " 'cup',\n",
       " 'says',\n",
       " 'capt',\n",
       " 'virat',\n",
       " 'kohli']"
      ]
     },
     "execution_count": 110,
     "metadata": {},
     "output_type": "execute_result"
    }
   ],
   "source": [
    "# Effectively reduce the size of the vector\n",
    "\n",
    "from nltk.tokenize import RegexpTokenizer \n",
    "from nltk.corpus import stopwords\n",
    "\n",
    "def filter_words(word_list):\n",
    "    sw=set(stopwords.words('english'))\n",
    "    useful_words=[w for w in word_list if w not in sw]\n",
    "    return useful_words\n",
    "\n",
    "def myTokenizer(sentence):\n",
    "    tokenizer=RegexpTokenizer('[a-zA-Z]+')\n",
    "    words=tokenizer.tokenize(sentence.lower())\n",
    "    return filter_words(words)\n",
    "\n",
    "myTokenizer(corpus[0])"
   ]
  },
  {
   "cell_type": "code",
   "execution_count": 119,
   "metadata": {},
   "outputs": [
    {
     "name": "stdout",
     "output_type": "stream",
     "text": [
      "[[0 1 0 1 1 0 0 0 1 1 0 0 0 0 0 0 0 0 0 0 1 0 0 1 0 0 1 1 1]\n",
      " [0 0 1 0 0 1 0 0 1 0 0 1 0 1 0 0 1 0 0 1 1 0 0 0 0 0 0 1 0]\n",
      " [0 0 0 0 0 0 0 1 0 0 1 0 0 0 1 1 0 0 0 0 0 0 0 0 0 0 0 0 0]\n",
      " [1 0 0 0 0 0 1 0 1 0 0 0 1 0 0 0 0 1 1 0 0 1 1 0 1 1 0 0 0]]\n",
      "4\n",
      "[[0 1 0 1 1 0 0 0 1 1 0 0 0 0 0 0 0 0 0 0 1 0 0 1 0 0 1 1 1]]\n",
      "1\n"
     ]
    }
   ],
   "source": [
    "cv=CountVectorizer(tokenizer=myTokenizer)\n",
    "vectorized_corpus=cv.fit_transform(corpus)\n",
    "vc=vectorized_corpus.todense()\n",
    "print(vc)\n",
    "print(len(vc))\n",
    "print(vc[0])\n",
    "print(len(vc[0])) # As a string"
   ]
  },
  {
   "cell_type": "code",
   "execution_count": 120,
   "metadata": {},
   "outputs": [
    {
     "name": "stdout",
     "output_type": "stream",
     "text": [
      "[[0 1 0 1 1 0 0 0 1 1 0 0 0 0 0 0 0 0 0 0 1 0 0 1 0 0 1 1 1]\n",
      " [0 0 1 0 0 1 0 0 1 0 0 1 0 1 0 0 1 0 0 1 1 0 0 0 0 0 0 1 0]\n",
      " [0 0 0 0 0 0 0 1 0 0 1 0 0 0 1 1 0 0 0 0 0 0 0 0 0 0 0 0 0]\n",
      " [1 0 0 0 0 0 1 0 1 0 0 0 1 0 0 0 0 1 1 0 0 1 1 0 1 1 0 0 0]]\n",
      "4\n",
      "[0 1 0 1 1 0 0 0 1 1 0 0 0 0 0 0 0 0 0 0 1 0 0 1 0 0 1 1 1]\n",
      "29\n"
     ]
    }
   ],
   "source": [
    "vc=vectorized_corpus.toarray()\n",
    "print(vc)\n",
    "print(len(vc))\n",
    "print(vc[0])\n",
    "print(len(vc[0])) # Individual elements"
   ]
  },
  {
   "cell_type": "code",
   "execution_count": 121,
   "metadata": {},
   "outputs": [
    {
     "data": {
      "text/plain": [
       "[array(['capt', 'cricket', 'cup', 'indian', 'kohli', 'says', 'team',\n",
       "        'virat', 'win', 'world'], dtype='<U9')]"
      ]
     },
     "execution_count": 121,
     "metadata": {},
     "output_type": "execute_result"
    }
   ],
   "source": [
    "v=vc[0]\n",
    "cv.inverse_transform(v)"
   ]
  },
  {
   "cell_type": "code",
   "execution_count": 122,
   "metadata": {},
   "outputs": [
    {
     "name": "stdout",
     "output_type": "stream",
     "text": [
      "[0 1 0 1 1 0 0 0 1 1 0 0 0 0 0 0 0 0 0 0 1 0 0 1 0 0 1 1 1]\n"
     ]
    }
   ],
   "source": [
    "print(vc[0])"
   ]
  },
  {
   "cell_type": "code",
   "execution_count": 123,
   "metadata": {},
   "outputs": [
    {
     "name": "stdout",
     "output_type": "stream",
     "text": [
      "[1 1 0 1 1 0 0 0 1 1 0 0 0 0 0 0 0 0 0 0 1 0 0 1 0 0 1 1 1]\n"
     ]
    }
   ],
   "source": [
    "vc[0][0]=1\n",
    "print(vc[0])"
   ]
  },
  {
   "cell_type": "code",
   "execution_count": 124,
   "metadata": {},
   "outputs": [
    {
     "data": {
      "text/plain": [
       "[array(['based', 'capt', 'cricket', 'cup', 'indian', 'kohli', 'says',\n",
       "        'team', 'virat', 'win', 'world'], dtype='<U9')]"
      ]
     },
     "execution_count": 124,
     "metadata": {},
     "output_type": "execute_result"
    }
   ],
   "source": [
    "cv.inverse_transform(vc[0])"
   ]
  },
  {
   "cell_type": "code",
   "execution_count": 125,
   "metadata": {},
   "outputs": [],
   "source": [
    "# This is known as Unigram : Bag of words model"
   ]
  },
  {
   "cell_type": "markdown",
   "metadata": {},
   "source": [
    "# 08. Bag of Words Model - Bigrams, Trigrams, Ngrams as features"
   ]
  },
  {
   "cell_type": "markdown",
   "metadata": {},
   "source": [
    "### Features of Bag of Words Model\n",
    "- Unigrams\n",
    "- Bigrams, Trigrams\n",
    "- N-Grams"
   ]
  },
  {
   "cell_type": "code",
   "execution_count": 126,
   "metadata": {},
   "outputs": [
    {
     "name": "stdout",
     "output_type": "stream",
     "text": [
      "{'indian': 16, 'cricket': 6, 'team': 45, 'win': 53, 'world': 56, 'cup': 8, 'says': 39, 'capt': 2, 'virat': 51, 'kohli': 20, 'indian cricket': 17, 'cricket team': 7, 'team win': 46, 'win world': 55, 'world cup': 57, 'cup says': 9, 'says capt': 40, 'capt virat': 3, 'virat kohli': 52, 'next': 27, 'lok': 23, 'sabha': 37, 'elections': 10, 'confident': 4, 'pm': 32, 'win next': 54, 'next lok': 28, 'lok sabha': 24, 'sabha elections': 38, 'elections says': 11, 'says confident': 41, 'confident indian': 5, 'indian pm': 18, 'nobel': 29, 'laureate': 21, 'hearts': 14, 'people': 31, 'nobel laureate': 30, 'laureate hearts': 22, 'hearts people': 15, 'movie': 25, 'razi': 33, 'exciting': 12, 'spy': 42, 'thriller': 47, 'based': 0, 'upon': 49, 'real': 35, 'story': 44, 'movie razi': 26, 'razi exciting': 34, 'exciting indian': 13, 'indian spy': 19, 'spy thriller': 43, 'thriller based': 48, 'based upon': 1, 'upon real': 50, 'real story': 36}\n"
     ]
    }
   ],
   "source": [
    "cv=CountVectorizer(tokenizer=myTokenizer,ngram_range=(1,2))# Bigram\n",
    "vectorized_corpus=cv.fit_transform(corpus)\n",
    "vc=vectorized_corpus.toarray()\n",
    "\n",
    "print(cv.vocabulary_) # Print indexes"
   ]
  },
  {
   "cell_type": "code",
   "execution_count": 127,
   "metadata": {},
   "outputs": [
    {
     "name": "stdout",
     "output_type": "stream",
     "text": [
      "[[0 0 1 1 0 0 1 1 1 1 0 0 0 0 0 0 1 1 0 0 1 0 0 0 0 0 0 0 0 0 0 0 0 0 0 0\n",
      "  0 0 0 1 1 0 0 0 0 1 1 0 0 0 0 1 1 1 0 1 1 1]\n",
      " [0 0 0 0 1 1 0 0 0 0 1 1 0 0 0 0 1 0 1 0 0 0 0 1 1 0 0 1 1 0 0 0 1 0 0 0\n",
      "  0 1 1 1 0 1 0 0 0 0 0 0 0 0 0 0 0 1 1 0 0 0]\n",
      " [0 0 0 0 0 0 0 0 0 0 0 0 0 0 1 1 0 0 0 0 0 1 1 0 0 0 0 0 0 1 1 1 0 0 0 0\n",
      "  0 0 0 0 0 0 0 0 0 0 0 0 0 0 0 0 0 0 0 0 0 0]\n",
      " [1 1 0 0 0 0 0 0 0 0 0 0 1 1 0 0 1 0 0 1 0 0 0 0 0 1 1 0 0 0 0 0 0 1 1 1\n",
      "  1 0 0 0 0 0 1 1 1 0 0 1 1 1 1 0 0 0 0 0 0 0]]\n"
     ]
    }
   ],
   "source": [
    "print(vc) # Print frequency"
   ]
  },
  {
   "cell_type": "code",
   "execution_count": 128,
   "metadata": {},
   "outputs": [
    {
     "name": "stdout",
     "output_type": "stream",
     "text": [
      "58\n"
     ]
    }
   ],
   "source": [
    "print(len(vc[0]))#Increased in no because of inclusion of bigrams along with unigrams"
   ]
  },
  {
   "cell_type": "markdown",
   "metadata": {},
   "source": [
    "# 09. TF-IDF Normalisation (Term Freq - Inverse Doc Freq)"
   ]
  },
  {
   "cell_type": "markdown",
   "metadata": {},
   "source": [
    "### Tf-idf Noramlisation \n",
    "- Avoid features that occur very often, because they contain less information\n",
    "- Information decreases as the number of occurances increases across different type of documents\n",
    "- So we define another term - term-document-frequency which associates a weight with every term"
   ]
  },
  {
   "cell_type": "code",
   "execution_count": 130,
   "metadata": {},
   "outputs": [],
   "source": [
    "corpus=[\n",
    "    'Indian cricket team will win World Cup, says Capt. Virat Kohli. World cup will be held at Sri Lanka.',\n",
    "    'We will win next Lok Sabha Elections, says confident Indian PM',\n",
    "    'The Nobel Laureate won the hearts of the people',\n",
    "    'The movie Razi is an exciting Indian Spy thriller based upon a real story'\n",
    "]"
   ]
  },
  {
   "cell_type": "code",
   "execution_count": 131,
   "metadata": {},
   "outputs": [],
   "source": [
    "from sklearn.feature_extraction.text import TfidfVectorizer"
   ]
  },
  {
   "cell_type": "code",
   "execution_count": 133,
   "metadata": {},
   "outputs": [
    {
     "name": "stdout",
     "output_type": "stream",
     "text": [
      "[[0.         0.         0.17238665 0.17238665 0.         0.\n",
      "  0.17238665 0.17238665 0.34477329 0.17238665 0.17238665 0.\n",
      "  0.         0.         0.         0.         0.         0.17238665\n",
      "  0.17238665 0.11003216 0.17238665 0.         0.         0.17238665\n",
      "  0.17238665 0.17238665 0.         0.         0.         0.\n",
      "  0.         0.         0.         0.         0.         0.\n",
      "  0.         0.         0.         0.         0.         0.\n",
      "  0.         0.         0.13591161 0.17238665 0.         0.\n",
      "  0.         0.17238665 0.17238665 0.         0.17238665 0.17238665\n",
      "  0.         0.         0.         0.         0.17238665 0.17238665\n",
      "  0.13591161 0.         0.17238665 0.34477329 0.34477329]\n",
      " [0.         0.         0.         0.         0.25277526 0.25277526\n",
      "  0.         0.         0.         0.         0.         0.25277526\n",
      "  0.25277526 0.         0.         0.         0.         0.\n",
      "  0.         0.16134317 0.         0.25277526 0.         0.\n",
      "  0.         0.         0.         0.         0.25277526 0.25277526\n",
      "  0.         0.         0.25277526 0.25277526 0.         0.\n",
      "  0.         0.25277526 0.         0.         0.         0.\n",
      "  0.25277526 0.25277526 0.19929092 0.         0.25277526 0.\n",
      "  0.         0.         0.         0.         0.         0.\n",
      "  0.         0.         0.         0.         0.         0.\n",
      "  0.19929092 0.25277526 0.         0.         0.        ]\n",
      " [0.         0.         0.         0.         0.         0.\n",
      "  0.         0.         0.         0.         0.         0.\n",
      "  0.         0.         0.         0.37796447 0.37796447 0.\n",
      "  0.         0.         0.         0.         0.         0.\n",
      "  0.         0.         0.37796447 0.37796447 0.         0.\n",
      "  0.         0.         0.         0.         0.37796447 0.37796447\n",
      "  0.37796447 0.         0.         0.         0.         0.\n",
      "  0.         0.         0.         0.         0.         0.\n",
      "  0.         0.         0.         0.         0.         0.\n",
      "  0.         0.         0.         0.         0.         0.\n",
      "  0.         0.         0.         0.         0.        ]\n",
      " [0.23307927 0.23307927 0.         0.         0.         0.\n",
      "  0.         0.         0.         0.         0.         0.\n",
      "  0.         0.23307927 0.23307927 0.         0.         0.\n",
      "  0.         0.14877148 0.         0.         0.23307927 0.\n",
      "  0.         0.         0.         0.         0.         0.\n",
      "  0.23307927 0.23307927 0.         0.         0.         0.\n",
      "  0.         0.         0.23307927 0.23307927 0.23307927 0.23307927\n",
      "  0.         0.         0.         0.         0.         0.23307927\n",
      "  0.23307927 0.         0.         0.23307927 0.         0.\n",
      "  0.23307927 0.23307927 0.23307927 0.23307927 0.         0.\n",
      "  0.         0.         0.         0.         0.        ]]\n"
     ]
    }
   ],
   "source": [
    "tfidf_vectorizer=TfidfVectorizer(tokenizer=myTokenizer,ngram_range=(1,2))\n",
    "vectorized_corpus=tfidf_vectorizer.fit_transform(corpus).toarray()\n",
    "print(vectorized_corpus)"
   ]
  },
  {
   "cell_type": "code",
   "execution_count": 134,
   "metadata": {},
   "outputs": [
    {
     "name": "stdout",
     "output_type": "stream",
     "text": [
      "{'indian': 19, 'cricket': 6, 'team': 52, 'win': 60, 'world': 63, 'cup': 8, 'says': 44, 'capt': 2, 'virat': 58, 'kohli': 23, 'held': 17, 'sri': 49, 'lanka': 25, 'indian cricket': 20, 'cricket team': 7, 'team win': 53, 'win world': 62, 'world cup': 64, 'cup says': 10, 'says capt': 45, 'capt virat': 3, 'virat kohli': 59, 'kohli world': 24, 'cup held': 9, 'held sri': 18, 'sri lanka': 50, 'next': 32, 'lok': 28, 'sabha': 42, 'elections': 11, 'confident': 4, 'pm': 37, 'win next': 61, 'next lok': 33, 'lok sabha': 29, 'sabha elections': 43, 'elections says': 12, 'says confident': 46, 'confident indian': 5, 'indian pm': 21, 'nobel': 34, 'laureate': 26, 'hearts': 15, 'people': 36, 'nobel laureate': 35, 'laureate hearts': 27, 'hearts people': 16, 'movie': 30, 'razi': 38, 'exciting': 13, 'spy': 47, 'thriller': 54, 'based': 0, 'upon': 56, 'real': 40, 'story': 51, 'movie razi': 31, 'razi exciting': 39, 'exciting indian': 14, 'indian spy': 22, 'spy thriller': 48, 'thriller based': 55, 'based upon': 1, 'upon real': 57, 'real story': 41}\n"
     ]
    }
   ],
   "source": [
    "print(tfidf_vectorizer.vocabulary_)"
   ]
  },
  {
   "cell_type": "code",
   "execution_count": 135,
   "metadata": {},
   "outputs": [
    {
     "name": "stdout",
     "output_type": "stream",
     "text": [
      "[[0.         0.23802376 0.         0.23802376 0.47604753 0.\n",
      "  0.         0.         0.23802376 0.15192748 0.23802376 0.23802376\n",
      "  0.         0.         0.         0.         0.         0.\n",
      "  0.         0.         0.         0.         0.18766067 0.\n",
      "  0.23802376 0.         0.23802376 0.         0.         0.23802376\n",
      "  0.18766067 0.47604753]\n",
      " [0.         0.         0.36153669 0.         0.         0.36153669\n",
      "  0.         0.         0.         0.23076418 0.         0.\n",
      "  0.         0.36153669 0.         0.36153669 0.         0.\n",
      "  0.36153669 0.         0.         0.36153669 0.28503968 0.\n",
      "  0.         0.         0.         0.         0.         0.\n",
      "  0.28503968 0.        ]\n",
      " [0.         0.         0.         0.         0.         0.\n",
      "  0.         0.5        0.         0.         0.         0.\n",
      "  0.5        0.         0.         0.         0.5        0.5\n",
      "  0.         0.         0.         0.         0.         0.\n",
      "  0.         0.         0.         0.         0.         0.\n",
      "  0.         0.        ]\n",
      " [0.32603555 0.         0.         0.         0.         0.\n",
      "  0.32603555 0.         0.         0.20810427 0.         0.\n",
      "  0.         0.         0.32603555 0.         0.         0.\n",
      "  0.         0.32603555 0.32603555 0.         0.         0.32603555\n",
      "  0.         0.32603555 0.         0.32603555 0.32603555 0.\n",
      "  0.         0.        ]]\n"
     ]
    }
   ],
   "source": [
    "tfidf_vectorizer=TfidfVectorizer(tokenizer=myTokenizer,ngram_range=(1,1))# Unigram\n",
    "vectorized_corpus=tfidf_vectorizer.fit_transform(corpus).toarray()\n",
    "print(vectorized_corpus)"
   ]
  },
  {
   "cell_type": "code",
   "execution_count": 136,
   "metadata": {},
   "outputs": [
    {
     "name": "stdout",
     "output_type": "stream",
     "text": [
      "{'indian': 9, 'cricket': 3, 'team': 26, 'win': 30, 'world': 31, 'cup': 4, 'says': 22, 'capt': 1, 'virat': 29, 'kohli': 10, 'held': 8, 'sri': 24, 'lanka': 11, 'next': 15, 'lok': 13, 'sabha': 21, 'elections': 5, 'confident': 2, 'pm': 18, 'nobel': 16, 'laureate': 12, 'hearts': 7, 'people': 17, 'movie': 14, 'razi': 19, 'exciting': 6, 'spy': 23, 'thriller': 27, 'based': 0, 'upon': 28, 'real': 20, 'story': 25}\n"
     ]
    }
   ],
   "source": [
    "print(tfidf_vectorizer.vocabulary_)"
   ]
  },
  {
   "cell_type": "code",
   "execution_count": 137,
   "metadata": {},
   "outputs": [
    {
     "name": "stdout",
     "output_type": "stream",
     "text": [
      "[[0.         0.23802376 0.         0.23802376 0.47604753 0.\n",
      "  0.         0.         0.23802376 0.15192748 0.23802376 0.23802376\n",
      "  0.         0.         0.         0.         0.         0.\n",
      "  0.         0.         0.         0.         0.18766067 0.\n",
      "  0.23802376 0.         0.23802376 0.         0.         0.23802376\n",
      "  0.18766067 0.47604753]\n",
      " [0.         0.         0.36153669 0.         0.         0.36153669\n",
      "  0.         0.         0.         0.23076418 0.         0.\n",
      "  0.         0.36153669 0.         0.36153669 0.         0.\n",
      "  0.36153669 0.         0.         0.36153669 0.28503968 0.\n",
      "  0.         0.         0.         0.         0.         0.\n",
      "  0.28503968 0.        ]\n",
      " [0.         0.         0.         0.         0.         0.\n",
      "  0.         0.5        0.         0.         0.         0.\n",
      "  0.5        0.         0.         0.         0.5        0.5\n",
      "  0.         0.         0.         0.         0.         0.\n",
      "  0.         0.         0.         0.         0.         0.\n",
      "  0.         0.        ]\n",
      " [0.32603555 0.         0.         0.         0.         0.\n",
      "  0.32603555 0.         0.         0.20810427 0.         0.\n",
      "  0.         0.         0.32603555 0.         0.         0.\n",
      "  0.         0.32603555 0.32603555 0.         0.         0.32603555\n",
      "  0.         0.32603555 0.         0.32603555 0.32603555 0.\n",
      "  0.         0.        ]]\n"
     ]
    }
   ],
   "source": [
    "tfidf_vectorizer=TfidfVectorizer(tokenizer=myTokenizer,ngram_range=(1,1),norm='l2')# Nomalised by l2 norm\n",
    "vectorized_corpus=tfidf_vectorizer.fit_transform(corpus).toarray()\n",
    "print(vectorized_corpus)"
   ]
  },
  {
   "cell_type": "code",
   "execution_count": 138,
   "metadata": {},
   "outputs": [
    {
     "name": "stdout",
     "output_type": "stream",
     "text": [
      "{'indian': 9, 'cricket': 3, 'team': 26, 'win': 30, 'world': 31, 'cup': 4, 'says': 22, 'capt': 1, 'virat': 29, 'kohli': 10, 'held': 8, 'sri': 24, 'lanka': 11, 'next': 15, 'lok': 13, 'sabha': 21, 'elections': 5, 'confident': 2, 'pm': 18, 'nobel': 16, 'laureate': 12, 'hearts': 7, 'people': 17, 'movie': 14, 'razi': 19, 'exciting': 6, 'spy': 23, 'thriller': 27, 'based': 0, 'upon': 28, 'real': 20, 'story': 25}\n"
     ]
    }
   ],
   "source": [
    "print(tfidf_vectorizer.vocabulary_)"
   ]
  },
  {
   "cell_type": "code",
   "execution_count": null,
   "metadata": {},
   "outputs": [],
   "source": []
  }
 ],
 "metadata": {
  "kernelspec": {
   "display_name": "Python 3",
   "language": "python",
   "name": "python3"
  },
  "language_info": {
   "codemirror_mode": {
    "name": "ipython",
    "version": 3
   },
   "file_extension": ".py",
   "mimetype": "text/x-python",
   "name": "python",
   "nbconvert_exporter": "python",
   "pygments_lexer": "ipython3",
   "version": "3.6.7"
  }
 },
 "nbformat": 4,
 "nbformat_minor": 2
}
