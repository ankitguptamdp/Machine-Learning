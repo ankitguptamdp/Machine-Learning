{
 "cells": [
  {
   "cell_type": "markdown",
   "metadata": {},
   "source": [
    "# Python Modules"
   ]
  },
  {
   "cell_type": "code",
   "execution_count": 2,
   "metadata": {},
   "outputs": [
    {
     "name": "stdout",
     "output_type": "stream",
     "text": [
      "30414093201713378043612608166064768844377641568960512000000000000\n"
     ]
    }
   ],
   "source": [
    "import math\n",
    "print(math.factorial(50))"
   ]
  },
  {
   "cell_type": "code",
   "execution_count": 3,
   "metadata": {},
   "outputs": [
    {
     "name": "stdout",
     "output_type": "stream",
     "text": [
      "3628800\n"
     ]
    }
   ],
   "source": [
    "from math import factorial as fact\n",
    "print(fact(10))"
   ]
  },
  {
   "cell_type": "code",
   "execution_count": 4,
   "metadata": {},
   "outputs": [
    {
     "name": "stdout",
     "output_type": "stream",
     "text": [
      "3\n"
     ]
    }
   ],
   "source": [
    "print(math.floor(3.65))"
   ]
  },
  {
   "cell_type": "code",
   "execution_count": 5,
   "metadata": {},
   "outputs": [
    {
     "name": "stdout",
     "output_type": "stream",
     "text": [
      "2\n"
     ]
    }
   ],
   "source": [
    "print(math.gcd(6,2))"
   ]
  },
  {
   "cell_type": "code",
   "execution_count": 6,
   "metadata": {},
   "outputs": [
    {
     "name": "stdout",
     "output_type": "stream",
     "text": [
      "1.0\n"
     ]
    }
   ],
   "source": [
    "print(math.log(math.e))"
   ]
  },
  {
   "cell_type": "code",
   "execution_count": 7,
   "metadata": {},
   "outputs": [
    {
     "name": "stdout",
     "output_type": "stream",
     "text": [
      "4.0\n"
     ]
    }
   ],
   "source": [
    "print(math.log(16,2))"
   ]
  },
  {
   "cell_type": "code",
   "execution_count": 8,
   "metadata": {},
   "outputs": [
    {
     "name": "stdout",
     "output_type": "stream",
     "text": [
      "3.141592653589793\n"
     ]
    }
   ],
   "source": [
    "print(math.pi)"
   ]
  },
  {
   "cell_type": "code",
   "execution_count": 9,
   "metadata": {},
   "outputs": [
    {
     "name": "stdout",
     "output_type": "stream",
     "text": [
      "inf\n"
     ]
    }
   ],
   "source": [
    "print(math.inf)"
   ]
  },
  {
   "cell_type": "code",
   "execution_count": 10,
   "metadata": {},
   "outputs": [
    {
     "name": "stdout",
     "output_type": "stream",
     "text": [
      "-inf\n"
     ]
    }
   ],
   "source": [
    "print(-math.inf)"
   ]
  },
  {
   "cell_type": "code",
   "execution_count": 11,
   "metadata": {},
   "outputs": [
    {
     "name": "stdout",
     "output_type": "stream",
     "text": [
      "36\n"
     ]
    }
   ],
   "source": [
    "print(sum([1,2,3,4,5,6,7,8]))"
   ]
  },
  {
   "cell_type": "code",
   "execution_count": 12,
   "metadata": {},
   "outputs": [
    {
     "name": "stdout",
     "output_type": "stream",
     "text": [
      "666\n"
     ]
    }
   ],
   "source": [
    "print(max([4,6,3,55,3,5,3,32,666]))"
   ]
  },
  {
   "cell_type": "code",
   "execution_count": 13,
   "metadata": {},
   "outputs": [
    {
     "name": "stdout",
     "output_type": "stream",
     "text": [
      "4\n"
     ]
    }
   ],
   "source": [
    "print(min([23,4,5,65,23,465]))"
   ]
  },
  {
   "cell_type": "code",
   "execution_count": 14,
   "metadata": {},
   "outputs": [
    {
     "name": "stdout",
     "output_type": "stream",
     "text": [
      "3\n"
     ]
    }
   ],
   "source": [
    "print(math.floor(10/3))"
   ]
  },
  {
   "cell_type": "markdown",
   "metadata": {},
   "source": [
    "#  Python - Sys Module, Command Line Args"
   ]
  },
  {
   "cell_type": "code",
   "execution_count": 15,
   "metadata": {},
   "outputs": [],
   "source": [
    "import sys\n",
    "\n",
    "def printData():\n",
    "    print(sys.argv)"
   ]
  },
  {
   "cell_type": "code",
   "execution_count": 16,
   "metadata": {},
   "outputs": [
    {
     "name": "stdout",
     "output_type": "stream",
     "text": [
      "['/home/ankit/Keep/Python_Directory/Python_Virtual_Environment/lib/python3.6/site-packages/ipykernel_launcher.py', '-f', '/run/user/1000/jupyter/kernel-23cd7f23-0d74-4de6-a508-4fb85983d26b.json']\n"
     ]
    }
   ],
   "source": [
    "printData()"
   ]
  },
  {
   "cell_type": "code",
   "execution_count": 22,
   "metadata": {},
   "outputs": [],
   "source": [
    "sys.argv=[23,234,234]"
   ]
  },
  {
   "cell_type": "code",
   "execution_count": 23,
   "metadata": {},
   "outputs": [],
   "source": [
    "def printSum():\n",
    "    print(sys.argv[1]+sys.argv[2])"
   ]
  },
  {
   "cell_type": "code",
   "execution_count": 24,
   "metadata": {},
   "outputs": [
    {
     "name": "stdout",
     "output_type": "stream",
     "text": [
      "468\n"
     ]
    }
   ],
   "source": [
    "printSum()"
   ]
  },
  {
   "cell_type": "code",
   "execution_count": 25,
   "metadata": {},
   "outputs": [
    {
     "name": "stdout",
     "output_type": "stream",
     "text": [
      "[23, 234, 234]\n"
     ]
    }
   ],
   "source": [
    "printData()"
   ]
  },
  {
   "cell_type": "code",
   "execution_count": 1,
   "metadata": {},
   "outputs": [
    {
     "ename": "NameError",
     "evalue": "name 'printData' is not defined",
     "output_type": "error",
     "traceback": [
      "\u001b[0;31m---------------------------------------------------------------------------\u001b[0m",
      "\u001b[0;31mNameError\u001b[0m                                 Traceback (most recent call last)",
      "\u001b[0;32m<ipython-input-1-be17e7294ce1>\u001b[0m in \u001b[0;36m<module>\u001b[0;34m\u001b[0m\n\u001b[0;32m----> 1\u001b[0;31m \u001b[0mprintData\u001b[0m\u001b[0;34m(\u001b[0m\u001b[0;34m)\u001b[0m\u001b[0;34m\u001b[0m\u001b[0;34m\u001b[0m\u001b[0m\n\u001b[0m",
      "\u001b[0;31mNameError\u001b[0m: name 'printData' is not defined"
     ]
    }
   ],
   "source": [
    "printData()"
   ]
  },
  {
   "cell_type": "code",
   "execution_count": 2,
   "metadata": {},
   "outputs": [
    {
     "name": "stdout",
     "output_type": "stream",
     "text": [
      "['/home/ankit/Keep/Python_Directory/Python_Virtual_Environment/lib/python3.6/site-packages/ipykernel_launcher.py', '-f', '/run/user/1000/jupyter/kernel-9a96da49-2965-465f-a207-e3c9492031d8.json']\n"
     ]
    }
   ],
   "source": [
    "import sys\n",
    "print(sys.argv)"
   ]
  },
  {
   "cell_type": "code",
   "execution_count": 3,
   "metadata": {},
   "outputs": [
    {
     "name": "stdout",
     "output_type": "stream",
     "text": [
      "468\n"
     ]
    }
   ],
   "source": [
    "sys.argv=[23,234,234]\n",
    "def printSum():\n",
    "    print(int(sys.argv[1])+int(sys.argv[2]))\n",
    "printSum()"
   ]
  },
  {
   "cell_type": "code",
   "execution_count": 4,
   "metadata": {},
   "outputs": [
    {
     "name": "stdout",
     "output_type": "stream",
     "text": [
      "3.6.7 (default, Oct 22 2018, 11:32:17) \n",
      "[GCC 8.2.0]\n"
     ]
    }
   ],
   "source": [
    "print(sys.version)"
   ]
  },
  {
   "cell_type": "code",
   "execution_count": 5,
   "metadata": {},
   "outputs": [
    {
     "name": "stdout",
     "output_type": "stream",
     "text": [
      "['', '/home/ankit/Keep/Python_Directory/Python_Virtual_Environment/lib/python36.zip', '/home/ankit/Keep/Python_Directory/Python_Virtual_Environment/lib/python3.6', '/home/ankit/Keep/Python_Directory/Python_Virtual_Environment/lib/python3.6/lib-dynload', '/usr/lib/python3.6', '/home/ankit/Keep/Python_Directory/Python_Virtual_Environment/lib/python3.6/site-packages', '/home/ankit/Keep/Python_Directory/Python_Virtual_Environment/lib/python3.6/site-packages/IPython/extensions', '/home/ankit/.ipython']\n"
     ]
    }
   ],
   "source": [
    "print(sys.path)"
   ]
  },
  {
   "cell_type": "code",
   "execution_count": 7,
   "metadata": {},
   "outputs": [
    {
     "name": "stdout",
     "output_type": "stream",
     "text": [
      "9223372036854775807\n"
     ]
    }
   ],
   "source": [
    "print(sys.maxsize)"
   ]
  },
  {
   "cell_type": "code",
   "execution_count": 8,
   "metadata": {},
   "outputs": [
    {
     "name": "stdout",
     "output_type": "stream",
     "text": [
      "<_io.TextIOWrapper name='<stdin>' mode='r' encoding='UTF-8'>\n"
     ]
    }
   ],
   "source": [
    "print(sys.stdin)"
   ]
  },
  {
   "cell_type": "code",
   "execution_count": 9,
   "metadata": {},
   "outputs": [
    {
     "name": "stdout",
     "output_type": "stream",
     "text": [
      "<ipykernel.iostream.OutStream object at 0x7fb2a70eab70>\n"
     ]
    }
   ],
   "source": [
    "print(sys.stdout)"
   ]
  },
  {
   "cell_type": "code",
   "execution_count": 10,
   "metadata": {},
   "outputs": [
    {
     "name": "stdout",
     "output_type": "stream",
     "text": [
      "<class '_io.TextIOWrapper'>\n"
     ]
    }
   ],
   "source": [
    "print(type(sys.stdin))"
   ]
  },
  {
   "cell_type": "code",
   "execution_count": 11,
   "metadata": {},
   "outputs": [
    {
     "name": "stdout",
     "output_type": "stream",
     "text": [
      "<class 'ipykernel.iostream.OutStream'>\n"
     ]
    }
   ],
   "source": [
    "print(type(sys.stdout))"
   ]
  },
  {
   "cell_type": "markdown",
   "metadata": {},
   "source": [
    "## For Help use ? "
   ]
  },
  {
   "cell_type": "code",
   "execution_count": 116,
   "metadata": {},
   "outputs": [],
   "source": [
    "sys?"
   ]
  },
  {
   "cell_type": "code",
   "execution_count": 14,
   "metadata": {},
   "outputs": [
    {
     "name": "stdout",
     "output_type": "stream",
     "text": [
      "sys.int_info(bits_per_digit=30, sizeof_digit=4)\n"
     ]
    }
   ],
   "source": [
    "print(sys.int_info)"
   ]
  },
  {
   "cell_type": "markdown",
   "metadata": {},
   "source": [
    "## Python - Creating and Importing Modules"
   ]
  },
  {
   "cell_type": "code",
   "execution_count": 15,
   "metadata": {},
   "outputs": [],
   "source": [
    "import hello"
   ]
  },
  {
   "cell_type": "code",
   "execution_count": 16,
   "metadata": {},
   "outputs": [
    {
     "name": "stdout",
     "output_type": "stream",
     "text": [
      "Hi Narendra\n"
     ]
    }
   ],
   "source": [
    "hello.sayHi(\"Narendra\")"
   ]
  },
  {
   "cell_type": "code",
   "execution_count": 17,
   "metadata": {},
   "outputs": [
    {
     "name": "stdout",
     "output_type": "stream",
     "text": [
      "Hello Ankit Gupta\n"
     ]
    }
   ],
   "source": [
    "hello.sayHello(\"Ankit\",\"Gupta\")"
   ]
  },
  {
   "cell_type": "code",
   "execution_count": 19,
   "metadata": {},
   "outputs": [
    {
     "name": "stdout",
     "output_type": "stream",
     "text": [
      "Hi Narendra\n",
      "Hello Ankit Gupta\n"
     ]
    }
   ],
   "source": [
    "from hello import *\n",
    "sayHi(\"Narendra\")\n",
    "sayHello(\"Ankit\",\"Gupta\")"
   ]
  },
  {
   "cell_type": "markdown",
   "metadata": {},
   "source": [
    "## Help for hello module "
   ]
  },
  {
   "cell_type": "code",
   "execution_count": 20,
   "metadata": {},
   "outputs": [],
   "source": [
    "hello?"
   ]
  },
  {
   "cell_type": "code",
   "execution_count": 22,
   "metadata": {},
   "outputs": [
    {
     "ename": "SyntaxError",
     "evalue": "invalid syntax (<ipython-input-22-bac4ab22d164>, line 1)",
     "output_type": "error",
     "traceback": [
      "\u001b[0;36m  File \u001b[0;32m\"<ipython-input-22-bac4ab22d164>\"\u001b[0;36m, line \u001b[0;32m1\u001b[0m\n\u001b[0;31m    python3 m1.py\u001b[0m\n\u001b[0m             ^\u001b[0m\n\u001b[0;31mSyntaxError\u001b[0m\u001b[0;31m:\u001b[0m invalid syntax\n"
     ]
    }
   ],
   "source": []
  },
  {
   "cell_type": "markdown",
   "metadata": {},
   "source": [
    "## Python - OOPS Classes and Objects"
   ]
  },
  {
   "cell_type": "markdown",
   "metadata": {},
   "source": [
    "### OOPS in Python\n",
    "#### A minimalistic python class"
   ]
  },
  {
   "cell_type": "code",
   "execution_count": 23,
   "metadata": {},
   "outputs": [],
   "source": [
    "class Person():\n",
    "    pass"
   ]
  },
  {
   "cell_type": "code",
   "execution_count": 24,
   "metadata": {},
   "outputs": [
    {
     "name": "stdout",
     "output_type": "stream",
     "text": [
      "<__main__.Person object at 0x7fb296ec25f8>\n",
      "<class '__main__.Person'>\n"
     ]
    }
   ],
   "source": [
    "p=Person()\n",
    "print(p)\n",
    "print(type(p))"
   ]
  },
  {
   "cell_type": "markdown",
   "metadata": {},
   "source": [
    "## Let us define a person class"
   ]
  },
  {
   "cell_type": "code",
   "execution_count": 68,
   "metadata": {},
   "outputs": [],
   "source": [
    "class Person():\n",
    "    #Class Variable : Same for all the instances\n",
    "    delight=True\n",
    "    def __init__(self,pname,clg):\n",
    "        #Instance Variable : Different for different instance of the class\n",
    "        self.name=pname\n",
    "        self.college=clg\n",
    "    def sayHello(self,name):\n",
    "        print(\"Hello \"+name)\n",
    "    def introduce(self):\n",
    "        print(\"Name : \"+self.name)\n",
    "        print(\"College : \"+self.college)\n",
    "        print(\"Whether you got chocolate :\",self.delight)"
   ]
  },
  {
   "cell_type": "code",
   "execution_count": 69,
   "metadata": {},
   "outputs": [],
   "source": [
    "p=Person(\"Ankit\",\"BitSindri\")"
   ]
  },
  {
   "cell_type": "code",
   "execution_count": 70,
   "metadata": {},
   "outputs": [
    {
     "name": "stdout",
     "output_type": "stream",
     "text": [
      "Hello Gupta\n"
     ]
    }
   ],
   "source": [
    "p.sayHello(\"Gupta\")"
   ]
  },
  {
   "cell_type": "code",
   "execution_count": 71,
   "metadata": {},
   "outputs": [
    {
     "name": "stdout",
     "output_type": "stream",
     "text": [
      "Name : Ankit\n",
      "College : BitSindri\n",
      "Whether you got chocolate : True\n"
     ]
    }
   ],
   "source": [
    "p.introduce()"
   ]
  },
  {
   "cell_type": "markdown",
   "metadata": {},
   "source": [
    "## Instance variable vs Class variable"
   ]
  },
  {
   "cell_type": "markdown",
   "metadata": {},
   "source": [
    "### Class Variable"
   ]
  },
  {
   "cell_type": "code",
   "execution_count": 76,
   "metadata": {},
   "outputs": [],
   "source": [
    "class Dog():\n",
    "    \n",
    "    color=\"Brown\"\n",
    "    #Common for all data member of the class\n",
    "    activities=[]\n",
    "    \n",
    "    def __init__(self,breed):\n",
    "        self.breed=breed\n",
    "        \n",
    "    def addActivities(self,act):\n",
    "        self.activities.append(act)\n",
    "        \n",
    "    def showActivities(self):\n",
    "        print(self.breed)\n",
    "        print(self.activities)"
   ]
  },
  {
   "cell_type": "code",
   "execution_count": 77,
   "metadata": {},
   "outputs": [
    {
     "name": "stdout",
     "output_type": "stream",
     "text": [
      "German Shepherd\n",
      "['High Jump', 'Roll Over', 'Low Jump', 'Roll Upside Down']\n",
      "Golden Retriever\n",
      "['High Jump', 'Roll Over', 'Low Jump', 'Roll Upside Down']\n"
     ]
    }
   ],
   "source": [
    "d1=Dog(\"German Shepherd\")\n",
    "d2=Dog(\"Golden Retriever\")\n",
    "\n",
    "d1.addActivities(\"High Jump\")\n",
    "d1.addActivities(\"Roll Over\")\n",
    "\n",
    "d2.addActivities(\"Low Jump\")\n",
    "d2.addActivities(\"Roll Upside Down\")\n",
    "\n",
    "d1.showActivities()\n",
    "d2.showActivities()"
   ]
  },
  {
   "cell_type": "markdown",
   "metadata": {},
   "source": [
    "### Instance Variable"
   ]
  },
  {
   "cell_type": "code",
   "execution_count": 81,
   "metadata": {},
   "outputs": [],
   "source": [
    "class Dog():\n",
    "    \n",
    "    color=\"Brown\"    \n",
    "    \n",
    "    def __init__(self,breed):\n",
    "        self.activities=[]\n",
    "        self.breed=breed\n",
    "        \n",
    "    def addActivities(self,act):\n",
    "        self.activities.append(act)\n",
    "        \n",
    "    def showActivities(self):\n",
    "        print(self.breed)\n",
    "        print(self.activities)"
   ]
  },
  {
   "cell_type": "code",
   "execution_count": 82,
   "metadata": {},
   "outputs": [
    {
     "name": "stdout",
     "output_type": "stream",
     "text": [
      "German Shepherd\n",
      "['High Jump', 'Roll Over']\n",
      "Golden Retriever\n",
      "['Low Jump', 'Roll Upside Down']\n"
     ]
    }
   ],
   "source": [
    "d1=Dog(\"German Shepherd\")\n",
    "d2=Dog(\"Golden Retriever\")\n",
    "\n",
    "d1.addActivities(\"High Jump\")\n",
    "d1.addActivities(\"Roll Over\")\n",
    "\n",
    "d2.addActivities(\"Low Jump\")\n",
    "d2.addActivities(\"Roll Upside Down\")\n",
    "\n",
    "d1.showActivities()\n",
    "d2.showActivities()"
   ]
  },
  {
   "cell_type": "markdown",
   "metadata": {},
   "source": [
    "# Python OOPS - Access Modifiers"
   ]
  },
  {
   "cell_type": "code",
   "execution_count": 83,
   "metadata": {},
   "outputs": [],
   "source": [
    "class Dog():\n",
    "    \n",
    "    color=\"Brown\"    \n",
    "    \n",
    "    def __init__(self,breed):\n",
    "        self.activities=[]\n",
    "        self.breed=breed\n",
    "        \n",
    "    def addActivities(self,act):\n",
    "        self.activities.append(act)\n",
    "        \n",
    "    def secretActivity(self):\n",
    "        print(\"Doing secret activity !\")\n",
    "        \n",
    "    def showActivities(self):\n",
    "        print(self.breed)\n",
    "        print(self.activities)"
   ]
  },
  {
   "cell_type": "code",
   "execution_count": 84,
   "metadata": {},
   "outputs": [
    {
     "name": "stdout",
     "output_type": "stream",
     "text": [
      "German Shepherd\n",
      "['High Jump', 'Roll Over']\n",
      "Doing secret activity !\n",
      "Golden Retriever\n",
      "['Low Jump', 'Roll Upside Down']\n",
      "Doing secret activity !\n"
     ]
    }
   ],
   "source": [
    "d1=Dog(\"German Shepherd\")\n",
    "d2=Dog(\"Golden Retriever\")\n",
    "\n",
    "d1.addActivities(\"High Jump\")\n",
    "d1.addActivities(\"Roll Over\")\n",
    "\n",
    "d2.addActivities(\"Low Jump\")\n",
    "d2.addActivities(\"Roll Upside Down\")\n",
    "\n",
    "d1.showActivities()\n",
    "d1.secretActivity()\n",
    "d2.showActivities()\n",
    "d2.secretActivity()"
   ]
  },
  {
   "cell_type": "code",
   "execution_count": 85,
   "metadata": {},
   "outputs": [],
   "source": [
    "class Dog():\n",
    "    \n",
    "    color=\"Brown\"    \n",
    "    \n",
    "    def __init__(self,breed):\n",
    "        self.activities=[]\n",
    "        self.breed=breed\n",
    "        \n",
    "    def addActivities(self,act):\n",
    "        self.activities.append(act)\n",
    "        \n",
    "    def __secretActivity(self):\n",
    "        print(\"Doing secret activity !\")\n",
    "        \n",
    "    def showActivities(self):\n",
    "        print(self.breed)\n",
    "        print(self.activities)"
   ]
  },
  {
   "cell_type": "code",
   "execution_count": 87,
   "metadata": {},
   "outputs": [
    {
     "name": "stdout",
     "output_type": "stream",
     "text": [
      "German Shepherd\n",
      "['High Jump', 'Roll Over']\n"
     ]
    },
    {
     "ename": "AttributeError",
     "evalue": "'Dog' object has no attribute '__secretActivity'",
     "output_type": "error",
     "traceback": [
      "\u001b[0;31m---------------------------------------------------------------------------\u001b[0m",
      "\u001b[0;31mAttributeError\u001b[0m                            Traceback (most recent call last)",
      "\u001b[0;32m<ipython-input-87-3ffdada3f20b>\u001b[0m in \u001b[0;36m<module>\u001b[0;34m\u001b[0m\n\u001b[1;32m      9\u001b[0m \u001b[0;34m\u001b[0m\u001b[0m\n\u001b[1;32m     10\u001b[0m \u001b[0md1\u001b[0m\u001b[0;34m.\u001b[0m\u001b[0mshowActivities\u001b[0m\u001b[0;34m(\u001b[0m\u001b[0;34m)\u001b[0m\u001b[0;34m\u001b[0m\u001b[0;34m\u001b[0m\u001b[0m\n\u001b[0;32m---> 11\u001b[0;31m \u001b[0md1\u001b[0m\u001b[0;34m.\u001b[0m\u001b[0m__secretActivity\u001b[0m\u001b[0;34m(\u001b[0m\u001b[0;34m)\u001b[0m\u001b[0;34m\u001b[0m\u001b[0;34m\u001b[0m\u001b[0m\n\u001b[0m\u001b[1;32m     12\u001b[0m \u001b[0md2\u001b[0m\u001b[0;34m.\u001b[0m\u001b[0mshowActivities\u001b[0m\u001b[0;34m(\u001b[0m\u001b[0;34m)\u001b[0m\u001b[0;34m\u001b[0m\u001b[0;34m\u001b[0m\u001b[0m\n\u001b[1;32m     13\u001b[0m \u001b[0md2\u001b[0m\u001b[0;34m.\u001b[0m\u001b[0m__secretActivity\u001b[0m\u001b[0;34m(\u001b[0m\u001b[0;34m)\u001b[0m\u001b[0;34m\u001b[0m\u001b[0;34m\u001b[0m\u001b[0m\n",
      "\u001b[0;31mAttributeError\u001b[0m: 'Dog' object has no attribute '__secretActivity'"
     ]
    }
   ],
   "source": [
    "d1=Dog(\"German Shepherd\")\n",
    "d2=Dog(\"Golden Retriever\")\n",
    "\n",
    "d1.addActivities(\"High Jump\")\n",
    "d1.addActivities(\"Roll Over\")\n",
    "\n",
    "d2.addActivities(\"Low Jump\")\n",
    "d2.addActivities(\"Roll Upside Down\")\n",
    "\n",
    "d1.showActivities()\n",
    "d1.__secretActivity()\n",
    "d2.showActivities()\n",
    "d2.__secretActivity()"
   ]
  },
  {
   "cell_type": "code",
   "execution_count": 88,
   "metadata": {},
   "outputs": [],
   "source": [
    "class Dog():\n",
    "    \n",
    "    color=\"Brown\"    \n",
    "    \n",
    "    def __init__(self,breed):\n",
    "        self.activities=[]\n",
    "        self.breed=breed\n",
    "        \n",
    "    def addActivities(self,act):\n",
    "        self.activities.append(act)\n",
    "        \n",
    "    def __secretActivity(self):\n",
    "        print(\"Doing secret activity !\")\n",
    "        \n",
    "    def showActivities(self):\n",
    "        print(self.breed)\n",
    "        print(self.activities)\n",
    "        __secretActivity()"
   ]
  },
  {
   "cell_type": "code",
   "execution_count": 89,
   "metadata": {},
   "outputs": [
    {
     "name": "stdout",
     "output_type": "stream",
     "text": [
      "German Shepherd\n",
      "['High Jump', 'Roll Over']\n"
     ]
    },
    {
     "ename": "NameError",
     "evalue": "name '_Dog__secretActivity' is not defined",
     "output_type": "error",
     "traceback": [
      "\u001b[0;31m---------------------------------------------------------------------------\u001b[0m",
      "\u001b[0;31mNameError\u001b[0m                                 Traceback (most recent call last)",
      "\u001b[0;32m<ipython-input-89-45c54ed70dc4>\u001b[0m in \u001b[0;36m<module>\u001b[0;34m\u001b[0m\n\u001b[1;32m      8\u001b[0m \u001b[0md2\u001b[0m\u001b[0;34m.\u001b[0m\u001b[0maddActivities\u001b[0m\u001b[0;34m(\u001b[0m\u001b[0;34m\"Roll Upside Down\"\u001b[0m\u001b[0;34m)\u001b[0m\u001b[0;34m\u001b[0m\u001b[0;34m\u001b[0m\u001b[0m\n\u001b[1;32m      9\u001b[0m \u001b[0;34m\u001b[0m\u001b[0m\n\u001b[0;32m---> 10\u001b[0;31m \u001b[0md1\u001b[0m\u001b[0;34m.\u001b[0m\u001b[0mshowActivities\u001b[0m\u001b[0;34m(\u001b[0m\u001b[0;34m)\u001b[0m\u001b[0;34m\u001b[0m\u001b[0;34m\u001b[0m\u001b[0m\n\u001b[0m\u001b[1;32m     11\u001b[0m \u001b[0md2\u001b[0m\u001b[0;34m.\u001b[0m\u001b[0mshowActivities\u001b[0m\u001b[0;34m(\u001b[0m\u001b[0;34m)\u001b[0m\u001b[0;34m\u001b[0m\u001b[0;34m\u001b[0m\u001b[0m\n",
      "\u001b[0;32m<ipython-input-88-fe3f0a162186>\u001b[0m in \u001b[0;36mshowActivities\u001b[0;34m(self)\u001b[0m\n\u001b[1;32m     16\u001b[0m         \u001b[0mprint\u001b[0m\u001b[0;34m(\u001b[0m\u001b[0mself\u001b[0m\u001b[0;34m.\u001b[0m\u001b[0mbreed\u001b[0m\u001b[0;34m)\u001b[0m\u001b[0;34m\u001b[0m\u001b[0;34m\u001b[0m\u001b[0m\n\u001b[1;32m     17\u001b[0m         \u001b[0mprint\u001b[0m\u001b[0;34m(\u001b[0m\u001b[0mself\u001b[0m\u001b[0;34m.\u001b[0m\u001b[0mactivities\u001b[0m\u001b[0;34m)\u001b[0m\u001b[0;34m\u001b[0m\u001b[0;34m\u001b[0m\u001b[0m\n\u001b[0;32m---> 18\u001b[0;31m         \u001b[0m__secretActivity\u001b[0m\u001b[0;34m(\u001b[0m\u001b[0;34m)\u001b[0m\u001b[0;34m\u001b[0m\u001b[0;34m\u001b[0m\u001b[0m\n\u001b[0m",
      "\u001b[0;31mNameError\u001b[0m: name '_Dog__secretActivity' is not defined"
     ]
    }
   ],
   "source": [
    "d1=Dog(\"German Shepherd\")\n",
    "d2=Dog(\"Golden Retriever\")\n",
    "\n",
    "d1.addActivities(\"High Jump\")\n",
    "d1.addActivities(\"Roll Over\")\n",
    "\n",
    "d2.addActivities(\"Low Jump\")\n",
    "d2.addActivities(\"Roll Upside Down\")\n",
    "\n",
    "d1.showActivities()\n",
    "d2.showActivities()"
   ]
  },
  {
   "cell_type": "code",
   "execution_count": 96,
   "metadata": {},
   "outputs": [],
   "source": [
    "class Dog():\n",
    "    \n",
    "    color=\"Brown\"    \n",
    "    \n",
    "    def __init__(self,breed):\n",
    "        self.activities=[]\n",
    "        self.breed=breed\n",
    "        \n",
    "    def addActivities(self,act):\n",
    "        self.activities.append(act)\n",
    "        \n",
    "    def __secretActivity(self):\n",
    "        print(\"Doing secret activity !\")\n",
    "        \n",
    "    def showActivities(self):\n",
    "        print(self.breed)\n",
    "        print(self.activities)\n",
    "        self.__secretActivity()"
   ]
  },
  {
   "cell_type": "code",
   "execution_count": 97,
   "metadata": {},
   "outputs": [],
   "source": [
    "Dog?"
   ]
  },
  {
   "cell_type": "code",
   "execution_count": 98,
   "metadata": {},
   "outputs": [
    {
     "name": "stdout",
     "output_type": "stream",
     "text": [
      "German Shepherd\n",
      "['High Jump', 'Roll Over']\n",
      "Doing secret activity !\n",
      "Golden Retriever\n",
      "['Low Jump', 'Roll Upside Down']\n",
      "Doing secret activity !\n"
     ]
    }
   ],
   "source": [
    "d1=Dog(\"German Shepherd\")\n",
    "d2=Dog(\"Golden Retriever\")\n",
    "\n",
    "d1.addActivities(\"High Jump\")\n",
    "d1.addActivities(\"Roll Over\")\n",
    "\n",
    "d2.addActivities(\"Low Jump\")\n",
    "d2.addActivities(\"Roll Upside Down\")\n",
    "\n",
    "d1.showActivities()\n",
    "d2.showActivities()"
   ]
  },
  {
   "cell_type": "code",
   "execution_count": 99,
   "metadata": {},
   "outputs": [],
   "source": [
    "class Dog():\n",
    "    \n",
    "    color=\"Brown\"    \n",
    "    \n",
    "    def __init__(self,breed):\n",
    "        \"\"\"This will accept and initialise breed of the Dog along with initialisation of Dog's activities\"\"\"\n",
    "        self.activities=[]\n",
    "        self.breed=breed\n",
    "        \n",
    "    def addActivities(self,act):\n",
    "        \"\"\"This will accept activities and append it to the previous possible activities\"\"\"\n",
    "        self.activities.append(act)\n",
    "        \n",
    "    def __secretActivity(self):\n",
    "        \"\"\"This is a secret activity and if you will dare to invade the security you will rest in peace\"\"\"\n",
    "        print(\"Doing secret activity !\")\n",
    "        \n",
    "    def showActivities(self):\n",
    "        \"\"\"This will simply show some info about your pet\"\"\"\n",
    "        print(self.breed)\n",
    "        print(self.activities)\n",
    "        self.__secretActivity()"
   ]
  },
  {
   "cell_type": "code",
   "execution_count": 110,
   "metadata": {},
   "outputs": [],
   "source": [
    "Dog?"
   ]
  },
  {
   "cell_type": "code",
   "execution_count": 107,
   "metadata": {},
   "outputs": [],
   "source": [
    "Dog.addActivities?"
   ]
  },
  {
   "cell_type": "code",
   "execution_count": 108,
   "metadata": {},
   "outputs": [
    {
     "name": "stdout",
     "output_type": "stream",
     "text": [
      "Object `Dog.__secretActivity` not found.\n"
     ]
    }
   ],
   "source": [
    "Dog.__secretActivity?"
   ]
  },
  {
   "cell_type": "code",
   "execution_count": 106,
   "metadata": {},
   "outputs": [
    {
     "name": "stdout",
     "output_type": "stream",
     "text": [
      "Object `d1.__secretActivity` not found.\n"
     ]
    }
   ],
   "source": [
    "d1=Dog(\"German Shepherd\")\n",
    "d1.__secretActivity?"
   ]
  },
  {
   "cell_type": "code",
   "execution_count": 109,
   "metadata": {},
   "outputs": [],
   "source": [
    "d1.showActivities?"
   ]
  },
  {
   "cell_type": "markdown",
   "metadata": {},
   "source": [
    "# Python - OOPS Inheritance"
   ]
  },
  {
   "cell_type": "code",
   "execution_count": 113,
   "metadata": {},
   "outputs": [
    {
     "name": "stdout",
     "output_type": "stream",
     "text": [
      "Init School member : Prateek Bhaiya\n",
      "Init Teacher : Prateek Bhaiya\n",
      "Name : Prateek Bhaiya \n",
      "Age : 27\n",
      "Salary : 10000000000000000\n"
     ]
    }
   ],
   "source": [
    "class SchoolMember:\n",
    "    \n",
    "    def __init__(self,name,age):\n",
    "        self.name=name\n",
    "        self.age=age\n",
    "        print(\"Init School member : %s\"%self.name)\n",
    "        \n",
    "    def introduce(self):\n",
    "        print(\"Name : %s \\nAge : %d\"%(self.name,self.age))\n",
    "        \n",
    "class Teacher(SchoolMember):\n",
    "    \n",
    "    def __init__(self,name,age,salary):\n",
    "        SchoolMember.__init__(self,name,age)\n",
    "        self.salary=salary\n",
    "        print(\"Init Teacher : %s\"%self.name)\n",
    "        \n",
    "    def introduce(self):\n",
    "        SchoolMember.introduce(self)\n",
    "        print(\"Salary : %d\"%self.salary)\n",
    "        \n",
    "t=Teacher(\"Prateek Bhaiya\",27,10000000000000000)\n",
    "t.introduce()"
   ]
  },
  {
   "cell_type": "code",
   "execution_count": 115,
   "metadata": {},
   "outputs": [
    {
     "name": "stdout",
     "output_type": "stream",
     "text": [
      "Init School member : Ankit Gupta\n",
      "Init Student : Ankit Gupta\n",
      "Name : Ankit Gupta \n",
      "Age : 21\n",
      "Marks : 100\n"
     ]
    }
   ],
   "source": [
    "class Student(SchoolMember):\n",
    "    \n",
    "    def __init__(self,name,age,marks):\n",
    "        SchoolMember.__init__(self,name,age)\n",
    "        self.marks=marks\n",
    "        print(\"Init Student : %s\"%self.name)\n",
    "        \n",
    "    def introduce(self):\n",
    "        SchoolMember.introduce(self)\n",
    "        print(\"Marks : %d\"%self.marks)\n",
    "        \n",
    "s=Student(\"Ankit Gupta\",21,100)\n",
    "s.introduce()"
   ]
  },
  {
   "cell_type": "markdown",
   "metadata": {},
   "source": [
    "# Python - File Handling"
   ]
  },
  {
   "cell_type": "code",
   "execution_count": 2,
   "metadata": {},
   "outputs": [
    {
     "data": {
      "text/plain": [
       "'hello world\\nhello world\\nhello world\\n'"
      ]
     },
     "execution_count": 2,
     "metadata": {},
     "output_type": "execute_result"
    }
   ],
   "source": [
    "f=open('../Text Files/sample_file.txt','r')\n",
    "f.read()"
   ]
  },
  {
   "cell_type": "code",
   "execution_count": 119,
   "metadata": {},
   "outputs": [],
   "source": [
    "f.close()"
   ]
  },
  {
   "cell_type": "code",
   "execution_count": 3,
   "metadata": {},
   "outputs": [
    {
     "ename": "TypeError",
     "evalue": "write() argument must be str, not list",
     "output_type": "error",
     "traceback": [
      "\u001b[0;31m---------------------------------------------------------------------------\u001b[0m",
      "\u001b[0;31mTypeError\u001b[0m                                 Traceback (most recent call last)",
      "\u001b[0;32m<ipython-input-3-366676c6960a>\u001b[0m in \u001b[0;36m<module>\u001b[0;34m()\u001b[0m\n\u001b[1;32m      2\u001b[0m \u001b[0mcontent\u001b[0m\u001b[0;34m=\u001b[0m\u001b[0;34m\"hello world\\n\"\u001b[0m\u001b[0;34m\u001b[0m\u001b[0;34m\u001b[0m\u001b[0m\n\u001b[1;32m      3\u001b[0m \u001b[0ml\u001b[0m\u001b[0;34m=\u001b[0m\u001b[0;34m[\u001b[0m\u001b[0mcontent\u001b[0m\u001b[0;34m]\u001b[0m\u001b[0;34m*\u001b[0m\u001b[0;36m3\u001b[0m\u001b[0;34m\u001b[0m\u001b[0;34m\u001b[0m\u001b[0m\n\u001b[0;32m----> 4\u001b[0;31m \u001b[0mf\u001b[0m\u001b[0;34m.\u001b[0m\u001b[0mwrite\u001b[0m\u001b[0;34m(\u001b[0m\u001b[0ml\u001b[0m\u001b[0;34m)\u001b[0m\u001b[0;34m\u001b[0m\u001b[0;34m\u001b[0m\u001b[0m\n\u001b[0m",
      "\u001b[0;31mTypeError\u001b[0m: write() argument must be str, not list"
     ]
    }
   ],
   "source": [
    "f=open('../Text Files/sample_file.txt','w')\n",
    "content=\"hello world\\n\"\n",
    "l=[content]*3\n",
    "f.write(l)"
   ]
  },
  {
   "cell_type": "code",
   "execution_count": 4,
   "metadata": {},
   "outputs": [],
   "source": [
    "f=open('../Text Files/sample_file.txt','w')\n",
    "content=\"hello world\\n\"\n",
    "l=[content]*3\n",
    "f.writelines(l)\n",
    "f.close()"
   ]
  },
  {
   "cell_type": "markdown",
   "metadata": {},
   "source": [
    "## Reading from a file"
   ]
  },
  {
   "cell_type": "code",
   "execution_count": 5,
   "metadata": {},
   "outputs": [
    {
     "name": "stdout",
     "output_type": "stream",
     "text": [
      "hello world\n",
      "hello world\n",
      "hello world\n",
      "\n"
     ]
    }
   ],
   "source": [
    "f=open('../Text Files/sample_file.txt','r')\n",
    "print(f.read())\n",
    "f.close()"
   ]
  },
  {
   "cell_type": "code",
   "execution_count": 6,
   "metadata": {},
   "outputs": [
    {
     "name": "stdout",
     "output_type": "stream",
     "text": [
      "hello world\n",
      "\n",
      "hello world\n",
      "\n"
     ]
    }
   ],
   "source": [
    "f=open('../Text Files/sample_file.txt','r')\n",
    "print(f.readline())\n",
    "print(f.readline())\n",
    "f.close()"
   ]
  },
  {
   "cell_type": "code",
   "execution_count": 7,
   "metadata": {},
   "outputs": [
    {
     "name": "stdout",
     "output_type": "stream",
     "text": [
      "['hello world\\n', 'hello world\\n', 'hello world\\n']\n"
     ]
    }
   ],
   "source": [
    "f=open('../Text Files/sample_file.txt','r')\n",
    "print(f.readlines())\n",
    "f.close()"
   ]
  },
  {
   "cell_type": "code",
   "execution_count": 8,
   "metadata": {},
   "outputs": [
    {
     "name": "stdout",
     "output_type": "stream",
     "text": [
      "['hello world\\n', 'hello world\\n', 'hello world\\n']\n",
      "<class 'list'>\n"
     ]
    }
   ],
   "source": [
    "f=open('../Text Files/sample_file.txt','r')\n",
    "l=f.readlines()\n",
    "print(l)\n",
    "print(type(l))\n",
    "f.close()"
   ]
  },
  {
   "cell_type": "markdown",
   "metadata": {},
   "source": [
    "## Reading using With Open"
   ]
  },
  {
   "cell_type": "code",
   "execution_count": 9,
   "metadata": {},
   "outputs": [
    {
     "name": "stdout",
     "output_type": "stream",
     "text": [
      "False\n",
      "hello world\n",
      "hello world\n",
      "hello world\n",
      "\n"
     ]
    }
   ],
   "source": [
    "with open('../Text Files/sample_file.txt','r') as f:\n",
    "    print(f.closed)\n",
    "    print(f.read())"
   ]
  },
  {
   "cell_type": "markdown",
   "metadata": {},
   "source": [
    "## Automatically closes the file and this ensures that a cleanup is there"
   ]
  },
  {
   "cell_type": "code",
   "execution_count": 159,
   "metadata": {},
   "outputs": [
    {
     "name": "stdout",
     "output_type": "stream",
     "text": [
      "True\n"
     ]
    }
   ],
   "source": [
    "print(f.closed)"
   ]
  },
  {
   "cell_type": "markdown",
   "metadata": {},
   "source": [
    "## skips 5 character and now the file handler will point at 6th character"
   ]
  },
  {
   "cell_type": "code",
   "execution_count": 10,
   "metadata": {},
   "outputs": [
    {
     "name": "stdout",
     "output_type": "stream",
     "text": [
      " world\n",
      "hello world\n",
      "hello world\n",
      "\n"
     ]
    }
   ],
   "source": [
    "with open('../Text Files/sample_file.txt','r') as f:\n",
    "    f.seek(5)\n",
    "    print(f.read())"
   ]
  },
  {
   "cell_type": "markdown",
   "metadata": {},
   "source": [
    "# Python - Working with JSON"
   ]
  },
  {
   "cell_type": "code",
   "execution_count": 12,
   "metadata": {},
   "outputs": [
    {
     "name": "stdout",
     "output_type": "stream",
     "text": [
      "{'name': 'Learning Python', 'page': 320, 'authors': [{'name': 'A1', 'age': 30}, {'name': 'A2', 'age': 40}]}\n",
      "<class 'dict'>\n",
      "{'name': 'A2', 'age': 40}\n"
     ]
    }
   ],
   "source": [
    "import json\n",
    "\n",
    "#Python Object\n",
    "\n",
    "book ={\n",
    "\n",
    "    'name':'Learning Python',\n",
    "    'page':320,\n",
    "    'authors':\n",
    "    [\n",
    "        {\n",
    "            'name':'A1',\n",
    "            'age':30\n",
    "        },\n",
    "        {\n",
    "            'name':'A2',\n",
    "            'age':40\n",
    "        }\n",
    "    ]\n",
    "}\n",
    "print(book)\n",
    "print(type(book))\n",
    "print(book['authors'][1])"
   ]
  },
  {
   "cell_type": "code",
   "execution_count": 13,
   "metadata": {},
   "outputs": [],
   "source": [
    "with open('../Json Files/myjsonfile.json','w') as f:\n",
    "    json.dump(book,f)"
   ]
  },
  {
   "cell_type": "code",
   "execution_count": 14,
   "metadata": {},
   "outputs": [
    {
     "name": "stdout",
     "output_type": "stream",
     "text": [
      "{\"name\": \"Learning Python\", \"page\": 320, \"authors\": [{\"name\": \"A1\", \"age\": 30}, {\"name\": \"A2\", \"age\": 40}]}\n",
      "<class 'str'>\n"
     ]
    }
   ],
   "source": [
    "#dumps() Returns a string\n",
    "s=json.dumps(book)\n",
    "print(s)\n",
    "print(type(s))"
   ]
  },
  {
   "cell_type": "code",
   "execution_count": 15,
   "metadata": {},
   "outputs": [
    {
     "name": "stdout",
     "output_type": "stream",
     "text": [
      "{'name': 'Learning Python', 'page': 320, 'authors': [{'name': 'A1', 'age': 30}, {'name': 'A2', 'age': 40}]}\n",
      "<class 'dict'>\n"
     ]
    }
   ],
   "source": [
    "obj=json.loads(s)\n",
    "print(obj)\n",
    "print(type(obj))"
   ]
  },
  {
   "cell_type": "code",
   "execution_count": 16,
   "metadata": {},
   "outputs": [
    {
     "name": "stdout",
     "output_type": "stream",
     "text": [
      "{'name': 'Learning Python', 'page': 320, 'authors': [{'name': 'A1', 'age': 30}, {'name': 'A2', 'age': 40}]}\n",
      "<class 'dict'>\n"
     ]
    }
   ],
   "source": [
    "with open('../Json Files/myjsonfile.json','r') as f:\n",
    "    data=json.load(f)\n",
    "    print(data)\n",
    "    print(type(data))"
   ]
  },
  {
   "cell_type": "markdown",
   "metadata": {},
   "source": [
    "# Pretty print module"
   ]
  },
  {
   "cell_type": "markdown",
   "metadata": {},
   "source": [
    "## use pprint for print pretty text"
   ]
  },
  {
   "cell_type": "code",
   "execution_count": 17,
   "metadata": {},
   "outputs": [
    {
     "name": "stdout",
     "output_type": "stream",
     "text": [
      "{'authors': [{'age': 30, 'name': 'A1'}, {'age': 40, 'name': 'A2'}],\n",
      " 'name': 'Learning Python',\n",
      " 'page': 320}\n",
      "<class 'dict'>\n"
     ]
    }
   ],
   "source": [
    "import pprint\n",
    "\n",
    "with open('../Json Files/myjsonfile.json','r') as f:\n",
    "    data=json.load(f)\n",
    "    pprint.pprint(data)\n",
    "    pprint.pprint(type(data))"
   ]
  },
  {
   "cell_type": "markdown",
   "metadata": {},
   "source": [
    "# Python - Exception Handling"
   ]
  },
  {
   "cell_type": "code",
   "execution_count": 181,
   "metadata": {
    "scrolled": true
   },
   "outputs": [
    {
     "ename": "FileNotFoundError",
     "evalue": "[Errno 2] No such file or directory: 'somemissingfile.txt'",
     "output_type": "error",
     "traceback": [
      "\u001b[0;31m---------------------------------------------------------------------------\u001b[0m",
      "\u001b[0;31mFileNotFoundError\u001b[0m                         Traceback (most recent call last)",
      "\u001b[0;32m<ipython-input-181-aeb6e6c8e1e7>\u001b[0m in \u001b[0;36m<module>\u001b[0;34m\u001b[0m\n\u001b[0;32m----> 1\u001b[0;31m \u001b[0mf\u001b[0m\u001b[0;34m=\u001b[0m\u001b[0mopen\u001b[0m\u001b[0;34m(\u001b[0m\u001b[0;34m'somemissingfile.txt'\u001b[0m\u001b[0;34m,\u001b[0m\u001b[0;34m'r'\u001b[0m\u001b[0;34m)\u001b[0m\u001b[0;34m\u001b[0m\u001b[0;34m\u001b[0m\u001b[0m\n\u001b[0m",
      "\u001b[0;31mFileNotFoundError\u001b[0m: [Errno 2] No such file or directory: 'somemissingfile.txt'"
     ]
    }
   ],
   "source": [
    "f=open('somemissingfile.txt','r')"
   ]
  },
  {
   "cell_type": "code",
   "execution_count": 182,
   "metadata": {},
   "outputs": [
    {
     "name": "stdout",
     "output_type": "stream",
     "text": [
      "Something went wrong\n",
      "<class 'Exception'>\n"
     ]
    }
   ],
   "source": [
    "try:\n",
    "    f=open('somemissingfile.txt','r')\n",
    "except:\n",
    "    print(\"Something went wrong\")\n",
    "    print(Exception)"
   ]
  },
  {
   "cell_type": "code",
   "execution_count": 190,
   "metadata": {},
   "outputs": [
    {
     "name": "stdout",
     "output_type": "stream",
     "text": [
      "Something went wrong\n",
      "<class 'Exception'>\n"
     ]
    }
   ],
   "source": [
    "try:\n",
    "    f=open('somemissingfile.txt','r')\n",
    "except Exception:\n",
    "    print(\"Something went wrong\")\n",
    "    print(Exception)"
   ]
  },
  {
   "cell_type": "code",
   "execution_count": 191,
   "metadata": {},
   "outputs": [
    {
     "name": "stdout",
     "output_type": "stream",
     "text": [
      "File does not exist please reupload\n",
      "<class 'FileNotFoundError'>\n"
     ]
    }
   ],
   "source": [
    "try:\n",
    "    f=open('somemissingfile.txt','r')\n",
    "except FileNotFoundError:\n",
    "    print(\"File does not exist please reupload\")\n",
    "    print(FileNotFoundError)\n",
    "except Exception:\n",
    "    print(\"Something went wrong\")\n",
    "    print(Exception)"
   ]
  },
  {
   "cell_type": "code",
   "execution_count": 192,
   "metadata": {},
   "outputs": [
    {
     "name": "stdout",
     "output_type": "stream",
     "text": [
      "Something went wrong\n",
      "<class 'Exception'>\n"
     ]
    }
   ],
   "source": [
    "try:\n",
    "    a=10/0\n",
    "    f=open('somemissingfile.txt','r')\n",
    "except FileNotFoundError:\n",
    "    print(\"File does not exist please reupload\")\n",
    "    print(FileNotFoundError)\n",
    "except Exception:\n",
    "    print(\"Something went wrong\")\n",
    "    print(Exception)"
   ]
  },
  {
   "cell_type": "code",
   "execution_count": 1,
   "metadata": {},
   "outputs": [
    {
     "name": "stdout",
     "output_type": "stream",
     "text": [
      "b is not defined yet\n",
      "<class 'NameError'>\n"
     ]
    }
   ],
   "source": [
    "try:\n",
    "    a=b\n",
    "    f=open('somemissingfile.txt','r')\n",
    "except FileNotFoundError:\n",
    "    print(\"File does not exist please reupload\")\n",
    "    print(FileNotFoundError)\n",
    "except NameError:\n",
    "    print(\"b is not defined yet\")\n",
    "    print(NameError)\n",
    "except Exception:\n",
    "    print(\"Something went wrong\")\n",
    "    print(Exception)"
   ]
  },
  {
   "cell_type": "code",
   "execution_count": 3,
   "metadata": {},
   "outputs": [
    {
     "name": "stdout",
     "output_type": "stream",
     "text": [
      "Enter your name : Ankit Gupta\n",
      "Try executed without any error\n",
      "Your name is : Ankit Gupta\n",
      "Form submitted succesfully\n"
     ]
    }
   ],
   "source": [
    "try:\n",
    "    a=input(\"Enter your name : \")\n",
    "except FileNotFoundError:\n",
    "    print(\"File does not exist please reupload\")\n",
    "    print(FileNotFoundError)\n",
    "except NameError:\n",
    "    print(\"b is not defined yet\")\n",
    "    print(NameError)\n",
    "except Exception:\n",
    "    print(\"Something went wrong\")\n",
    "    print(Exception)\n",
    "else:\n",
    "    print(\"Try executed without any error\")\n",
    "    print(\"Your name is : \"+a)\n",
    "    print(\"Form submitted succesfully\")"
   ]
  },
  {
   "cell_type": "code",
   "execution_count": 8,
   "metadata": {},
   "outputs": [
    {
     "name": "stdout",
     "output_type": "stream",
     "text": [
      "Enter your name : Ankit\n",
      "Try executed without any error\n",
      "Your name is : Ankit\n",
      "Form submitted succesfully\n",
      "It will always execute\n"
     ]
    }
   ],
   "source": [
    "try:\n",
    "    a=input(\"Enter your name : \")\n",
    "    if len(a)<3:\n",
    "        raise Exception\n",
    "except FileNotFoundError:\n",
    "    #this is specific exception\n",
    "    print(\"File does not exist please reupload\")\n",
    "    print(FileNotFoundError)\n",
    "except NameError:\n",
    "    #this is specific exception\n",
    "    print(\"b is not defined yet\")\n",
    "    print(NameError)\n",
    "except Exception:\n",
    "    #this is general exception\n",
    "    print(\"Please enter a valid name\")\n",
    "    print(Exception)\n",
    "else:\n",
    "    #this block will execute only when try is executed without any error\n",
    "    print(\"Try executed without any error\")\n",
    "    print(\"Your name is : \"+a)\n",
    "    print(\"Form submitted succesfully\")\n",
    "finally:\n",
    "    print(\"It will always execute\")"
   ]
  },
  {
   "cell_type": "code",
   "execution_count": 6,
   "metadata": {},
   "outputs": [
    {
     "name": "stdout",
     "output_type": "stream",
     "text": [
      "Enter your name : an\n",
      "Please enter a valid name\n",
      "<class 'Exception'>\n",
      "It will always execute\n"
     ]
    }
   ],
   "source": [
    "try:\n",
    "    a=input(\"Enter your name : \")\n",
    "    if len(a)<3:\n",
    "        raise Exception\n",
    "except FileNotFoundError:\n",
    "    print(\"File does not exist please reupload\")\n",
    "    print(FileNotFoundError)\n",
    "except NameError:\n",
    "    print(\"b is not defined yet\")\n",
    "    print(NameError)\n",
    "except Exception:\n",
    "    print(\"Please enter a valid name\")\n",
    "    print(Exception)\n",
    "else:\n",
    "    print(\"Try executed without any error\")\n",
    "    print(\"Your name is : \"+a)\n",
    "    print(\"Form submitted succesfully\")\n",
    "finally:\n",
    "    print(\"It will always execute\")"
   ]
  }
 ],
 "metadata": {
  "kernelspec": {
   "display_name": "Python 3",
   "language": "python",
   "name": "python3"
  },
  "language_info": {
   "codemirror_mode": {
    "name": "ipython",
    "version": 3
   },
   "file_extension": ".py",
   "mimetype": "text/x-python",
   "name": "python",
   "nbconvert_exporter": "python",
   "pygments_lexer": "ipython3",
   "version": "3.6.7"
  }
 },
 "nbformat": 4,
 "nbformat_minor": 2
}
