{
 "cells": [
  {
   "cell_type": "markdown",
   "metadata": {},
   "source": [
    "# Multivariate Regression - Boston Housing Prices"
   ]
  },
  {
   "cell_type": "code",
   "execution_count": 43,
   "metadata": {},
   "outputs": [
    {
     "name": "stdout",
     "output_type": "stream",
     "text": [
      "(506, 13) (506,)\n"
     ]
    }
   ],
   "source": [
    "from sklearn.datasets import load_boston\n",
    "boston=load_boston()\n",
    "X=boston.data\n",
    "Y=boston.target\n",
    "print(X.shape,Y.shape)"
   ]
  },
  {
   "cell_type": "code",
   "execution_count": 44,
   "metadata": {},
   "outputs": [],
   "source": [
    "from sklearn.linear_model import LinearRegression\n",
    "from sklearn.model_selection import train_test_split"
   ]
  },
  {
   "cell_type": "code",
   "execution_count": 45,
   "metadata": {},
   "outputs": [
    {
     "name": "stdout",
     "output_type": "stream",
     "text": [
      "(404, 13) (102, 13)\n"
     ]
    }
   ],
   "source": [
    "X_train,X_test,Y_train,Y_test=train_test_split(X,Y,test_size=0.2)\n",
    "print(X_train.shape,X_test.shape)"
   ]
  },
  {
   "cell_type": "markdown",
   "metadata": {},
   "source": [
    "# Train our linear regression model"
   ]
  },
  {
   "cell_type": "code",
   "execution_count": 46,
   "metadata": {},
   "outputs": [
    {
     "name": "stdout",
     "output_type": "stream",
     "text": [
      "LinearRegression(copy_X=True, fit_intercept=True, n_jobs=None,\n",
      "         normalize=False)\n"
     ]
    }
   ],
   "source": [
    "lr=LinearRegression()\n",
    "print(lr)"
   ]
  },
  {
   "cell_type": "code",
   "execution_count": 47,
   "metadata": {},
   "outputs": [
    {
     "name": "stdout",
     "output_type": "stream",
     "text": [
      "LinearRegression(copy_X=True, fit_intercept=True, n_jobs=None, normalize=True)\n"
     ]
    }
   ],
   "source": [
    "lr=LinearRegression(normalize=True)\n",
    "print(lr)"
   ]
  },
  {
   "cell_type": "code",
   "execution_count": 48,
   "metadata": {},
   "outputs": [
    {
     "name": "stdout",
     "output_type": "stream",
     "text": [
      "LinearRegression(copy_X=True, fit_intercept=True, n_jobs=None, normalize=True)\n",
      "[-1.04415256e-01  4.52575460e-02 -5.95842386e-03  2.36658919e+00\n",
      " -1.71718461e+01  3.69808111e+00 -1.11134570e-03 -1.43491202e+00\n",
      "  2.97366496e-01 -1.22681572e-02 -9.77523914e-01  8.64981284e-03\n",
      " -4.87635206e-01]\n",
      "37.35257668464368\n"
     ]
    }
   ],
   "source": [
    "# Step I : Create an object\n",
    "lr=LinearRegression(normalize=True)\n",
    "print(lr)\n",
    "\n",
    "# Step II : Training\n",
    "lr.fit(X_train,Y_train)\n",
    "\n",
    "# Step III : Output parameters\n",
    "print(lr.coef_)\n",
    "print(lr.intercept_)"
   ]
  },
  {
   "cell_type": "code",
   "execution_count": 37,
   "metadata": {},
   "outputs": [],
   "source": [
    "LinearRegression?"
   ]
  },
  {
   "cell_type": "markdown",
   "metadata": {},
   "source": [
    "# Accuracy of Regression"
   ]
  },
  {
   "cell_type": "code",
   "execution_count": 49,
   "metadata": {},
   "outputs": [
    {
     "name": "stdout",
     "output_type": "stream",
     "text": [
      "Training score 0.7429\n",
      "Testing score 0.7229\n"
     ]
    }
   ],
   "source": [
    "print(\"Training score %.4f\"%lr.score(X_train,Y_train))\n",
    "print(\"Testing score %.4f\"%lr.score(X_test,Y_test))"
   ]
  },
  {
   "cell_type": "markdown",
   "metadata": {},
   "source": [
    "# Regression - Underfitting Vs Over fitting, Generating Non-Linear Boundaries"
   ]
  },
  {
   "cell_type": "code",
   "execution_count": 1,
   "metadata": {},
   "outputs": [],
   "source": [
    "import pandas as pd\n",
    "import numpy as np\n",
    "import matplotlib.pyplot as plt "
   ]
  },
  {
   "cell_type": "code",
   "execution_count": 2,
   "metadata": {},
   "outputs": [],
   "source": [
    "dfx=pd.read_csv('../Csv Files/weightedX.csv')\n",
    "dfy=pd.read_csv('../Csv Files/weightedY.csv')\n",
    "\n",
    "x=dfx.values\n",
    "y=dfy.values\n",
    "\n",
    "x=x.reshape((-1,1))\n",
    "y=y.reshape((-1,1))\n",
    "\n",
    "X=(x-x.mean())/x.std()\n",
    "Y=y"
   ]
  },
  {
   "cell_type": "code",
   "execution_count": 3,
   "metadata": {},
   "outputs": [
    {
     "data": {
      "image/png": "[encoded data removed]",
      "text/plain": [
       "<Figure size 432x288 with 1 Axes>"
      ]
     },
     "metadata": {},
     "output_type": "display_data"
    }
   ],
   "source": [
    "plt.scatter(X,Y)\n",
    "plt.show()"
   ]
  },
  {
   "cell_type": "code",
   "execution_count": 58,
   "metadata": {},
   "outputs": [],
   "source": [
    "from sklearn.linear_model import LinearRegression\n",
    "model=LinearRegression()"
   ]
  },
  {
   "cell_type": "markdown",
   "metadata": {},
   "source": [
    "# Training"
   ]
  },
  {
   "cell_type": "code",
   "execution_count": 59,
   "metadata": {},
   "outputs": [
    {
     "data": {
      "text/plain": [
       "LinearRegression(copy_X=True, fit_intercept=True, n_jobs=None,\n",
       "         normalize=False)"
      ]
     },
     "execution_count": 59,
     "metadata": {},
     "output_type": "execute_result"
    }
   ],
   "source": [
    "model.fit(X,Y)"
   ]
  },
  {
   "cell_type": "markdown",
   "metadata": {},
   "source": [
    "# Predictions"
   ]
  },
  {
   "cell_type": "code",
   "execution_count": 60,
   "metadata": {},
   "outputs": [
    {
     "name": "stdout",
     "output_type": "stream",
     "text": [
      "[[0.84167029]]\n",
      "[1.02986178]\n"
     ]
    }
   ],
   "source": [
    "output=model.predict(X)\n",
    "# Parameter Learnt\n",
    "coeff=model.coef_\n",
    "bias=model.intercept_\n",
    "print(coeff)\n",
    "print(bias)"
   ]
  },
  {
   "cell_type": "code",
   "execution_count": 61,
   "metadata": {},
   "outputs": [
    {
     "data": {
      "text/plain": [
       "0.5141377991406518"
      ]
     },
     "execution_count": 61,
     "metadata": {},
     "output_type": "execute_result"
    }
   ],
   "source": [
    "model.score(X,Y)"
   ]
  },
  {
   "cell_type": "code",
   "execution_count": 64,
   "metadata": {},
   "outputs": [
    {
     "data": {
      "image/png": "[encoded data removed]",
      "text/plain": [
       "<Figure size 432x288 with 1 Axes>"
      ]
     },
     "metadata": {
      "needs_background": "light"
     },
     "output_type": "display_data"
    }
   ],
   "source": [
    "# Visualise\n",
    "plt.scatter(X,Y,label='Data')\n",
    "plt.plot(X,output,label='Prediction',color='Orange')\n",
    "plt.legend()\n",
    "plt.title('Underfitting')\n",
    "plt.show()"
   ]
  },
  {
   "cell_type": "code",
   "execution_count": 4,
   "metadata": {},
   "outputs": [
    {
     "name": "stdout",
     "output_type": "stream",
     "text": [
      "(99, 2)\n",
      "(99,)\n"
     ]
    }
   ],
   "source": [
    "dfx=pd.read_csv('../Csv Files/weightedX.csv')\n",
    "dfy=pd.read_csv('../Csv Files/weightedY.csv')\n",
    "\n",
    "x=dfx.values\n",
    "y=dfy.values\n",
    "\n",
    "x=x.reshape((-1,))\n",
    "y=y.reshape((-1,))\n",
    "\n",
    "X=(x-x.mean())/x.std()\n",
    "Y=y\n",
    "\n",
    "x1=X\n",
    "x2=x1**2\n",
    "\n",
    "X=np.stack((x1,x2),axis=1)\n",
    "print(X.shape)\n",
    "print(Y.shape)"
   ]
  },
  {
   "cell_type": "code",
   "execution_count": 5,
   "metadata": {},
   "outputs": [
    {
     "data": {
      "image/png": "[encoded data removed]",
      "text/plain": [
       "<Figure size 432x288 with 1 Axes>"
      ]
     },
     "metadata": {
      "needs_background": "light"
     },
     "output_type": "display_data"
    }
   ],
   "source": [
    "plt.scatter(X[:,0],Y)\n",
    "plt.show()"
   ]
  },
  {
   "cell_type": "code",
   "execution_count": 8,
   "metadata": {},
   "outputs": [
    {
     "name": "stdout",
     "output_type": "stream",
     "text": [
      "[ 0.7605872  -0.68708745]\n",
      "1.7169492241159656\n"
     ]
    },
    {
     "data": {
      "image/png": "[encoded data removed]",
      "text/plain": [
       "<Figure size 432x288 with 1 Axes>"
      ]
     },
     "metadata": {
      "needs_background": "light"
     },
     "output_type": "display_data"
    }
   ],
   "source": [
    "from sklearn.linear_model import LinearRegression\n",
    "model=LinearRegression()\n",
    "\n",
    "model.fit(X,Y)\n",
    "\n",
    "output=model.predict(X)\n",
    "# Parameter Learnt\n",
    "coeff=model.coef_\n",
    "bias=model.intercept_\n",
    "print(coeff)\n",
    "print(bias)\n",
    "\n",
    "model.score(X,Y)\n",
    "\n",
    "# Visualise\n",
    "plt.scatter(X[:,0],Y,label='Data')\n",
    "plt.scatter(X[:,0],output,label='Prediction',color='Orange')\n",
    "plt.legend()\n",
    "plt.title('Underfitting')\n",
    "plt.show()"
   ]
  },
  {
   "cell_type": "markdown",
   "metadata": {},
   "source": [
    "# Gradient Descent Variants - Stochastic vs Mini Batch"
   ]
  },
  {
   "cell_type": "code",
   "execution_count": 9,
   "metadata": {},
   "outputs": [],
   "source": [
    "import pandas as pd\n",
    "import numpy as np\n",
    "import matplotlib.pyplot as plt"
   ]
  },
  {
   "cell_type": "code",
   "execution_count": 10,
   "metadata": {},
   "outputs": [
    {
     "name": "stdout",
     "output_type": "stream",
     "text": [
      "(5000,) (5000,)\n"
     ]
    }
   ],
   "source": [
    "#Data Processing and Reshaping\n",
    "from sklearn.datasets import make_regression\n",
    "x,y = make_regression(n_features=1,n_samples=5000,bias=4,noise=15)\n",
    "\n",
    "x = x.reshape((-1,))\n",
    "y = y.reshape((-1,))\n",
    "\n",
    "print(x.shape,y.shape)"
   ]
  },
  {
   "cell_type": "code",
   "execution_count": 11,
   "metadata": {},
   "outputs": [
    {
     "data": {
      "image/png": "[encoded data removed]",
      "text/plain": [
       "<Figure size 432x288 with 1 Axes>"
      ]
     },
     "metadata": {
      "needs_background": "light"
     },
     "output_type": "display_data"
    }
   ],
   "source": [
    "# Normalisation \n",
    "#plt.scatter(x,y)\n",
    "x = (x - x.mean())/x.std()\n",
    "plt.scatter(x,y,color='orange')\n",
    "plt.xlabel(\"Acidity\")\n",
    "plt.ylabel(\"Density\")\n",
    "plt.title(\"Milk Acidity vs Density Plot\")\n",
    "plt.show()"
   ]
  },
  {
   "cell_type": "code",
   "execution_count": 15,
   "metadata": {},
   "outputs": [
    {
     "data": {
      "image/png": "[encoded data removed]",
      "text/plain": [
       "<Figure size 432x288 with 1 Axes>"
      ]
     },
     "metadata": {
      "needs_background": "light"
     },
     "output_type": "display_data"
    }
   ],
   "source": [
    "# Linear Regression \n",
    "def hypothesis(x,theta):\n",
    "    return theta[0] + x*theta[1]\n",
    "\n",
    "def error(X,Y,theta):\n",
    "    m = Y.shape[0]\n",
    "    total_e = 0\n",
    "    \n",
    "    for i in range(m):\n",
    "        h = hypothesis(X[i],theta)\n",
    "        e = (Y[i] - h)**2\n",
    "        total_e += e\n",
    "        \n",
    "    return total_e/2\n",
    "\n",
    "learning_ratelearning_ratedef gradient(X,Y,theta):\n",
    "    \n",
    "    m = Y.shape[0]\n",
    "    grad = np.zeros((2,))\n",
    "    \n",
    "    for i in range(m):\n",
    "        h = hypothesis(X[i],theta)\n",
    "        grad[0] += (Y[i]-h)\n",
    "        grad[1] += (Y[i] - h)*X[i]\n",
    "        \n",
    "    \n",
    "    return grad*.5\n",
    "\n",
    "def batch_gradient(X,Y,theta,batch_size=1):\n",
    "    \n",
    "    m = Y.shape[0]\n",
    "    indices = np.arange(m)\n",
    "    np.random.shuffle(indices)\n",
    "    indices = indices[:batch_size]\n",
    "    grad = np.zeros((2,))\n",
    "    for i in indices:\n",
    "        h = hypothesis(X[i],theta)\n",
    "        grad[0] += (Y[i]-h)\n",
    "        grad[1] += (Y[i] - h)*X[i]\n",
    "    \n",
    "    return grad*0.5\n",
    "        \n",
    "    \n",
    "\n",
    "def gradientDescent(X,Y,learning_rate=0.1):\n",
    "    theta = np.zeros((2,))\n",
    "    \n",
    "    e = error(X,Y,theta)\n",
    "    de =e\n",
    "    error_list = [e]\n",
    "    itr = 0\n",
    "    \n",
    "    while(itr<=400):\n",
    "        grad = batch_gradient(X,Y,theta)\n",
    "        theta = theta + learning_rate*grad\n",
    "        ne = error(X,Y,theta)\n",
    "        \n",
    "        if(itr%10):\n",
    "            error_list.append(ne)\n",
    "        de = ne  - e\n",
    "        e = ne\n",
    "        itr += 1\n",
    "    \n",
    "    return error_list,theta\n",
    "\n",
    "\n",
    "e,theta = gradientDescent(x,y)\n",
    "\n",
    "plt.plot(e)\n",
    "plt.show()"
   ]
  },
  {
   "cell_type": "code",
   "execution_count": 16,
   "metadata": {},
   "outputs": [
    {
     "data": {
      "image/png": "[encoded data removed]",
      "text/plain": [
       "<Figure size 432x288 with 1 Axes>"
      ]
     },
     "metadata": {
      "needs_background": "light"
     },
     "output_type": "display_data"
    }
   ],
   "source": [
    "def gradientDescent(X,Y,learning_rate=0.01):\n",
    "    theta = np.zeros((2,))\n",
    "    \n",
    "    e = error(X,Y,theta)\n",
    "    de =e\n",
    "    error_list = [e]\n",
    "    itr = 0\n",
    "    \n",
    "    while(itr<=400):\n",
    "        grad = batch_gradient(X,Y,theta)\n",
    "        theta = theta + learning_rate*grad\n",
    "        ne = error(X,Y,theta)\n",
    "        \n",
    "        if(itr%10):\n",
    "            error_list.append(ne)\n",
    "        de = ne  - e\n",
    "        e = ne\n",
    "        itr += 1\n",
    "    \n",
    "    return error_list,theta\n",
    "\n",
    "\n",
    "e,theta = gradientDescent(x,y)\n",
    "\n",
    "plt.plot(e)\n",
    "plt.show()"
   ]
  },
  {
   "cell_type": "code",
   "execution_count": 18,
   "metadata": {},
   "outputs": [
    {
     "data": {
      "image/png": "[encoded data removed]",
      "text/plain": [
       "<Figure size 432x288 with 1 Axes>"
      ]
     },
     "metadata": {
      "needs_background": "light"
     },
     "output_type": "display_data"
    }
   ],
   "source": [
    "def batch_gradient(X,Y,theta,batch_size=2):\n",
    "    \n",
    "    m = Y.shape[0]\n",
    "    indices = np.arange(m)\n",
    "    np.random.shuffle(indices)\n",
    "    indices = indices[:batch_size]\n",
    "    grad = np.zeros((2,))\n",
    "    for i in indices:\n",
    "        h = hypothesis(X[i],theta)\n",
    "        grad[0] += (Y[i]-h)\n",
    "        grad[1] += (Y[i] - h)*X[i]\n",
    "    \n",
    "    return grad*0.5\n",
    "        \n",
    "    \n",
    "\n",
    "def gradientDescent(X,Y,learning_rate=0.01):\n",
    "    theta = np.zeros((2,))\n",
    "    \n",
    "    e = error(X,Y,theta)\n",
    "    de =e\n",
    "    error_list = [e]\n",
    "    itr = 0\n",
    "    \n",
    "    while(itr<=400):\n",
    "        grad = batch_gradient(X,Y,theta)\n",
    "        theta = theta + learning_rate*grad\n",
    "        ne = error(X,Y,theta)\n",
    "        \n",
    "        if(itr%10):\n",
    "            error_list.append(ne)\n",
    "        de = ne  - e\n",
    "        e = ne\n",
    "        itr += 1\n",
    "    \n",
    "    return error_list,theta\n",
    "\n",
    "\n",
    "e,theta = gradientDescent(x,y)\n",
    "\n",
    "plt.plot(e)\n",
    "plt.show()"
   ]
  },
  {
   "cell_type": "code",
   "execution_count": 19,
   "metadata": {},
   "outputs": [
    {
     "data": {
      "image/png": "[encoded data removed]",
      "text/plain": [
       "<Figure size 432x288 with 1 Axes>"
      ]
     },
     "metadata": {
      "needs_background": "light"
     },
     "output_type": "display_data"
    }
   ],
   "source": [
    "def batch_gradient(X,Y,theta,batch_size=100):\n",
    "    \n",
    "    m = Y.shape[0]\n",
    "    indices = np.arange(m)\n",
    "    np.random.shuffle(indices)\n",
    "    indices = indices[:batch_size]\n",
    "    grad = np.zeros((2,))\n",
    "    for i in indices:\n",
    "        h = hypothesis(X[i],theta)\n",
    "        grad[0] += (Y[i]-h)\n",
    "        grad[1] += (Y[i] - h)*X[i]\n",
    "    \n",
    "    return grad*0.5\n",
    "        \n",
    "    \n",
    "\n",
    "def gradientDescent(X,Y,learning_rate=0.01):\n",
    "    theta = np.zeros((2,))\n",
    "    \n",
    "    e = error(X,Y,theta)\n",
    "    de =e\n",
    "    error_list = [e]\n",
    "    itr = 0\n",
    "    \n",
    "    while(itr<=400):\n",
    "        grad = batch_gradient(X,Y,theta)\n",
    "        theta = theta + learning_rate*grad\n",
    "        ne = error(X,Y,theta)\n",
    "        \n",
    "        if(itr%10):\n",
    "            error_list.append(ne)\n",
    "        de = ne  - e\n",
    "        e = ne\n",
    "        itr += 1\n",
    "    \n",
    "    return error_list,theta\n",
    "\n",
    "\n",
    "e,theta = gradientDescent(x,y)\n",
    "\n",
    "plt.plot(e)\n",
    "plt.show()"
   ]
  },
  {
   "cell_type": "code",
   "execution_count": 20,
   "metadata": {},
   "outputs": [
    {
     "data": {
      "image/png": "[encoded data removed]",
      "text/plain": [
       "<Figure size 432x288 with 1 Axes>"
      ]
     },
     "metadata": {
      "needs_background": "light"
     },
     "output_type": "display_data"
    }
   ],
   "source": [
    "def batch_gradient(X,Y,theta,batch_size=100):\n",
    "    \n",
    "    m = Y.shape[0]\n",
    "    indices = np.arange(m)\n",
    "    np.random.shuffle(indices)\n",
    "    indices = indices[:batch_size]\n",
    "    grad = np.zeros((2,))\n",
    "    for i in indices:\n",
    "        h = hypothesis(X[i],theta)\n",
    "        grad[0] += (Y[i]-h)\n",
    "        grad[1] += (Y[i] - h)*X[i]\n",
    "    \n",
    "    return grad*0.5\n",
    "        \n",
    "    \n",
    "\n",
    "def gradientDescent(X,Y,learning_rate=0.001):\n",
    "    theta = np.zeros((2,))\n",
    "    \n",
    "    e = error(X,Y,theta)\n",
    "    de =e\n",
    "    error_list = [e]\n",
    "    itr = 0\n",
    "    \n",
    "    while(itr<=400):\n",
    "        grad = batch_gradient(X,Y,theta)\n",
    "        theta = theta + learning_rate*grad\n",
    "        ne = error(X,Y,theta)\n",
    "        \n",
    "        if(itr%10):\n",
    "            error_list.append(ne)\n",
    "        de = ne  - e\n",
    "        e = ne\n",
    "        itr += 1\n",
    "    \n",
    "    return error_list,theta\n",
    "\n",
    "\n",
    "e,theta = gradientDescent(x,y)\n",
    "\n",
    "plt.plot(e)\n",
    "plt.show()"
   ]
  },
  {
   "cell_type": "code",
   "execution_count": 14,
   "metadata": {},
   "outputs": [
    {
     "data": {
      "image/png": "[encoded data removed]",
      "text/plain": [
       "<Figure size 432x288 with 1 Axes>"
      ]
     },
     "metadata": {
      "needs_background": "light"
     },
     "output_type": "display_data"
    }
   ],
   "source": [
    "def drawLine(theta):\n",
    "    x_pts = np.linspace(-4,4,10)\n",
    "    y_pts = hypothesis(x_pts,theta)\n",
    "\n",
    "    plt.scatter(x,y)\n",
    "    plt.plot(x_pts,y_pts,color='black')\n",
    "\n",
    "drawLine(theta)"
   ]
  },
  {
   "cell_type": "markdown",
   "metadata": {},
   "source": [
    "# K-Fold Cross Validation"
   ]
  },
  {
   "cell_type": "code",
   "execution_count": 21,
   "metadata": {},
   "outputs": [
    {
     "name": "stdout",
     "output_type": "stream",
     "text": [
      "Training score 0.7581\n",
      "Testing score 0.6413\n"
     ]
    }
   ],
   "source": [
    "from sklearn.datasets import load_boston\n",
    "boston=load_boston()\n",
    "X=boston.data\n",
    "Y=boston.target\n",
    "\n",
    "from sklearn.linear_model import LinearRegression\n",
    "from sklearn.model_selection import train_test_split\n",
    "\n",
    "X_train,X_test,Y_train,Y_test=train_test_split(X,Y,test_size=0.2)\n",
    "\n",
    "lr=LinearRegression(normalize=True)\n",
    "lr.fit(X_train,Y_train)\n",
    "\n",
    "print(\"Training score %.4f\"%lr.score(X_train,Y_train))\n",
    "print(\"Testing score %.4f\"%lr.score(X_test,Y_test))"
   ]
  },
  {
   "cell_type": "code",
   "execution_count": 22,
   "metadata": {},
   "outputs": [
    {
     "name": "stdout",
     "output_type": "stream",
     "text": [
      "[0.8312133  0.78287362 0.6295637  0.64968135 0.67094585 0.83969462\n",
      " 0.81724508 0.84168262 0.62758355 0.59655142]\n",
      "0.728703511161933\n",
      "0.09667685618148698\n"
     ]
    }
   ],
   "source": [
    "from sklearn.model_selection import cross_val_score\n",
    "\n",
    "scores=cross_val_score(lr,X_train,Y_train,cv=10,scoring='r2')\n",
    "print(scores)\n",
    "print(scores.mean())\n",
    "print(scores.std())"
   ]
  },
  {
   "cell_type": "code",
   "execution_count": 24,
   "metadata": {},
   "outputs": [
    {
     "name": "stdout",
     "output_type": "stream",
     "text": [
      "[-11.26934298 -16.22374274 -35.53632688 -31.3808239  -25.99509486\n",
      " -15.50719574 -17.07086192 -17.34057237 -21.34206699 -36.85901146]\n",
      "-22.85250398295124\n",
      "8.58966574175555\n"
     ]
    }
   ],
   "source": [
    "scores=cross_val_score(lr,X_train,Y_train,cv=10,scoring='neg_mean_squared_error')\n",
    "print(scores)\n",
    "print(scores.mean())\n",
    "print(scores.std())"
   ]
  }
 ],
 "metadata": {
  "kernelspec": {
   "display_name": "Python 3",
   "language": "python",
   "name": "python3"
  },
  "language_info": {
   "codemirror_mode": {
    "name": "ipython",
    "version": 3
   },
   "file_extension": ".py",
   "mimetype": "text/x-python",
   "name": "python",
   "nbconvert_exporter": "python",
   "pygments_lexer": "ipython3",
   "version": "3.6.7"
  }
 },
 "nbformat": 4,
 "nbformat_minor": 2
}
